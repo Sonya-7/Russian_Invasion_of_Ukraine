{
 "cells": [
  {
   "cell_type": "markdown",
   "metadata": {},
   "source": [
    "\n",
    "## Assessment of damage connected with Russia's invasion of Ukrain"
   ]
  },
  {
   "cell_type": "code",
   "execution_count": 1,
   "metadata": {},
   "outputs": [],
   "source": [
    "import pandas as pd\n",
    "russian_personnel = pd.read_csv('russia_losses_personnel.csv')\n",
    "russian_equipment = pd.read_csv('russia_losses_equipment.csv')"
   ]
  },
  {
   "cell_type": "code",
   "execution_count": null,
   "metadata": {},
   "outputs": [],
   "source": [
    "russian_personnel"
   ]
  },
  {
   "cell_type": "code",
   "execution_count": null,
   "metadata": {},
   "outputs": [],
   "source": [
    "russian_equipment"
   ]
  },
  {
   "cell_type": "markdown",
   "metadata": {},
   "source": [
    "### Problem 1\n",
    "##### Where is the war happening?"
   ]
  },
  {
   "cell_type": "code",
   "execution_count": null,
   "metadata": {},
   "outputs": [],
   "source": [
    "from IPython.core.display import display\n",
    "from PIL import Image\n",
    "import urllib.request\n",
    "\n",
    "# Downloading dataset\n",
    "urllib.request.urlretrieve(\"https://cdn.vox-cdn.com/uploads/chorus_asset/file/23351348/DraftUkraineCoTMarch28_2022.png\", \"study_of_war.jpg\")\n",
    "\n",
    "# Read image\n",
    "img = Image.open('Study_of_war.jpg')\n",
    "\n",
    "# Display Image specs\n",
    "display(img)"
   ]
  },
  {
   "cell_type": "markdown",
   "metadata": {},
   "source": [
    "### Problem 2\n",
    "\n",
    "##### Find the total number of Prisoners of War per day recorded in the Personel table.\n"
   ]
  },
  {
   "cell_type": "code",
   "execution_count": null,
   "metadata": {},
   "outputs": [],
   "source": [
    "russian_personnel.plot(x='date', y='POW', kind='line', color='black')\n",
    "\n",
    "p = sum(russian_personnel['POW'])\n",
    "print(f'Total Prisoners of War as at 03/31/2022 is {p}')"
   ]
  },
  {
   "cell_type": "markdown",
   "metadata": {},
   "source": [
    "### Problem 3\n",
    "\n",
    "##### List the total equipment lost per day and equipment type.\n"
   ]
  },
  {
   "cell_type": "code",
   "execution_count": 26,
   "metadata": {},
   "outputs": [
    {
     "ename": "ValueError",
     "evalue": "Mime type rendering requires nbformat>=4.2.0 but it is not installed",
     "output_type": "error",
     "traceback": [
      "\u001b[1;31m---------------------------------------------------------------------------\u001b[0m",
      "\u001b[1;31mValueError\u001b[0m                                Traceback (most recent call last)",
      "\u001b[1;32mc:\\Users\\SONYA\\OneDrive - Huntington University\\Documents\\GitHub\\Russian_invasion_of_Ukrain\\Russian Invasion of Ukrain.ipynb Cell 10'\u001b[0m in \u001b[0;36m<cell line: 39>\u001b[1;34m()\u001b[0m\n\u001b[0;32m     <a href='vscode-notebook-cell:/c%3A/Users/SONYA/OneDrive%20-%20Huntington%20University/Documents/GitHub/Russian_invasion_of_Ukrain/Russian%20Invasion%20of%20Ukrain.ipynb#ch0000009?line=34'>35</a>\u001b[0m fig\u001b[39m.\u001b[39madd_trace(go\u001b[39m.\u001b[39mScatter(x\u001b[39m=\u001b[39mx, y\u001b[39m=\u001b[39my12, mode\u001b[39m=\u001b[39m\u001b[39m'\u001b[39m\u001b[39mlines+markers\u001b[39m\u001b[39m'\u001b[39m, name\u001b[39m=\u001b[39m\u001b[39m'\u001b[39m\u001b[39mMobile SRBM System\u001b[39m\u001b[39m'\u001b[39m))\n\u001b[0;32m     <a href='vscode-notebook-cell:/c%3A/Users/SONYA/OneDrive%20-%20Huntington%20University/Documents/GitHub/Russian_invasion_of_Ukrain/Russian%20Invasion%20of%20Ukrain.ipynb#ch0000009?line=36'>37</a>\u001b[0m fig\u001b[39m.\u001b[39mupdate_layout(legend_orientation\u001b[39m=\u001b[39m\u001b[39m\"\u001b[39m\u001b[39mh\u001b[39m\u001b[39m\"\u001b[39m, legend\u001b[39m=\u001b[39m\u001b[39mdict\u001b[39m(x\u001b[39m=\u001b[39m\u001b[39m0\u001b[39m, y\u001b[39m=\u001b[39m\u001b[39m1\u001b[39m, traceorder\u001b[39m=\u001b[39m\u001b[39m\"\u001b[39m\u001b[39mnormal\u001b[39m\u001b[39m\"\u001b[39m), title\u001b[39m=\u001b[39m\u001b[39m\"\u001b[39m\u001b[39mWeapons lost: Ground, Other\u001b[39m\u001b[39m\"\u001b[39m, xaxis_title\u001b[39m=\u001b[39m\u001b[39m\"\u001b[39m\u001b[39mDate\u001b[39m\u001b[39m\"\u001b[39m, yaxis_title\u001b[39m=\u001b[39m\u001b[39m\"\u001b[39m\u001b[39mWeapons\u001b[39m\u001b[39m\"\u001b[39m, margin\u001b[39m=\u001b[39m\u001b[39mdict\u001b[39m(l\u001b[39m=\u001b[39m\u001b[39m0\u001b[39m, r\u001b[39m=\u001b[39m\u001b[39m0\u001b[39m, t\u001b[39m=\u001b[39m\u001b[39m30\u001b[39m, b\u001b[39m=\u001b[39m\u001b[39m0\u001b[39m))\n\u001b[1;32m---> <a href='vscode-notebook-cell:/c%3A/Users/SONYA/OneDrive%20-%20Huntington%20University/Documents/GitHub/Russian_invasion_of_Ukrain/Russian%20Invasion%20of%20Ukrain.ipynb#ch0000009?line=38'>39</a>\u001b[0m fig\u001b[39m.\u001b[39;49mshow()\n",
      "File \u001b[1;32m~\\AppData\\Local\\Packages\\PythonSoftwareFoundation.Python.3.10_qbz5n2kfra8p0\\LocalCache\\local-packages\\Python310\\site-packages\\plotly\\basedatatypes.py:3398\u001b[0m, in \u001b[0;36mBaseFigure.show\u001b[1;34m(self, *args, **kwargs)\u001b[0m\n\u001b[0;32m   <a href='file:///c%3A/Users/SONYA/AppData/Local/Packages/PythonSoftwareFoundation.Python.3.10_qbz5n2kfra8p0/LocalCache/local-packages/Python310/site-packages/plotly/basedatatypes.py?line=3364'>3365</a>\u001b[0m \u001b[39m\"\"\"\u001b[39;00m\n\u001b[0;32m   <a href='file:///c%3A/Users/SONYA/AppData/Local/Packages/PythonSoftwareFoundation.Python.3.10_qbz5n2kfra8p0/LocalCache/local-packages/Python310/site-packages/plotly/basedatatypes.py?line=3365'>3366</a>\u001b[0m \u001b[39mShow a figure using either the default renderer(s) or the renderer(s)\u001b[39;00m\n\u001b[0;32m   <a href='file:///c%3A/Users/SONYA/AppData/Local/Packages/PythonSoftwareFoundation.Python.3.10_qbz5n2kfra8p0/LocalCache/local-packages/Python310/site-packages/plotly/basedatatypes.py?line=3366'>3367</a>\u001b[0m \u001b[39mspecified by the renderer argument\u001b[39;00m\n\u001b[1;32m   (...)\u001b[0m\n\u001b[0;32m   <a href='file:///c%3A/Users/SONYA/AppData/Local/Packages/PythonSoftwareFoundation.Python.3.10_qbz5n2kfra8p0/LocalCache/local-packages/Python310/site-packages/plotly/basedatatypes.py?line=3393'>3394</a>\u001b[0m \u001b[39mNone\u001b[39;00m\n\u001b[0;32m   <a href='file:///c%3A/Users/SONYA/AppData/Local/Packages/PythonSoftwareFoundation.Python.3.10_qbz5n2kfra8p0/LocalCache/local-packages/Python310/site-packages/plotly/basedatatypes.py?line=3394'>3395</a>\u001b[0m \u001b[39m\"\"\"\u001b[39;00m\n\u001b[0;32m   <a href='file:///c%3A/Users/SONYA/AppData/Local/Packages/PythonSoftwareFoundation.Python.3.10_qbz5n2kfra8p0/LocalCache/local-packages/Python310/site-packages/plotly/basedatatypes.py?line=3395'>3396</a>\u001b[0m \u001b[39mimport\u001b[39;00m \u001b[39mplotly\u001b[39;00m\u001b[39m.\u001b[39;00m\u001b[39mio\u001b[39;00m \u001b[39mas\u001b[39;00m \u001b[39mpio\u001b[39;00m\n\u001b[1;32m-> <a href='file:///c%3A/Users/SONYA/AppData/Local/Packages/PythonSoftwareFoundation.Python.3.10_qbz5n2kfra8p0/LocalCache/local-packages/Python310/site-packages/plotly/basedatatypes.py?line=3397'>3398</a>\u001b[0m \u001b[39mreturn\u001b[39;00m pio\u001b[39m.\u001b[39mshow(\u001b[39mself\u001b[39m, \u001b[39m*\u001b[39margs, \u001b[39m*\u001b[39m\u001b[39m*\u001b[39mkwargs)\n",
      "File \u001b[1;32m~\\AppData\\Local\\Packages\\PythonSoftwareFoundation.Python.3.10_qbz5n2kfra8p0\\LocalCache\\local-packages\\Python310\\site-packages\\plotly\\io\\_renderers.py:397\u001b[0m, in \u001b[0;36mshow\u001b[1;34m(fig, renderer, validate, **kwargs)\u001b[0m\n\u001b[0;32m    <a href='file:///c%3A/Users/SONYA/AppData/Local/Packages/PythonSoftwareFoundation.Python.3.10_qbz5n2kfra8p0/LocalCache/local-packages/Python310/site-packages/plotly/io/_renderers.py?line=391'>392</a>\u001b[0m         \u001b[39mraise\u001b[39;00m \u001b[39mValueError\u001b[39;00m(\n\u001b[0;32m    <a href='file:///c%3A/Users/SONYA/AppData/Local/Packages/PythonSoftwareFoundation.Python.3.10_qbz5n2kfra8p0/LocalCache/local-packages/Python310/site-packages/plotly/io/_renderers.py?line=392'>393</a>\u001b[0m             \u001b[39m\"\u001b[39m\u001b[39mMime type rendering requires ipython but it is not installed\u001b[39m\u001b[39m\"\u001b[39m\n\u001b[0;32m    <a href='file:///c%3A/Users/SONYA/AppData/Local/Packages/PythonSoftwareFoundation.Python.3.10_qbz5n2kfra8p0/LocalCache/local-packages/Python310/site-packages/plotly/io/_renderers.py?line=393'>394</a>\u001b[0m         )\n\u001b[0;32m    <a href='file:///c%3A/Users/SONYA/AppData/Local/Packages/PythonSoftwareFoundation.Python.3.10_qbz5n2kfra8p0/LocalCache/local-packages/Python310/site-packages/plotly/io/_renderers.py?line=395'>396</a>\u001b[0m     \u001b[39mif\u001b[39;00m \u001b[39mnot\u001b[39;00m nbformat \u001b[39mor\u001b[39;00m LooseVersion(nbformat\u001b[39m.\u001b[39m__version__) \u001b[39m<\u001b[39m LooseVersion(\u001b[39m\"\u001b[39m\u001b[39m4.2.0\u001b[39m\u001b[39m\"\u001b[39m):\n\u001b[1;32m--> <a href='file:///c%3A/Users/SONYA/AppData/Local/Packages/PythonSoftwareFoundation.Python.3.10_qbz5n2kfra8p0/LocalCache/local-packages/Python310/site-packages/plotly/io/_renderers.py?line=396'>397</a>\u001b[0m         \u001b[39mraise\u001b[39;00m \u001b[39mValueError\u001b[39;00m(\n\u001b[0;32m    <a href='file:///c%3A/Users/SONYA/AppData/Local/Packages/PythonSoftwareFoundation.Python.3.10_qbz5n2kfra8p0/LocalCache/local-packages/Python310/site-packages/plotly/io/_renderers.py?line=397'>398</a>\u001b[0m             \u001b[39m\"\u001b[39m\u001b[39mMime type rendering requires nbformat>=4.2.0 but it is not installed\u001b[39m\u001b[39m\"\u001b[39m\n\u001b[0;32m    <a href='file:///c%3A/Users/SONYA/AppData/Local/Packages/PythonSoftwareFoundation.Python.3.10_qbz5n2kfra8p0/LocalCache/local-packages/Python310/site-packages/plotly/io/_renderers.py?line=398'>399</a>\u001b[0m         )\n\u001b[0;32m    <a href='file:///c%3A/Users/SONYA/AppData/Local/Packages/PythonSoftwareFoundation.Python.3.10_qbz5n2kfra8p0/LocalCache/local-packages/Python310/site-packages/plotly/io/_renderers.py?line=400'>401</a>\u001b[0m     ipython_display\u001b[39m.\u001b[39mdisplay(bundle, raw\u001b[39m=\u001b[39m\u001b[39mTrue\u001b[39;00m)\n\u001b[0;32m    <a href='file:///c%3A/Users/SONYA/AppData/Local/Packages/PythonSoftwareFoundation.Python.3.10_qbz5n2kfra8p0/LocalCache/local-packages/Python310/site-packages/plotly/io/_renderers.py?line=402'>403</a>\u001b[0m \u001b[39m# external renderers\u001b[39;00m\n",
      "\u001b[1;31mValueError\u001b[0m: Mime type rendering requires nbformat>=4.2.0 but it is not installed"
     ]
    }
   ],
   "source": [
    "import plotly\n",
    "import plotly.graph_objs as go\n",
    "import plotly.express as px\n",
    "from plotly.subplots import make_subplots\n",
    "\n",
    "x=russian_equipment['date']\n",
    "y0=russian_equipment['aircraft']\n",
    "y1=russian_equipment['helicopter']\n",
    "y2=russian_equipment['tank']\n",
    "y3=russian_equipment['APC']\n",
    "y4=russian_equipment['field artillery']\n",
    "y5=russian_equipment['MRL']\n",
    "y6=russian_equipment['military auto']\n",
    "y7=russian_equipment['fuel tank']\n",
    "y8=russian_equipment['drone']\n",
    "y9=russian_equipment['naval ship']\n",
    "y10=russian_equipment['anti-aircraft warfare']\n",
    "y11=russian_equipment['special equipment']\n",
    "y12=russian_equipment['mobile SRBM system']\n",
    "\n",
    "fig = go.Figure()\n",
    "\n",
    "fig.add_trace(go.Scatter(x=x, y=y0, mode='lines+markers', name='Aircraft'))\n",
    "fig.add_trace(go.Scatter(x=x, y=y1, mode='lines+markers', name='Helicopter'))\n",
    "fig.add_trace(go.Scatter(x=x, y=y2, mode='lines+markers', name='Tank'))\n",
    "fig.add_trace(go.Scatter(x=x, y=y3, mode='lines+markers', name='APC'))\n",
    "fig.add_trace(go.Scatter(x=x, y=y4, mode='lines+markers', name='Field Artillery'))\n",
    "fig.add_trace(go.Scatter(x=x, y=y5, mode='lines+markers', name='MRL'))\n",
    "fig.add_trace(go.Scatter(x=x, y=y6, mode='lines+markers', name='Military Auto'))\n",
    "fig.add_trace(go.Scatter(x=x, y=y7, mode='lines+markers', name='Fuel Tank'))\n",
    "fig.add_trace(go.Scatter(x=x, y=y8, mode='lines+markers', name='Drone'))\n",
    "fig.add_trace(go.Scatter(x=x, y=y9, mode='lines+markers', name='Naval Ship'))\n",
    "fig.add_trace(go.Scatter(x=x, y=y10, mode='lines+markers', name='Anti-Aircraft Warfare'))\n",
    "fig.add_trace(go.Scatter(x=x, y=y11, mode='lines+markers', name='Special Equipment'))\n",
    "fig.add_trace(go.Scatter(x=x, y=y12, mode='lines+markers', name='Mobile SRBM System'))\n",
    "\n",
    "fig.update_layout(legend_orientation=\"h\", legend=dict(x=0, y=1, traceorder=\"normal\"), title=\"Weapons lost: Ground, Other\", xaxis_title=\"Date\", yaxis_title=\"Weapons\", margin=dict(l=0, r=0, t=30, b=0))\n",
    "\n",
    "fig.show()"
   ]
  },
  {
   "cell_type": "markdown",
   "metadata": {},
   "source": [
    "### Problem 4\n",
    "\n",
    "##### What Equipment type has the highest daily loss on average?\n"
   ]
  },
  {
   "cell_type": "code",
   "execution_count": 11,
   "metadata": {},
   "outputs": [
    {
     "data": {
      "text/html": [
       "<div>\n",
       "<style scoped>\n",
       "    .dataframe tbody tr th:only-of-type {\n",
       "        vertical-align: middle;\n",
       "    }\n",
       "\n",
       "    .dataframe tbody tr th {\n",
       "        vertical-align: top;\n",
       "    }\n",
       "\n",
       "    .dataframe thead th {\n",
       "        text-align: right;\n",
       "    }\n",
       "</style>\n",
       "<table border=\"1\" class=\"dataframe\">\n",
       "  <thead>\n",
       "    <tr style=\"text-align: right;\">\n",
       "      <th></th>\n",
       "      <th>0</th>\n",
       "    </tr>\n",
       "  </thead>\n",
       "  <tbody>\n",
       "    <tr>\n",
       "      <th>day</th>\n",
       "      <td>665</td>\n",
       "    </tr>\n",
       "    <tr>\n",
       "      <th>aircraft</th>\n",
       "      <td>2565</td>\n",
       "    </tr>\n",
       "    <tr>\n",
       "      <th>helicopter</th>\n",
       "      <td>3001</td>\n",
       "    </tr>\n",
       "    <tr>\n",
       "      <th>tank</th>\n",
       "      <td>13524</td>\n",
       "    </tr>\n",
       "    <tr>\n",
       "      <th>APC</th>\n",
       "      <td>43827</td>\n",
       "    </tr>\n",
       "    <tr>\n",
       "      <th>field artillery</th>\n",
       "      <td>6150</td>\n",
       "    </tr>\n",
       "    <tr>\n",
       "      <th>MRL</th>\n",
       "      <td>2156</td>\n",
       "    </tr>\n",
       "    <tr>\n",
       "      <th>military auto</th>\n",
       "      <td>24391</td>\n",
       "    </tr>\n",
       "    <tr>\n",
       "      <th>fuel tank</th>\n",
       "      <td>2226</td>\n",
       "    </tr>\n",
       "    <tr>\n",
       "      <th>drone</th>\n",
       "      <td>781</td>\n",
       "    </tr>\n",
       "    <tr>\n",
       "      <th>naval ship</th>\n",
       "      <td>123</td>\n",
       "    </tr>\n",
       "    <tr>\n",
       "      <th>anti-aircraft warfare</th>\n",
       "      <td>1134</td>\n",
       "    </tr>\n",
       "    <tr>\n",
       "      <th>special equipment</th>\n",
       "      <td>256.0</td>\n",
       "    </tr>\n",
       "    <tr>\n",
       "      <th>mobile SRBM system</th>\n",
       "      <td>22.0</td>\n",
       "    </tr>\n",
       "  </tbody>\n",
       "</table>\n",
       "</div>"
      ],
      "text/plain": [
       "                           0\n",
       "day                      665\n",
       "aircraft                2565\n",
       "helicopter              3001\n",
       "tank                   13524\n",
       "APC                    43827\n",
       "field artillery         6150\n",
       "MRL                     2156\n",
       "military auto          24391\n",
       "fuel tank               2226\n",
       "drone                    781\n",
       "naval ship               123\n",
       "anti-aircraft warfare   1134\n",
       "special equipment      256.0\n",
       "mobile SRBM system      22.0"
      ]
     },
     "execution_count": 11,
     "metadata": {},
     "output_type": "execute_result"
    }
   ],
   "source": [
    "# find the sum of the rows then find the row with the highest value.\n",
    "totals = pd.DataFrame(russian_equipment.sum(axis=0)).drop('date')\n",
    "totals"
   ]
  },
  {
   "cell_type": "markdown",
   "metadata": {},
   "source": [
    "### Problem 5\n",
    "\n",
    "##### Is there any correlarion between the POW and equipment loss?\n"
   ]
  },
  {
   "cell_type": "code",
   "execution_count": null,
   "metadata": {},
   "outputs": [],
   "source": [
    "merged = pd.merge(russian_equipment, russian_personnel)\n",
    "merged.drop(['date', 'day', 'personnel', 'personnel*'], axis=1).corr()['POW'].plot.bar(title='Correlation data for POW and Equipment Loss')"
   ]
  },
  {
   "cell_type": "markdown",
   "metadata": {},
   "source": [
    "### Problem 6\n",
    "\n",
    "##### What inferences can you make from the above relationship?\n"
   ]
  },
  {
   "cell_type": "code",
   "execution_count": 2,
   "metadata": {},
   "outputs": [
    {
     "name": "stdout",
     "output_type": "stream",
     "text": [
      "There is a very strong, positive, direct corralation between POW and overall Equipment Loss. As the number of Prisoners os was increases, so deos the overall amount of equipment lost. The streanth in correlation, ignoring POW's direct relationship, ranges from .93 (helicopter) to .48 (fuel tanks). The Median correlation is .84 which falls between aircrafts and military auto. It is then valid to conclude that as the invasion continues, and POW increases so will overall equipment loss.\n"
     ]
    }
   ],
   "source": [
    "print(\n",
    "    \"There is a very strong, positive, direct corralation between POW and overall Equipment Loss. As the number of Prisoners os was increases, so deos the overall amount of equipment lost. The streanth in correlation, ignoring POW's direct relationship, ranges from .93 (helicopter) to .48 (fuel tanks). The Median correlation is .84 which falls between aircrafts and military auto. It is then valid to conclude that as the invasion continues, and POW increases so will overall equipment loss.\"\n",
    "    )"
   ]
  },
  {
   "cell_type": "code",
   "execution_count": null,
   "metadata": {},
   "outputs": [],
   "source": []
  }
 ],
 "metadata": {
  "interpreter": {
   "hash": "ef47feb22afc750b3c5287ca092ab261dfe21a428be8cf313c1e4c0154c785b8"
  },
  "kernelspec": {
   "display_name": "Python",
   "language": "python",
   "name": "python3"
  },
  "language_info": {
   "codemirror_mode": {
    "name": "ipython",
    "version": 3
   },
   "file_extension": ".py",
   "mimetype": "text/x-python",
   "name": "python",
   "nbconvert_exporter": "python",
   "pygments_lexer": "ipython3",
   "version": "3.10.4"
  },
  "widgets": {
   "state": {},
   "version": "1.1.2"
  }
 },
 "nbformat": 4,
 "nbformat_minor": 4
}
