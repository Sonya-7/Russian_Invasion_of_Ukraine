{
 "cells": [
  {
   "cell_type": "markdown",
   "metadata": {},
   "source": [
    "\n",
    "## Assessment of damage connected with Russia's invasion of Ukrain"
   ]
  },
  {
   "cell_type": "code",
   "execution_count": null,
   "metadata": {},
   "outputs": [],
   "source": [
    "import pandas as pd\n",
    "russian_personnel = pd.read_csv('russia_losses_personnel.csv')\n",
    "russian_equipment = pd.read_csv('russia_losses_equipment.csv')"
   ]
  },
  {
   "cell_type": "code",
   "execution_count": null,
   "metadata": {},
   "outputs": [],
   "source": [
    "russian_personnel"
   ]
  },
  {
   "cell_type": "code",
   "execution_count": null,
   "metadata": {},
   "outputs": [],
   "source": [
    "russian_equipment"
   ]
  },
  {
   "cell_type": "markdown",
   "metadata": {},
   "source": [
    "### Problem 1\n",
    "##### Where is the war happening?"
   ]
  },
  {
   "cell_type": "code",
   "execution_count": null,
   "metadata": {},
   "outputs": [],
   "source": [
    "from IPython.core.display import display\n",
    "from PIL import Image\n",
    "import urllib.request\n",
    "\n",
    "# Downloading dataset\n",
    "urllib.request.urlretrieve(\"https://cdn.vox-cdn.com/uploads/chorus_asset/file/23351348/DraftUkraineCoTMarch28_2022.png\", \"study_of_war.jpg\")\n",
    "\n",
    "# Read image\n",
    "img = Image.open('Study_of_war.jpg')\n",
    "\n",
    "# Display Image specs\n",
    "display(img)"
   ]
  },
  {
   "cell_type": "markdown",
   "metadata": {},
   "source": [
    "### Problem 2\n",
    "\n",
    "##### Find the total number of Prisoners of War per day recorded in the Personel table.\n"
   ]
  },
  {
   "cell_type": "code",
   "execution_count": null,
   "metadata": {},
   "outputs": [],
   "source": [
    "russian_personnel.plot(x='date', y='POW', kind='line', color='black')\n",
    "\n",
    "p = sum(russian_personnel['POW'])\n",
    "print(f'Total Prisoners of War as at 03/31/2022 is {p}')"
   ]
  },
  {
   "cell_type": "markdown",
   "metadata": {},
   "source": [
    "### Problem 3\n",
    "\n",
    "##### List the total equipment lost per day and equipment type.\n"
   ]
  },
  {
   "cell_type": "code",
   "execution_count": null,
   "metadata": {},
   "outputs": [],
   "source": [
    "import plotly\n",
    "import plotly.graph_objs as go\n",
    "import plotly.express as px\n",
    "from plotly.subplots import make_subplots\n",
    "\n",
    "x=russian_equipment['date']\n",
    "y0=russian_equipment['aircraft']\n",
    "y1=russian_equipment['helicopter']\n",
    "y2=russian_equipment['tank']\n",
    "y3=russian_equipment['APC']\n",
    "y4=russian_equipment['field artillery']\n",
    "y5=russian_equipment['MRL']\n",
    "y6=russian_equipment['military auto']\n",
    "y7=russian_equipment['fuel tank']\n",
    "y8=russian_equipment['drone']\n",
    "y9=russian_equipment['naval ship']\n",
    "y10=russian_equipment['anti-aircraft warfare']\n",
    "y11=russian_equipment['special equipment']\n",
    "y12=russian_equipment['mobile SRBM system']\n",
    "\n",
    "fig = go.Figure()\n",
    "\n",
    "fig.add_trace(go.Scatter(x=x, y=y0, mode='lines+markers', name='Aircraft'))\n",
    "fig.add_trace(go.Scatter(x=x, y=y1, mode='lines+markers', name='Helicopter'))\n",
    "fig.add_trace(go.Scatter(x=x, y=y2, mode='lines+markers', name='Tank'))\n",
    "fig.add_trace(go.Scatter(x=x, y=y3, mode='lines+markers', name='APC'))\n",
    "fig.add_trace(go.Scatter(x=x, y=y4, mode='lines+markers', name='Field Artillery'))\n",
    "fig.add_trace(go.Scatter(x=x, y=y5, mode='lines+markers', name='MRL'))\n",
    "fig.add_trace(go.Scatter(x=x, y=y6, mode='lines+markers', name='Military Auto'))\n",
    "fig.add_trace(go.Scatter(x=x, y=y7, mode='lines+markers', name='Fuel Tank'))\n",
    "fig.add_trace(go.Scatter(x=x, y=y8, mode='lines+markers', name='Drone'))\n",
    "fig.add_trace(go.Scatter(x=x, y=y9, mode='lines+markers', name='Naval Ship'))\n",
    "fig.add_trace(go.Scatter(x=x, y=y10, mode='lines+markers', name='Anti-Aircraft Warfare'))\n",
    "fig.add_trace(go.Scatter(x=x, y=y11, mode='lines+markers', name='Special Equipment'))\n",
    "fig.add_trace(go.Scatter(x=x, y=y12, mode='lines+markers', name='Mobile SRBM System'))\n",
    "\n",
    "fig.update_layout(legend_orientation=\"h\", legend=dict(x=0, y=1, traceorder=\"normal\"), title=\"Weapons lost: Ground, Other\", xaxis_title=\"Date\", yaxis_title=\"Weapons\", margin=dict(l=0, r=0, t=30, b=0))\n",
    "\n",
    "fig.show()"
   ]
  },
  {
   "cell_type": "markdown",
   "metadata": {},
   "source": [
    "### Problem 4\n",
    "\n",
    "##### ???\n"
   ]
  },
  {
   "cell_type": "code",
   "execution_count": null,
   "metadata": {},
   "outputs": [],
   "source": []
  },
  {
   "cell_type": "markdown",
   "metadata": {},
   "source": [
    "### Problem 5\n",
    "\n",
    "##### Is there any correlarion between the POW and equipment loss?\n"
   ]
  },
  {
   "cell_type": "code",
   "execution_count": null,
   "metadata": {},
   "outputs": [],
   "source": [
    "merged = pd.merge(russian_equipment, russian_personnel)\n",
    "merged.drop(['date', 'day', 'personnel', 'personnel*'], axis=1).corr()['POW'].plot.bar(title='Correlation data for POW and Equipment Loss')"
   ]
  },
  {
   "cell_type": "markdown",
   "metadata": {},
   "source": [
    "### Problem 6\n",
    "\n",
    "##### What inferences can you make from the above relationship?\n"
   ]
  },
  {
   "cell_type": "code",
   "execution_count": null,
   "metadata": {},
   "outputs": [],
   "source": [
    "print('''\n",
    "    There is a very strong, positive, direct corralation between POW and overall Equipment Loss. As the number of Prisoners os was increases,\n",
    "    so deos the overall amount of equipment lost. The streanth in correlation, ignoring POW's direct relationship, ranges from .93 (helicopter) to .48 (fuel tanks).\n",
    "    The Median correlation is .84 which falls between aircrafts and military auto. It is then valid to conclude that as the invasion continues, and POW increases so will\n",
    "    overallall equipment loss.\n",
    "    \n",
    "    ''')"
   ]
  }
 ],
 "metadata": {
  "interpreter": {
   "hash": "ef47feb22afc750b3c5287ca092ab261dfe21a428be8cf313c1e4c0154c785b8"
  },
  "kernelspec": {
   "display_name": "Python",
   "language": "python",
   "name": "python3"
  },
  "language_info": {
   "codemirror_mode": {
    "name": "ipython",
    "version": 3
   },
   "file_extension": ".py",
   "mimetype": "text/x-python",
   "name": "python",
   "nbconvert_exporter": "python",
   "pygments_lexer": "ipython3",
   "version": "3.10.4"
  },
  "widgets": {
   "state": {},
   "version": "1.1.2"
  }
 },
 "nbformat": 4,
 "nbformat_minor": 4
}
