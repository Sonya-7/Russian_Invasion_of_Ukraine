{
 "cells": [
  {
   "cell_type": "markdown",
   "id": "084be0d8",
   "metadata": {
    "papermill": {
     "duration": 0.029172,
     "end_time": "2022-06-08T22:04:46.827514",
     "exception": false,
     "start_time": "2022-06-08T22:04:46.798342",
     "status": "completed"
    },
    "tags": []
   },
   "source": [
    "<div style=\"color:white;display:fill;border-radius:12px;\n",
    "            background-color:#323232;font-size:150%;\n",
    "            font-family:Georgia;letter-spacing:0.5px\">\n",
    "    <p style=\"padding: 8px;color:white;\"><b>1 | Assessment of damage associated with Russia's invasion of Ukraine in 2022</b></p>\n",
    "</div>"
   ]
  },
  {
   "cell_type": "markdown",
   "id": "c37490d7",
   "metadata": {
    "papermill": {
     "duration": 0.034792,
     "end_time": "2022-06-08T22:04:46.891567",
     "exception": false,
     "start_time": "2022-06-08T22:04:46.856775",
     "status": "completed"
    },
    "tags": []
   },
   "source": [
    "Download all libraries needed for this project"
   ]
  },
  {
   "cell_type": "code",
   "execution_count": 1,
   "id": "1f865292",
   "metadata": {
    "execution": {
     "iopub.execute_input": "2022-06-08T22:04:46.981389Z",
     "iopub.status.busy": "2022-06-08T22:04:46.979804Z",
     "iopub.status.idle": "2022-06-08T22:04:50.518017Z",
     "shell.execute_reply": "2022-06-08T22:04:50.517280Z",
     "shell.execute_reply.started": "2022-06-08T22:03:02.222044Z"
    },
    "papermill": {
     "duration": 3.578653,
     "end_time": "2022-06-08T22:04:50.518171",
     "exception": false,
     "start_time": "2022-06-08T22:04:46.939518",
     "status": "completed"
    },
    "tags": []
   },
   "outputs": [],
   "source": [
    "import pandas as pd\n",
    "import numpy as np\n",
    "import folium as F\n",
    "%matplotlib inline \n",
    "import matplotlib as mpl\n",
    "import seaborn as sns\n",
    "import matplotlib.pyplot as plt\n",
    "import plotly.express as px\n",
    "from wordcloud import WordCloud, STOPWORDS\n",
    "from math import log10, floor\n",
    "\n",
    "# print('Matplotlib version: ', mpl.__version__)\n",
    "# print(plt.style.available)\n",
    "mpl.style.use(['ggplot'])"
   ]
  },
  {
   "cell_type": "markdown",
   "id": "1fcfa337",
   "metadata": {
    "papermill": {
     "duration": 0.027531,
     "end_time": "2022-06-08T22:04:50.574305",
     "exception": false,
     "start_time": "2022-06-08T22:04:50.546774",
     "status": "completed"
    },
    "tags": []
   },
   "source": [
    "Read the CSV files into a Pandas DataFrame"
   ]
  },
  {
   "cell_type": "code",
   "execution_count": 2,
   "id": "09e2a739",
   "metadata": {
    "execution": {
     "iopub.execute_input": "2022-06-08T22:04:50.636026Z",
     "iopub.status.busy": "2022-06-08T22:04:50.635493Z",
     "iopub.status.idle": "2022-06-08T22:04:50.660432Z",
     "shell.execute_reply": "2022-06-08T22:04:50.659979Z",
     "shell.execute_reply.started": "2022-06-08T22:03:02.287853Z"
    },
    "papermill": {
     "duration": 0.05846,
     "end_time": "2022-06-08T22:04:50.660549",
     "exception": false,
     "start_time": "2022-06-08T22:04:50.602089",
     "status": "completed"
    },
    "tags": []
   },
   "outputs": [],
   "source": [
    "russian_personnel = pd.read_csv('../input/2022-ukraine-russian-war/russia_losses_personnel.csv')\n",
    "russian_equipment = pd.read_csv('../input/2022-ukraine-russian-war/russia_losses_equipment.csv')"
   ]
  },
  {
   "cell_type": "markdown",
   "id": "8f156254",
   "metadata": {
    "papermill": {
     "duration": 0.028155,
     "end_time": "2022-06-08T22:04:50.717667",
     "exception": false,
     "start_time": "2022-06-08T22:04:50.689512",
     "status": "completed"
    },
    "tags": []
   },
   "source": [
    "## Data Wrangling\n",
    "### Let's start by getting a basic understanding of the DataFrame and cleaning the data"
   ]
  },
  {
   "cell_type": "code",
   "execution_count": 3,
   "id": "fcd1f119",
   "metadata": {
    "execution": {
     "iopub.execute_input": "2022-06-08T22:04:50.784863Z",
     "iopub.status.busy": "2022-06-08T22:04:50.784082Z",
     "iopub.status.idle": "2022-06-08T22:04:50.796694Z",
     "shell.execute_reply": "2022-06-08T22:04:50.797098Z",
     "shell.execute_reply.started": "2022-06-08T22:03:02.362018Z"
    },
    "papermill": {
     "duration": 0.051818,
     "end_time": "2022-06-08T22:04:50.797232",
     "exception": false,
     "start_time": "2022-06-08T22:04:50.745414",
     "status": "completed"
    },
    "tags": []
   },
   "outputs": [
    {
     "data": {
      "text/html": [
       "<div>\n",
       "<style scoped>\n",
       "    .dataframe tbody tr th:only-of-type {\n",
       "        vertical-align: middle;\n",
       "    }\n",
       "\n",
       "    .dataframe tbody tr th {\n",
       "        vertical-align: top;\n",
       "    }\n",
       "\n",
       "    .dataframe thead th {\n",
       "        text-align: right;\n",
       "    }\n",
       "</style>\n",
       "<table border=\"1\" class=\"dataframe\">\n",
       "  <thead>\n",
       "    <tr style=\"text-align: right;\">\n",
       "      <th></th>\n",
       "      <th>date</th>\n",
       "      <th>day</th>\n",
       "      <th>personnel</th>\n",
       "      <th>personnel*</th>\n",
       "      <th>POW</th>\n",
       "    </tr>\n",
       "  </thead>\n",
       "  <tbody>\n",
       "    <tr>\n",
       "      <th>0</th>\n",
       "      <td>2022-02-25</td>\n",
       "      <td>2</td>\n",
       "      <td>2800</td>\n",
       "      <td>about</td>\n",
       "      <td>0</td>\n",
       "    </tr>\n",
       "    <tr>\n",
       "      <th>1</th>\n",
       "      <td>2022-02-26</td>\n",
       "      <td>3</td>\n",
       "      <td>4300</td>\n",
       "      <td>about</td>\n",
       "      <td>0</td>\n",
       "    </tr>\n",
       "    <tr>\n",
       "      <th>2</th>\n",
       "      <td>2022-02-27</td>\n",
       "      <td>4</td>\n",
       "      <td>4500</td>\n",
       "      <td>about</td>\n",
       "      <td>0</td>\n",
       "    </tr>\n",
       "    <tr>\n",
       "      <th>3</th>\n",
       "      <td>2022-02-28</td>\n",
       "      <td>5</td>\n",
       "      <td>5300</td>\n",
       "      <td>about</td>\n",
       "      <td>0</td>\n",
       "    </tr>\n",
       "    <tr>\n",
       "      <th>4</th>\n",
       "      <td>2022-03-01</td>\n",
       "      <td>6</td>\n",
       "      <td>5710</td>\n",
       "      <td>about</td>\n",
       "      <td>200</td>\n",
       "    </tr>\n",
       "    <tr>\n",
       "      <th>...</th>\n",
       "      <td>...</td>\n",
       "      <td>...</td>\n",
       "      <td>...</td>\n",
       "      <td>...</td>\n",
       "      <td>...</td>\n",
       "    </tr>\n",
       "    <tr>\n",
       "      <th>99</th>\n",
       "      <td>2022-06-04</td>\n",
       "      <td>101</td>\n",
       "      <td>31050</td>\n",
       "      <td>about</td>\n",
       "      <td>498</td>\n",
       "    </tr>\n",
       "    <tr>\n",
       "      <th>100</th>\n",
       "      <td>2022-06-05</td>\n",
       "      <td>102</td>\n",
       "      <td>31150</td>\n",
       "      <td>about</td>\n",
       "      <td>498</td>\n",
       "    </tr>\n",
       "    <tr>\n",
       "      <th>101</th>\n",
       "      <td>2022-06-06</td>\n",
       "      <td>103</td>\n",
       "      <td>31250</td>\n",
       "      <td>about</td>\n",
       "      <td>498</td>\n",
       "    </tr>\n",
       "    <tr>\n",
       "      <th>102</th>\n",
       "      <td>2022-06-07</td>\n",
       "      <td>104</td>\n",
       "      <td>31360</td>\n",
       "      <td>about</td>\n",
       "      <td>498</td>\n",
       "    </tr>\n",
       "    <tr>\n",
       "      <th>103</th>\n",
       "      <td>2022-06-08</td>\n",
       "      <td>105</td>\n",
       "      <td>31500</td>\n",
       "      <td>about</td>\n",
       "      <td>498</td>\n",
       "    </tr>\n",
       "  </tbody>\n",
       "</table>\n",
       "<p>104 rows × 5 columns</p>\n",
       "</div>"
      ],
      "text/plain": [
       "           date  day  personnel personnel*  POW\n",
       "0    2022-02-25    2       2800      about    0\n",
       "1    2022-02-26    3       4300      about    0\n",
       "2    2022-02-27    4       4500      about    0\n",
       "3    2022-02-28    5       5300      about    0\n",
       "4    2022-03-01    6       5710      about  200\n",
       "..          ...  ...        ...        ...  ...\n",
       "99   2022-06-04  101      31050      about  498\n",
       "100  2022-06-05  102      31150      about  498\n",
       "101  2022-06-06  103      31250      about  498\n",
       "102  2022-06-07  104      31360      about  498\n",
       "103  2022-06-08  105      31500      about  498\n",
       "\n",
       "[104 rows x 5 columns]"
      ]
     },
     "execution_count": 3,
     "metadata": {},
     "output_type": "execute_result"
    }
   ],
   "source": [
    "russian_personnel"
   ]
  },
  {
   "cell_type": "code",
   "execution_count": 4,
   "id": "ea8f74a6",
   "metadata": {
    "execution": {
     "iopub.execute_input": "2022-06-08T22:04:50.869270Z",
     "iopub.status.busy": "2022-06-08T22:04:50.861920Z",
     "iopub.status.idle": "2022-06-08T22:04:50.882950Z",
     "shell.execute_reply": "2022-06-08T22:04:50.883487Z",
     "shell.execute_reply.started": "2022-06-08T22:03:02.437615Z"
    },
    "papermill": {
     "duration": 0.056812,
     "end_time": "2022-06-08T22:04:50.883656",
     "exception": false,
     "start_time": "2022-06-08T22:04:50.826844",
     "status": "completed"
    },
    "tags": []
   },
   "outputs": [
    {
     "name": "stdout",
     "output_type": "stream",
     "text": [
      "<class 'pandas.core.frame.DataFrame'>\n",
      "Index: 104 entries, 2022-02-25 to 2022-06-08\n",
      "Data columns (total 2 columns):\n",
      " #   Column  Non-Null Count  Dtype\n",
      "---  ------  --------------  -----\n",
      " 0   day     104 non-null    int64\n",
      " 1   POW     104 non-null    int64\n",
      "dtypes: int64(2)\n",
      "memory usage: 2.4+ KB\n"
     ]
    },
    {
     "data": {
      "text/html": [
       "<div>\n",
       "<style scoped>\n",
       "    .dataframe tbody tr th:only-of-type {\n",
       "        vertical-align: middle;\n",
       "    }\n",
       "\n",
       "    .dataframe tbody tr th {\n",
       "        vertical-align: top;\n",
       "    }\n",
       "\n",
       "    .dataframe thead th {\n",
       "        text-align: right;\n",
       "    }\n",
       "</style>\n",
       "<table border=\"1\" class=\"dataframe\">\n",
       "  <thead>\n",
       "    <tr style=\"text-align: right;\">\n",
       "      <th></th>\n",
       "      <th>day</th>\n",
       "      <th>POW</th>\n",
       "    </tr>\n",
       "    <tr>\n",
       "      <th>date</th>\n",
       "      <th></th>\n",
       "      <th></th>\n",
       "    </tr>\n",
       "  </thead>\n",
       "  <tbody>\n",
       "    <tr>\n",
       "      <th>2022-02-25</th>\n",
       "      <td>2</td>\n",
       "      <td>0</td>\n",
       "    </tr>\n",
       "    <tr>\n",
       "      <th>2022-02-26</th>\n",
       "      <td>3</td>\n",
       "      <td>0</td>\n",
       "    </tr>\n",
       "    <tr>\n",
       "      <th>2022-02-27</th>\n",
       "      <td>4</td>\n",
       "      <td>0</td>\n",
       "    </tr>\n",
       "    <tr>\n",
       "      <th>2022-02-28</th>\n",
       "      <td>5</td>\n",
       "      <td>0</td>\n",
       "    </tr>\n",
       "    <tr>\n",
       "      <th>2022-03-01</th>\n",
       "      <td>6</td>\n",
       "      <td>200</td>\n",
       "    </tr>\n",
       "  </tbody>\n",
       "</table>\n",
       "</div>"
      ],
      "text/plain": [
       "            day  POW\n",
       "date                \n",
       "2022-02-25    2    0\n",
       "2022-02-26    3    0\n",
       "2022-02-27    4    0\n",
       "2022-02-28    5    0\n",
       "2022-03-01    6  200"
      ]
     },
     "execution_count": 4,
     "metadata": {},
     "output_type": "execute_result"
    }
   ],
   "source": [
    "#remove confusing columns and set index for sorting by date.\n",
    "russian_personnel.drop(['personnel', 'personnel*'], axis=1, inplace=True)\n",
    "russian_personnel.set_index('date', inplace=True)\n",
    "russian_personnel.info()\n",
    "russian_personnel.head()"
   ]
  },
  {
   "cell_type": "code",
   "execution_count": 5,
   "id": "4bdbcbdd",
   "metadata": {
    "execution": {
     "iopub.execute_input": "2022-06-08T22:04:50.958551Z",
     "iopub.status.busy": "2022-06-08T22:04:50.957746Z",
     "iopub.status.idle": "2022-06-08T22:04:50.969165Z",
     "shell.execute_reply": "2022-06-08T22:04:50.969577Z",
     "shell.execute_reply.started": "2022-06-08T22:03:02.513921Z"
    },
    "papermill": {
     "duration": 0.056153,
     "end_time": "2022-06-08T22:04:50.969699",
     "exception": false,
     "start_time": "2022-06-08T22:04:50.913546",
     "status": "completed"
    },
    "tags": []
   },
   "outputs": [
    {
     "data": {
      "text/html": [
       "<div>\n",
       "<style scoped>\n",
       "    .dataframe tbody tr th:only-of-type {\n",
       "        vertical-align: middle;\n",
       "    }\n",
       "\n",
       "    .dataframe tbody tr th {\n",
       "        vertical-align: top;\n",
       "    }\n",
       "\n",
       "    .dataframe thead th {\n",
       "        text-align: right;\n",
       "    }\n",
       "</style>\n",
       "<table border=\"1\" class=\"dataframe\">\n",
       "  <thead>\n",
       "    <tr style=\"text-align: right;\">\n",
       "      <th></th>\n",
       "      <th>date</th>\n",
       "      <th>day</th>\n",
       "      <th>aircraft</th>\n",
       "      <th>helicopter</th>\n",
       "      <th>tank</th>\n",
       "      <th>APC</th>\n",
       "      <th>field artillery</th>\n",
       "      <th>MRL</th>\n",
       "      <th>military auto</th>\n",
       "      <th>fuel tank</th>\n",
       "      <th>drone</th>\n",
       "      <th>naval ship</th>\n",
       "      <th>anti-aircraft warfare</th>\n",
       "      <th>special equipment</th>\n",
       "      <th>mobile SRBM system</th>\n",
       "      <th>vehicles and fuel tanks</th>\n",
       "      <th>cruise missiles</th>\n",
       "      <th>greatest losses direction</th>\n",
       "    </tr>\n",
       "  </thead>\n",
       "  <tbody>\n",
       "    <tr>\n",
       "      <th>0</th>\n",
       "      <td>2022-02-25</td>\n",
       "      <td>2</td>\n",
       "      <td>10</td>\n",
       "      <td>7</td>\n",
       "      <td>80</td>\n",
       "      <td>516</td>\n",
       "      <td>49</td>\n",
       "      <td>4</td>\n",
       "      <td>100.0</td>\n",
       "      <td>60.0</td>\n",
       "      <td>0</td>\n",
       "      <td>2</td>\n",
       "      <td>0</td>\n",
       "      <td>NaN</td>\n",
       "      <td>NaN</td>\n",
       "      <td>NaN</td>\n",
       "      <td>NaN</td>\n",
       "      <td>NaN</td>\n",
       "    </tr>\n",
       "    <tr>\n",
       "      <th>1</th>\n",
       "      <td>2022-02-26</td>\n",
       "      <td>3</td>\n",
       "      <td>27</td>\n",
       "      <td>26</td>\n",
       "      <td>146</td>\n",
       "      <td>706</td>\n",
       "      <td>49</td>\n",
       "      <td>4</td>\n",
       "      <td>130.0</td>\n",
       "      <td>60.0</td>\n",
       "      <td>2</td>\n",
       "      <td>2</td>\n",
       "      <td>0</td>\n",
       "      <td>NaN</td>\n",
       "      <td>NaN</td>\n",
       "      <td>NaN</td>\n",
       "      <td>NaN</td>\n",
       "      <td>NaN</td>\n",
       "    </tr>\n",
       "    <tr>\n",
       "      <th>2</th>\n",
       "      <td>2022-02-27</td>\n",
       "      <td>4</td>\n",
       "      <td>27</td>\n",
       "      <td>26</td>\n",
       "      <td>150</td>\n",
       "      <td>706</td>\n",
       "      <td>50</td>\n",
       "      <td>4</td>\n",
       "      <td>130.0</td>\n",
       "      <td>60.0</td>\n",
       "      <td>2</td>\n",
       "      <td>2</td>\n",
       "      <td>0</td>\n",
       "      <td>NaN</td>\n",
       "      <td>NaN</td>\n",
       "      <td>NaN</td>\n",
       "      <td>NaN</td>\n",
       "      <td>NaN</td>\n",
       "    </tr>\n",
       "    <tr>\n",
       "      <th>3</th>\n",
       "      <td>2022-02-28</td>\n",
       "      <td>5</td>\n",
       "      <td>29</td>\n",
       "      <td>29</td>\n",
       "      <td>150</td>\n",
       "      <td>816</td>\n",
       "      <td>74</td>\n",
       "      <td>21</td>\n",
       "      <td>291.0</td>\n",
       "      <td>60.0</td>\n",
       "      <td>3</td>\n",
       "      <td>2</td>\n",
       "      <td>5</td>\n",
       "      <td>NaN</td>\n",
       "      <td>NaN</td>\n",
       "      <td>NaN</td>\n",
       "      <td>NaN</td>\n",
       "      <td>NaN</td>\n",
       "    </tr>\n",
       "    <tr>\n",
       "      <th>4</th>\n",
       "      <td>2022-03-01</td>\n",
       "      <td>6</td>\n",
       "      <td>29</td>\n",
       "      <td>29</td>\n",
       "      <td>198</td>\n",
       "      <td>846</td>\n",
       "      <td>77</td>\n",
       "      <td>24</td>\n",
       "      <td>305.0</td>\n",
       "      <td>60.0</td>\n",
       "      <td>3</td>\n",
       "      <td>2</td>\n",
       "      <td>7</td>\n",
       "      <td>NaN</td>\n",
       "      <td>NaN</td>\n",
       "      <td>NaN</td>\n",
       "      <td>NaN</td>\n",
       "      <td>NaN</td>\n",
       "    </tr>\n",
       "    <tr>\n",
       "      <th>...</th>\n",
       "      <td>...</td>\n",
       "      <td>...</td>\n",
       "      <td>...</td>\n",
       "      <td>...</td>\n",
       "      <td>...</td>\n",
       "      <td>...</td>\n",
       "      <td>...</td>\n",
       "      <td>...</td>\n",
       "      <td>...</td>\n",
       "      <td>...</td>\n",
       "      <td>...</td>\n",
       "      <td>...</td>\n",
       "      <td>...</td>\n",
       "      <td>...</td>\n",
       "      <td>...</td>\n",
       "      <td>...</td>\n",
       "      <td>...</td>\n",
       "      <td>...</td>\n",
       "    </tr>\n",
       "    <tr>\n",
       "      <th>99</th>\n",
       "      <td>2022-06-04</td>\n",
       "      <td>101</td>\n",
       "      <td>210</td>\n",
       "      <td>175</td>\n",
       "      <td>1376</td>\n",
       "      <td>3379</td>\n",
       "      <td>680</td>\n",
       "      <td>207</td>\n",
       "      <td>NaN</td>\n",
       "      <td>NaN</td>\n",
       "      <td>540</td>\n",
       "      <td>13</td>\n",
       "      <td>95</td>\n",
       "      <td>52.0</td>\n",
       "      <td>NaN</td>\n",
       "      <td>2337.0</td>\n",
       "      <td>122.0</td>\n",
       "      <td>Zaporizhzhia</td>\n",
       "    </tr>\n",
       "    <tr>\n",
       "      <th>100</th>\n",
       "      <td>2022-06-05</td>\n",
       "      <td>102</td>\n",
       "      <td>210</td>\n",
       "      <td>175</td>\n",
       "      <td>1381</td>\n",
       "      <td>3392</td>\n",
       "      <td>686</td>\n",
       "      <td>207</td>\n",
       "      <td>NaN</td>\n",
       "      <td>NaN</td>\n",
       "      <td>548</td>\n",
       "      <td>13</td>\n",
       "      <td>95</td>\n",
       "      <td>53.0</td>\n",
       "      <td>NaN</td>\n",
       "      <td>2360.0</td>\n",
       "      <td>122.0</td>\n",
       "      <td>Bakhmut</td>\n",
       "    </tr>\n",
       "    <tr>\n",
       "      <th>101</th>\n",
       "      <td>2022-06-06</td>\n",
       "      <td>103</td>\n",
       "      <td>211</td>\n",
       "      <td>176</td>\n",
       "      <td>1386</td>\n",
       "      <td>3400</td>\n",
       "      <td>690</td>\n",
       "      <td>207</td>\n",
       "      <td>NaN</td>\n",
       "      <td>NaN</td>\n",
       "      <td>551</td>\n",
       "      <td>13</td>\n",
       "      <td>96</td>\n",
       "      <td>53.0</td>\n",
       "      <td>NaN</td>\n",
       "      <td>2395.0</td>\n",
       "      <td>125.0</td>\n",
       "      <td>Slov'yansʹk</td>\n",
       "    </tr>\n",
       "    <tr>\n",
       "      <th>102</th>\n",
       "      <td>2022-06-07</td>\n",
       "      <td>104</td>\n",
       "      <td>212</td>\n",
       "      <td>177</td>\n",
       "      <td>1390</td>\n",
       "      <td>3416</td>\n",
       "      <td>694</td>\n",
       "      <td>207</td>\n",
       "      <td>NaN</td>\n",
       "      <td>NaN</td>\n",
       "      <td>553</td>\n",
       "      <td>13</td>\n",
       "      <td>96</td>\n",
       "      <td>53.0</td>\n",
       "      <td>NaN</td>\n",
       "      <td>2405.0</td>\n",
       "      <td>125.0</td>\n",
       "      <td>Slov'yansʹk</td>\n",
       "    </tr>\n",
       "    <tr>\n",
       "      <th>103</th>\n",
       "      <td>2022-06-08</td>\n",
       "      <td>105</td>\n",
       "      <td>212</td>\n",
       "      <td>178</td>\n",
       "      <td>1393</td>\n",
       "      <td>3429</td>\n",
       "      <td>703</td>\n",
       "      <td>213</td>\n",
       "      <td>NaN</td>\n",
       "      <td>NaN</td>\n",
       "      <td>559</td>\n",
       "      <td>13</td>\n",
       "      <td>96</td>\n",
       "      <td>53.0</td>\n",
       "      <td>NaN</td>\n",
       "      <td>2406.0</td>\n",
       "      <td>125.0</td>\n",
       "      <td>Slov'yansʹk</td>\n",
       "    </tr>\n",
       "  </tbody>\n",
       "</table>\n",
       "<p>104 rows × 18 columns</p>\n",
       "</div>"
      ],
      "text/plain": [
       "           date  day  aircraft  helicopter  tank   APC  field artillery  MRL  \\\n",
       "0    2022-02-25    2        10           7    80   516               49    4   \n",
       "1    2022-02-26    3        27          26   146   706               49    4   \n",
       "2    2022-02-27    4        27          26   150   706               50    4   \n",
       "3    2022-02-28    5        29          29   150   816               74   21   \n",
       "4    2022-03-01    6        29          29   198   846               77   24   \n",
       "..          ...  ...       ...         ...   ...   ...              ...  ...   \n",
       "99   2022-06-04  101       210         175  1376  3379              680  207   \n",
       "100  2022-06-05  102       210         175  1381  3392              686  207   \n",
       "101  2022-06-06  103       211         176  1386  3400              690  207   \n",
       "102  2022-06-07  104       212         177  1390  3416              694  207   \n",
       "103  2022-06-08  105       212         178  1393  3429              703  213   \n",
       "\n",
       "     military auto  fuel tank  drone  naval ship  anti-aircraft warfare  \\\n",
       "0            100.0       60.0      0           2                      0   \n",
       "1            130.0       60.0      2           2                      0   \n",
       "2            130.0       60.0      2           2                      0   \n",
       "3            291.0       60.0      3           2                      5   \n",
       "4            305.0       60.0      3           2                      7   \n",
       "..             ...        ...    ...         ...                    ...   \n",
       "99             NaN        NaN    540          13                     95   \n",
       "100            NaN        NaN    548          13                     95   \n",
       "101            NaN        NaN    551          13                     96   \n",
       "102            NaN        NaN    553          13                     96   \n",
       "103            NaN        NaN    559          13                     96   \n",
       "\n",
       "     special equipment  mobile SRBM system  vehicles and fuel tanks  \\\n",
       "0                  NaN                 NaN                      NaN   \n",
       "1                  NaN                 NaN                      NaN   \n",
       "2                  NaN                 NaN                      NaN   \n",
       "3                  NaN                 NaN                      NaN   \n",
       "4                  NaN                 NaN                      NaN   \n",
       "..                 ...                 ...                      ...   \n",
       "99                52.0                 NaN                   2337.0   \n",
       "100               53.0                 NaN                   2360.0   \n",
       "101               53.0                 NaN                   2395.0   \n",
       "102               53.0                 NaN                   2405.0   \n",
       "103               53.0                 NaN                   2406.0   \n",
       "\n",
       "     cruise missiles greatest losses direction  \n",
       "0                NaN                       NaN  \n",
       "1                NaN                       NaN  \n",
       "2                NaN                       NaN  \n",
       "3                NaN                       NaN  \n",
       "4                NaN                       NaN  \n",
       "..               ...                       ...  \n",
       "99             122.0              Zaporizhzhia  \n",
       "100            122.0                   Bakhmut  \n",
       "101            125.0               Slov'yansʹk  \n",
       "102            125.0               Slov'yansʹk  \n",
       "103            125.0               Slov'yansʹk  \n",
       "\n",
       "[104 rows x 18 columns]"
      ]
     },
     "execution_count": 5,
     "metadata": {},
     "output_type": "execute_result"
    }
   ],
   "source": [
    "russian_equipment"
   ]
  },
  {
   "cell_type": "code",
   "execution_count": 6,
   "id": "fe00964b",
   "metadata": {
    "execution": {
     "iopub.execute_input": "2022-06-08T22:04:51.037240Z",
     "iopub.status.busy": "2022-06-08T22:04:51.036430Z",
     "iopub.status.idle": "2022-06-08T22:04:51.045983Z",
     "shell.execute_reply": "2022-06-08T22:04:51.046683Z",
     "shell.execute_reply.started": "2022-06-08T22:03:02.574221Z"
    },
    "papermill": {
     "duration": 0.046315,
     "end_time": "2022-06-08T22:04:51.046866",
     "exception": false,
     "start_time": "2022-06-08T22:04:51.000551",
     "status": "completed"
    },
    "tags": []
   },
   "outputs": [
    {
     "name": "stdout",
     "output_type": "stream",
     "text": [
      "<class 'pandas.core.frame.DataFrame'>\n",
      "Index: 104 entries, 2022-02-25 to 2022-06-08\n",
      "Data columns (total 17 columns):\n",
      " #   Column                     Non-Null Count  Dtype  \n",
      "---  ------                     --------------  -----  \n",
      " 0   day                        104 non-null    int64  \n",
      " 1   aircraft                   104 non-null    int64  \n",
      " 2   helicopter                 104 non-null    int64  \n",
      " 3   tank                       104 non-null    int64  \n",
      " 4   APC                        104 non-null    int64  \n",
      " 5   field artillery            104 non-null    int64  \n",
      " 6   MRL                        104 non-null    int64  \n",
      " 7   military auto              104 non-null    float64\n",
      " 8   fuel tank                  104 non-null    float64\n",
      " 9   drone                      104 non-null    int64  \n",
      " 10  naval ship                 104 non-null    int64  \n",
      " 11  anti-aircraft warfare      104 non-null    int64  \n",
      " 12  special equipment          104 non-null    float64\n",
      " 13  mobile SRBM system         104 non-null    float64\n",
      " 14  vehicles and fuel tanks    104 non-null    float64\n",
      " 15  cruise missiles            104 non-null    float64\n",
      " 16  greatest losses direction  104 non-null    object \n",
      "dtypes: float64(6), int64(10), object(1)\n",
      "memory usage: 14.6+ KB\n"
     ]
    }
   ],
   "source": [
    "#fill empty spaces in Dataframe with zeroes and set index for sorting by date.\n",
    "russian_equipment = russian_equipment.fillna(0)\n",
    "russian_equipment.set_index('date', inplace=True)\n",
    "russian_equipment.info()"
   ]
  },
  {
   "cell_type": "code",
   "execution_count": 7,
   "id": "11336707",
   "metadata": {
    "execution": {
     "iopub.execute_input": "2022-06-08T22:04:51.113930Z",
     "iopub.status.busy": "2022-06-08T22:04:51.113124Z",
     "iopub.status.idle": "2022-06-08T22:04:51.126602Z",
     "shell.execute_reply": "2022-06-08T22:04:51.126159Z",
     "shell.execute_reply.started": "2022-06-08T22:03:02.628598Z"
    },
    "papermill": {
     "duration": 0.048634,
     "end_time": "2022-06-08T22:04:51.126709",
     "exception": false,
     "start_time": "2022-06-08T22:04:51.078075",
     "status": "completed"
    },
    "tags": []
   },
   "outputs": [
    {
     "data": {
      "text/html": [
       "<div>\n",
       "<style scoped>\n",
       "    .dataframe tbody tr th:only-of-type {\n",
       "        vertical-align: middle;\n",
       "    }\n",
       "\n",
       "    .dataframe tbody tr th {\n",
       "        vertical-align: top;\n",
       "    }\n",
       "\n",
       "    .dataframe thead th {\n",
       "        text-align: right;\n",
       "    }\n",
       "</style>\n",
       "<table border=\"1\" class=\"dataframe\">\n",
       "  <thead>\n",
       "    <tr style=\"text-align: right;\">\n",
       "      <th></th>\n",
       "      <th>day</th>\n",
       "      <th>aircraft</th>\n",
       "      <th>helicopter</th>\n",
       "      <th>tank</th>\n",
       "      <th>APC</th>\n",
       "      <th>field artillery</th>\n",
       "      <th>MRL</th>\n",
       "      <th>drone</th>\n",
       "      <th>naval ship</th>\n",
       "      <th>anti-aircraft warfare</th>\n",
       "      <th>special equipment</th>\n",
       "      <th>vehicles and fuel tanks</th>\n",
       "      <th>cruise missiles</th>\n",
       "    </tr>\n",
       "    <tr>\n",
       "      <th>date</th>\n",
       "      <th></th>\n",
       "      <th></th>\n",
       "      <th></th>\n",
       "      <th></th>\n",
       "      <th></th>\n",
       "      <th></th>\n",
       "      <th></th>\n",
       "      <th></th>\n",
       "      <th></th>\n",
       "      <th></th>\n",
       "      <th></th>\n",
       "      <th></th>\n",
       "      <th></th>\n",
       "    </tr>\n",
       "  </thead>\n",
       "  <tbody>\n",
       "    <tr>\n",
       "      <th>2022-02-25</th>\n",
       "      <td>2</td>\n",
       "      <td>10</td>\n",
       "      <td>7</td>\n",
       "      <td>80</td>\n",
       "      <td>516</td>\n",
       "      <td>49</td>\n",
       "      <td>4</td>\n",
       "      <td>0</td>\n",
       "      <td>2</td>\n",
       "      <td>0</td>\n",
       "      <td>100.0</td>\n",
       "      <td>60.0</td>\n",
       "      <td>0.0</td>\n",
       "    </tr>\n",
       "    <tr>\n",
       "      <th>2022-02-26</th>\n",
       "      <td>3</td>\n",
       "      <td>27</td>\n",
       "      <td>26</td>\n",
       "      <td>146</td>\n",
       "      <td>706</td>\n",
       "      <td>49</td>\n",
       "      <td>4</td>\n",
       "      <td>2</td>\n",
       "      <td>2</td>\n",
       "      <td>0</td>\n",
       "      <td>130.0</td>\n",
       "      <td>60.0</td>\n",
       "      <td>0.0</td>\n",
       "    </tr>\n",
       "    <tr>\n",
       "      <th>2022-02-27</th>\n",
       "      <td>4</td>\n",
       "      <td>27</td>\n",
       "      <td>26</td>\n",
       "      <td>150</td>\n",
       "      <td>706</td>\n",
       "      <td>50</td>\n",
       "      <td>4</td>\n",
       "      <td>2</td>\n",
       "      <td>2</td>\n",
       "      <td>0</td>\n",
       "      <td>130.0</td>\n",
       "      <td>60.0</td>\n",
       "      <td>0.0</td>\n",
       "    </tr>\n",
       "    <tr>\n",
       "      <th>2022-02-28</th>\n",
       "      <td>5</td>\n",
       "      <td>29</td>\n",
       "      <td>29</td>\n",
       "      <td>150</td>\n",
       "      <td>816</td>\n",
       "      <td>74</td>\n",
       "      <td>21</td>\n",
       "      <td>3</td>\n",
       "      <td>2</td>\n",
       "      <td>5</td>\n",
       "      <td>291.0</td>\n",
       "      <td>60.0</td>\n",
       "      <td>0.0</td>\n",
       "    </tr>\n",
       "    <tr>\n",
       "      <th>2022-03-01</th>\n",
       "      <td>6</td>\n",
       "      <td>29</td>\n",
       "      <td>29</td>\n",
       "      <td>198</td>\n",
       "      <td>846</td>\n",
       "      <td>77</td>\n",
       "      <td>24</td>\n",
       "      <td>3</td>\n",
       "      <td>2</td>\n",
       "      <td>7</td>\n",
       "      <td>305.0</td>\n",
       "      <td>60.0</td>\n",
       "      <td>0.0</td>\n",
       "    </tr>\n",
       "  </tbody>\n",
       "</table>\n",
       "</div>"
      ],
      "text/plain": [
       "            day  aircraft  helicopter  tank  APC  field artillery  MRL  drone  \\\n",
       "date                                                                            \n",
       "2022-02-25    2        10           7    80  516               49    4      0   \n",
       "2022-02-26    3        27          26   146  706               49    4      2   \n",
       "2022-02-27    4        27          26   150  706               50    4      2   \n",
       "2022-02-28    5        29          29   150  816               74   21      3   \n",
       "2022-03-01    6        29          29   198  846               77   24      3   \n",
       "\n",
       "            naval ship  anti-aircraft warfare  special equipment  \\\n",
       "date                                                               \n",
       "2022-02-25           2                      0              100.0   \n",
       "2022-02-26           2                      0              130.0   \n",
       "2022-02-27           2                      0              130.0   \n",
       "2022-02-28           2                      5              291.0   \n",
       "2022-03-01           2                      7              305.0   \n",
       "\n",
       "            vehicles and fuel tanks  cruise missiles  \n",
       "date                                                  \n",
       "2022-02-25                     60.0              0.0  \n",
       "2022-02-26                     60.0              0.0  \n",
       "2022-02-27                     60.0              0.0  \n",
       "2022-02-28                     60.0              0.0  \n",
       "2022-03-01                     60.0              0.0  "
      ]
     },
     "execution_count": 7,
     "metadata": {},
     "output_type": "execute_result"
    }
   ],
   "source": [
    "#Consolidating repetitive columns and deleting blank ones\n",
    "russian_equipment['vehicles and fuel tanks'] = russian_equipment['fuel tank'] + russian_equipment['vehicles and fuel tanks']\n",
    "russian_equipment['special equipment'] = russian_equipment['military auto'] + russian_equipment['special equipment']\n",
    "\n",
    "russian_equipment.drop(columns={'mobile SRBM system', 'fuel tank', 'military auto', 'greatest losses direction'}, inplace=True)\n",
    "\n",
    "russian_equipment.head()"
   ]
  },
  {
   "cell_type": "code",
   "execution_count": 8,
   "id": "1851aa6f",
   "metadata": {
    "execution": {
     "iopub.execute_input": "2022-06-08T22:04:51.199326Z",
     "iopub.status.busy": "2022-06-08T22:04:51.198784Z",
     "iopub.status.idle": "2022-06-08T22:04:51.202925Z",
     "shell.execute_reply": "2022-06-08T22:04:51.203383Z",
     "shell.execute_reply.started": "2022-06-08T22:03:02.678329Z"
    },
    "papermill": {
     "duration": 0.045636,
     "end_time": "2022-06-08T22:04:51.203512",
     "exception": false,
     "start_time": "2022-06-08T22:04:51.157876",
     "status": "completed"
    },
    "tags": []
   },
   "outputs": [
    {
     "name": "stdout",
     "output_type": "stream",
     "text": [
      "<class 'pandas.core.frame.DataFrame'>\n",
      "Index: 104 entries, 2022-02-25 to 2022-06-08\n",
      "Data columns (total 13 columns):\n",
      " #   Column                   Non-Null Count  Dtype\n",
      "---  ------                   --------------  -----\n",
      " 0   day                      104 non-null    int64\n",
      " 1   aircraft                 104 non-null    int64\n",
      " 2   helicopter               104 non-null    int64\n",
      " 3   tank                     104 non-null    int64\n",
      " 4   APC                      104 non-null    int64\n",
      " 5   field artillery          104 non-null    int64\n",
      " 6   MRL                      104 non-null    int64\n",
      " 7   drone                    104 non-null    int64\n",
      " 8   naval ship               104 non-null    int64\n",
      " 9   anti-aircraft warfare    104 non-null    int64\n",
      " 10  special equipment        104 non-null    int64\n",
      " 11  vehicles and fuel tanks  104 non-null    int64\n",
      " 12  cruise missiles          104 non-null    int64\n",
      "dtypes: int64(13)\n",
      "memory usage: 11.4+ KB\n"
     ]
    }
   ],
   "source": [
    "#Change all numeric data to integer.\n",
    "russian_equipment = russian_equipment.astype(int)\n",
    "russian_equipment.info()"
   ]
  },
  {
   "cell_type": "markdown",
   "id": "5115bd37",
   "metadata": {
    "papermill": {
     "duration": 0.030775,
     "end_time": "2022-06-08T22:04:51.265313",
     "exception": false,
     "start_time": "2022-06-08T22:04:51.234538",
     "status": "completed"
    },
    "tags": []
   },
   "source": [
    "## Data Visualization\n",
    "## Problem 1\n",
    "##### Visually represent the country being invaded."
   ]
  },
  {
   "cell_type": "code",
   "execution_count": 9,
   "id": "5d5c631c",
   "metadata": {
    "execution": {
     "iopub.execute_input": "2022-06-08T22:04:51.335514Z",
     "iopub.status.busy": "2022-06-08T22:04:51.334818Z",
     "iopub.status.idle": "2022-06-08T22:04:51.355627Z",
     "shell.execute_reply": "2022-06-08T22:04:51.356152Z",
     "shell.execute_reply.started": "2022-06-08T22:03:02.781154Z"
    },
    "papermill": {
     "duration": 0.059449,
     "end_time": "2022-06-08T22:04:51.356359",
     "exception": false,
     "start_time": "2022-06-08T22:04:51.296910",
     "status": "completed"
    },
    "tags": []
   },
   "outputs": [
    {
     "data": {
      "text/html": [
       "<div style=\"width:100%;\"><div style=\"position:relative;width:100%;height:0;padding-bottom:60%;\"><span style=\"color:#565656\">Make this Notebook Trusted to load map: File -> Trust Notebook</span><iframe src=\"about:blank\" style=\"position:absolute;width:100%;height:100%;left:0;top:0;border:none !important;\" data-html=%3C%21DOCTYPE%20html%3E%0A%3Chead%3E%20%20%20%20%0A%20%20%20%20%3Cmeta%20http-equiv%3D%22content-type%22%20content%3D%22text/html%3B%20charset%3DUTF-8%22%20/%3E%0A%20%20%20%20%0A%20%20%20%20%20%20%20%20%3Cscript%3E%0A%20%20%20%20%20%20%20%20%20%20%20%20L_NO_TOUCH%20%3D%20false%3B%0A%20%20%20%20%20%20%20%20%20%20%20%20L_DISABLE_3D%20%3D%20false%3B%0A%20%20%20%20%20%20%20%20%3C/script%3E%0A%20%20%20%20%0A%20%20%20%20%3Cstyle%3Ehtml%2C%20body%20%7Bwidth%3A%20100%25%3Bheight%3A%20100%25%3Bmargin%3A%200%3Bpadding%3A%200%3B%7D%3C/style%3E%0A%20%20%20%20%3Cstyle%3E%23map%20%7Bposition%3Aabsolute%3Btop%3A0%3Bbottom%3A0%3Bright%3A0%3Bleft%3A0%3B%7D%3C/style%3E%0A%20%20%20%20%3Cscript%20src%3D%22https%3A//cdn.jsdelivr.net/npm/leaflet%401.6.0/dist/leaflet.js%22%3E%3C/script%3E%0A%20%20%20%20%3Cscript%20src%3D%22https%3A//code.jquery.com/jquery-1.12.4.min.js%22%3E%3C/script%3E%0A%20%20%20%20%3Cscript%20src%3D%22https%3A//maxcdn.bootstrapcdn.com/bootstrap/3.2.0/js/bootstrap.min.js%22%3E%3C/script%3E%0A%20%20%20%20%3Cscript%20src%3D%22https%3A//cdnjs.cloudflare.com/ajax/libs/Leaflet.awesome-markers/2.0.2/leaflet.awesome-markers.js%22%3E%3C/script%3E%0A%20%20%20%20%3Clink%20rel%3D%22stylesheet%22%20href%3D%22https%3A//cdn.jsdelivr.net/npm/leaflet%401.6.0/dist/leaflet.css%22/%3E%0A%20%20%20%20%3Clink%20rel%3D%22stylesheet%22%20href%3D%22https%3A//maxcdn.bootstrapcdn.com/bootstrap/3.2.0/css/bootstrap.min.css%22/%3E%0A%20%20%20%20%3Clink%20rel%3D%22stylesheet%22%20href%3D%22https%3A//maxcdn.bootstrapcdn.com/bootstrap/3.2.0/css/bootstrap-theme.min.css%22/%3E%0A%20%20%20%20%3Clink%20rel%3D%22stylesheet%22%20href%3D%22https%3A//maxcdn.bootstrapcdn.com/font-awesome/4.6.3/css/font-awesome.min.css%22/%3E%0A%20%20%20%20%3Clink%20rel%3D%22stylesheet%22%20href%3D%22https%3A//cdnjs.cloudflare.com/ajax/libs/Leaflet.awesome-markers/2.0.2/leaflet.awesome-markers.css%22/%3E%0A%20%20%20%20%3Clink%20rel%3D%22stylesheet%22%20href%3D%22https%3A//cdn.jsdelivr.net/gh/python-visualization/folium/folium/templates/leaflet.awesome.rotate.min.css%22/%3E%0A%20%20%20%20%0A%20%20%20%20%20%20%20%20%20%20%20%20%3Cmeta%20name%3D%22viewport%22%20content%3D%22width%3Ddevice-width%2C%0A%20%20%20%20%20%20%20%20%20%20%20%20%20%20%20%20initial-scale%3D1.0%2C%20maximum-scale%3D1.0%2C%20user-scalable%3Dno%22%20/%3E%0A%20%20%20%20%20%20%20%20%20%20%20%20%3Cstyle%3E%0A%20%20%20%20%20%20%20%20%20%20%20%20%20%20%20%20%23map_7da0235dcfa24f8fa22f006beed54742%20%7B%0A%20%20%20%20%20%20%20%20%20%20%20%20%20%20%20%20%20%20%20%20position%3A%20relative%3B%0A%20%20%20%20%20%20%20%20%20%20%20%20%20%20%20%20%20%20%20%20width%3A%20100.0%25%3B%0A%20%20%20%20%20%20%20%20%20%20%20%20%20%20%20%20%20%20%20%20height%3A%20100.0%25%3B%0A%20%20%20%20%20%20%20%20%20%20%20%20%20%20%20%20%20%20%20%20left%3A%200.0%25%3B%0A%20%20%20%20%20%20%20%20%20%20%20%20%20%20%20%20%20%20%20%20top%3A%200.0%25%3B%0A%20%20%20%20%20%20%20%20%20%20%20%20%20%20%20%20%7D%0A%20%20%20%20%20%20%20%20%20%20%20%20%3C/style%3E%0A%20%20%20%20%20%20%20%20%0A%3C/head%3E%0A%3Cbody%3E%20%20%20%20%0A%20%20%20%20%0A%20%20%20%20%20%20%20%20%20%20%20%20%3Cdiv%20class%3D%22folium-map%22%20id%3D%22map_7da0235dcfa24f8fa22f006beed54742%22%20%3E%3C/div%3E%0A%20%20%20%20%20%20%20%20%0A%3C/body%3E%0A%3Cscript%3E%20%20%20%20%0A%20%20%20%20%0A%20%20%20%20%20%20%20%20%20%20%20%20var%20map_7da0235dcfa24f8fa22f006beed54742%20%3D%20L.map%28%0A%20%20%20%20%20%20%20%20%20%20%20%20%20%20%20%20%22map_7da0235dcfa24f8fa22f006beed54742%22%2C%0A%20%20%20%20%20%20%20%20%20%20%20%20%20%20%20%20%7B%0A%20%20%20%20%20%20%20%20%20%20%20%20%20%20%20%20%20%20%20%20center%3A%20%5B48.383022%2C%2031.1828699%5D%2C%0A%20%20%20%20%20%20%20%20%20%20%20%20%20%20%20%20%20%20%20%20crs%3A%20L.CRS.EPSG3857%2C%0A%20%20%20%20%20%20%20%20%20%20%20%20%20%20%20%20%20%20%20%20zoom%3A%206.49%2C%0A%20%20%20%20%20%20%20%20%20%20%20%20%20%20%20%20%20%20%20%20zoomControl%3A%20true%2C%0A%20%20%20%20%20%20%20%20%20%20%20%20%20%20%20%20%20%20%20%20preferCanvas%3A%20false%2C%0A%20%20%20%20%20%20%20%20%20%20%20%20%20%20%20%20%7D%0A%20%20%20%20%20%20%20%20%20%20%20%20%29%3B%0A%0A%20%20%20%20%20%20%20%20%20%20%20%20%0A%0A%20%20%20%20%20%20%20%20%0A%20%20%20%20%0A%20%20%20%20%20%20%20%20%20%20%20%20var%20tile_layer_779e051bb7fc428ea3831721b60bd9ae%20%3D%20L.tileLayer%28%0A%20%20%20%20%20%20%20%20%20%20%20%20%20%20%20%20%22https%3A//stamen-tiles-%7Bs%7D.a.ssl.fastly.net/terrain/%7Bz%7D/%7Bx%7D/%7By%7D.jpg%22%2C%0A%20%20%20%20%20%20%20%20%20%20%20%20%20%20%20%20%7B%22attribution%22%3A%20%22Map%20tiles%20by%20%5Cu003ca%20href%3D%5C%22http%3A//stamen.com%5C%22%5Cu003eStamen%20Design%5Cu003c/a%5Cu003e%2C%20under%20%5Cu003ca%20href%3D%5C%22http%3A//creativecommons.org/licenses/by/3.0%5C%22%5Cu003eCC%20BY%203.0%5Cu003c/a%5Cu003e.%20Data%20by%20%5Cu0026copy%3B%20%5Cu003ca%20href%3D%5C%22http%3A//openstreetmap.org%5C%22%5Cu003eOpenStreetMap%5Cu003c/a%5Cu003e%2C%20under%20%5Cu003ca%20href%3D%5C%22http%3A//creativecommons.org/licenses/by-sa/3.0%5C%22%5Cu003eCC%20BY%20SA%5Cu003c/a%5Cu003e.%22%2C%20%22detectRetina%22%3A%20false%2C%20%22maxNativeZoom%22%3A%2018%2C%20%22maxZoom%22%3A%2018%2C%20%22minZoom%22%3A%200%2C%20%22noWrap%22%3A%20false%2C%20%22opacity%22%3A%201%2C%20%22subdomains%22%3A%20%22abc%22%2C%20%22tms%22%3A%20false%7D%0A%20%20%20%20%20%20%20%20%20%20%20%20%29.addTo%28map_7da0235dcfa24f8fa22f006beed54742%29%3B%0A%20%20%20%20%20%20%20%20%0A%20%20%20%20%0A%20%20%20%20%20%20%20%20%20%20%20%20var%20feature_group_a3bdf1daa9ce47b1897151c93323904c%20%3D%20L.featureGroup%28%0A%20%20%20%20%20%20%20%20%20%20%20%20%20%20%20%20%7B%7D%0A%20%20%20%20%20%20%20%20%20%20%20%20%29.addTo%28map_7da0235dcfa24f8fa22f006beed54742%29%3B%0A%20%20%20%20%20%20%20%20%0A%20%20%20%20%0A%20%20%20%20%20%20%20%20%20%20%20%20var%20circle_marker_b553c48f499d48e5a3e950182a445308%20%3D%20L.circleMarker%28%0A%20%20%20%20%20%20%20%20%20%20%20%20%20%20%20%20%5B50.4500336%2C%2030.5241361%5D%2C%0A%20%20%20%20%20%20%20%20%20%20%20%20%20%20%20%20%7B%22bubblingMouseEvents%22%3A%20true%2C%20%22color%22%3A%20%22red%22%2C%20%22dashArray%22%3A%20null%2C%20%22dashOffset%22%3A%20null%2C%20%22fill%22%3A%20true%2C%20%22fillColor%22%3A%20%22blue%22%2C%20%22fillOpacity%22%3A%200.2%2C%20%22fillRule%22%3A%20%22evenodd%22%2C%20%22lineCap%22%3A%20%22round%22%2C%20%22lineJoin%22%3A%20%22round%22%2C%20%22opacity%22%3A%201.0%2C%20%22radius%22%3A%205%2C%20%22stroke%22%3A%20true%2C%20%22weight%22%3A%203%7D%0A%20%20%20%20%20%20%20%20%20%20%20%20%29.addTo%28feature_group_a3bdf1daa9ce47b1897151c93323904c%29%3B%0A%20%20%20%20%20%20%20%20%0A%20%20%20%20%0A%20%20%20%20%20%20%20%20%20%20%20%20var%20marker_881d5b241da8408da92399c1bdfc7597%20%3D%20L.marker%28%0A%20%20%20%20%20%20%20%20%20%20%20%20%20%20%20%20%5B50.4500336%2C%2030.5241361%5D%2C%0A%20%20%20%20%20%20%20%20%20%20%20%20%20%20%20%20%7B%7D%0A%20%20%20%20%20%20%20%20%20%20%20%20%29.addTo%28map_7da0235dcfa24f8fa22f006beed54742%29%3B%0A%20%20%20%20%20%20%20%20%0A%20%20%20%20%0A%20%20%20%20%20%20%20%20var%20popup_ed26e3f61ce44249baf30b8779ec3616%20%3D%20L.popup%28%7B%22maxWidth%22%3A%20%22100%25%22%7D%29%3B%0A%0A%20%20%20%20%20%20%20%20%0A%20%20%20%20%20%20%20%20%20%20%20%20var%20html_cb0b5b4ab8af4c5795e9e9ba4323da47%20%3D%20%24%28%60%3Cdiv%20id%3D%22html_cb0b5b4ab8af4c5795e9e9ba4323da47%22%20style%3D%22width%3A%20100.0%25%3B%20height%3A%20100.0%25%3B%22%3EUkraine%27s%20Capital%3C/div%3E%60%29%5B0%5D%3B%0A%20%20%20%20%20%20%20%20%20%20%20%20popup_ed26e3f61ce44249baf30b8779ec3616.setContent%28html_cb0b5b4ab8af4c5795e9e9ba4323da47%29%3B%0A%20%20%20%20%20%20%20%20%0A%0A%20%20%20%20%20%20%20%20marker_881d5b241da8408da92399c1bdfc7597.bindPopup%28popup_ed26e3f61ce44249baf30b8779ec3616%29%0A%20%20%20%20%20%20%20%20%3B%0A%0A%20%20%20%20%20%20%20%20%0A%20%20%20%20%0A%3C/script%3E onload=\"this.contentDocument.open();this.contentDocument.write(    decodeURIComponent(this.getAttribute('data-html')));this.contentDocument.close();\" allowfullscreen webkitallowfullscreen mozallowfullscreen></iframe></div></div>"
      ],
      "text/plain": [
       "<folium.folium.Map at 0x7f67c510be90>"
      ]
     },
     "execution_count": 9,
     "metadata": {},
     "output_type": "execute_result"
    }
   ],
   "source": [
    "## Coordinates as at 03/31/2021 obtained from googlemaps\n",
    "ukraine_latitude = 48.383022 \n",
    "ukrain_longitude = 31.1828699\n",
    "ukraine_map = F.Map(location=[ukraine_latitude, ukrain_longitude], tiles=\"Stamen Terrain\", zoom_start=6.49)\n",
    "\n",
    "kiev = F.map.FeatureGroup()\n",
    "\n",
    "kiev_latitude =50.4500336\n",
    "kiev_longitude =30.5241361\n",
    "kiev.add_child(F.features.CircleMarker([kiev_latitude, kiev_longitude], radius=5, color=\"red\", fill_color=\"blue\"))\n",
    "ukraine_map.add_child(kiev)\n",
    "\n",
    "F.Marker([kiev_latitude, kiev_longitude], popup=\"Ukraine's Capital\").add_to(ukraine_map)\n",
    "\n",
    "ukraine_map"
   ]
  },
  {
   "cell_type": "markdown",
   "id": "9317c8b5",
   "metadata": {
    "papermill": {
     "duration": 0.031424,
     "end_time": "2022-06-08T22:04:51.420612",
     "exception": false,
     "start_time": "2022-06-08T22:04:51.389188",
     "status": "completed"
    },
    "tags": []
   },
   "source": [
    "## Problem 2\n",
    "##### Show the total Prisoners of War per day recorded in the Personel table.\n"
   ]
  },
  {
   "cell_type": "code",
   "execution_count": 10,
   "id": "66eeaf9a",
   "metadata": {
    "execution": {
     "iopub.execute_input": "2022-06-08T22:04:51.499007Z",
     "iopub.status.busy": "2022-06-08T22:04:51.498327Z",
     "iopub.status.idle": "2022-06-08T22:04:51.748885Z",
     "shell.execute_reply": "2022-06-08T22:04:51.749454Z",
     "shell.execute_reply.started": "2022-06-08T22:03:02.843996Z"
    },
    "papermill": {
     "duration": 0.296602,
     "end_time": "2022-06-08T22:04:51.749624",
     "exception": false,
     "start_time": "2022-06-08T22:04:51.453022",
     "status": "completed"
    },
    "tags": []
   },
   "outputs": [
    {
     "data": {
      "image/png": "[encoded data removed]",
      "text/plain": [
       "<Figure size 1440x360 with 1 Axes>"
      ]
     },
     "metadata": {},
     "output_type": "display_data"
    }
   ],
   "source": [
    "# Set graph style\n",
    "sns.set_style('white')\n",
    "\n",
    "# Refine data\n",
    "pow_data = russian_personnel[[\"day\", \"POW\"]]\n",
    "pow_data.reset_index('date', inplace=True)\n",
    "\n",
    "# Create and label plot\n",
    "pow_data.plot(kind='area', x='day', y='POW', color='blue', alpha=.5, figsize=(20,5), legend=False, linestyle=\"-.\")\n",
    "plt.title('Total Prisoners of War Held to Date')\n",
    "plt.xlabel('Days Since Invasion')\n",
    "plt.ylabel(\"Count of Prisoners\")\n",
    "plt.show()"
   ]
  },
  {
   "cell_type": "markdown",
   "id": "fb994317",
   "metadata": {
    "papermill": {
     "duration": 0.033582,
     "end_time": "2022-06-08T22:04:51.816130",
     "exception": false,
     "start_time": "2022-06-08T22:04:51.782548",
     "status": "completed"
    },
    "tags": []
   },
   "source": [
    "## Problem 3\n",
    "##### What is the daily change in POW and Total POW?"
   ]
  },
  {
   "cell_type": "code",
   "execution_count": 11,
   "id": "46e63ca6",
   "metadata": {
    "execution": {
     "iopub.execute_input": "2022-06-08T22:04:51.884473Z",
     "iopub.status.busy": "2022-06-08T22:04:51.883656Z",
     "iopub.status.idle": "2022-06-08T22:04:51.897451Z",
     "shell.execute_reply": "2022-06-08T22:04:51.896965Z",
     "shell.execute_reply.started": "2022-06-08T22:03:03.091830Z"
    },
    "papermill": {
     "duration": 0.048706,
     "end_time": "2022-06-08T22:04:51.897570",
     "exception": false,
     "start_time": "2022-06-08T22:04:51.848864",
     "status": "completed"
    },
    "tags": []
   },
   "outputs": [
    {
     "data": {
      "text/html": [
       "<div>\n",
       "<style scoped>\n",
       "    .dataframe tbody tr th:only-of-type {\n",
       "        vertical-align: middle;\n",
       "    }\n",
       "\n",
       "    .dataframe tbody tr th {\n",
       "        vertical-align: top;\n",
       "    }\n",
       "\n",
       "    .dataframe thead th {\n",
       "        text-align: right;\n",
       "    }\n",
       "</style>\n",
       "<table border=\"1\" class=\"dataframe\">\n",
       "  <thead>\n",
       "    <tr style=\"text-align: right;\">\n",
       "      <th></th>\n",
       "      <th>Daily Total Prisoners of War</th>\n",
       "      <th>Daily Increase in Prisoners of War</th>\n",
       "    </tr>\n",
       "    <tr>\n",
       "      <th>day</th>\n",
       "      <th></th>\n",
       "      <th></th>\n",
       "    </tr>\n",
       "  </thead>\n",
       "  <tbody>\n",
       "    <tr>\n",
       "      <th>2</th>\n",
       "      <td>0</td>\n",
       "      <td>0</td>\n",
       "    </tr>\n",
       "    <tr>\n",
       "      <th>3</th>\n",
       "      <td>0</td>\n",
       "      <td>0</td>\n",
       "    </tr>\n",
       "    <tr>\n",
       "      <th>4</th>\n",
       "      <td>0</td>\n",
       "      <td>0</td>\n",
       "    </tr>\n",
       "    <tr>\n",
       "      <th>5</th>\n",
       "      <td>0</td>\n",
       "      <td>0</td>\n",
       "    </tr>\n",
       "    <tr>\n",
       "      <th>6</th>\n",
       "      <td>200</td>\n",
       "      <td>200</td>\n",
       "    </tr>\n",
       "    <tr>\n",
       "      <th>...</th>\n",
       "      <td>...</td>\n",
       "      <td>...</td>\n",
       "    </tr>\n",
       "    <tr>\n",
       "      <th>101</th>\n",
       "      <td>498</td>\n",
       "      <td>0</td>\n",
       "    </tr>\n",
       "    <tr>\n",
       "      <th>102</th>\n",
       "      <td>498</td>\n",
       "      <td>0</td>\n",
       "    </tr>\n",
       "    <tr>\n",
       "      <th>103</th>\n",
       "      <td>498</td>\n",
       "      <td>0</td>\n",
       "    </tr>\n",
       "    <tr>\n",
       "      <th>104</th>\n",
       "      <td>498</td>\n",
       "      <td>0</td>\n",
       "    </tr>\n",
       "    <tr>\n",
       "      <th>105</th>\n",
       "      <td>498</td>\n",
       "      <td>0</td>\n",
       "    </tr>\n",
       "  </tbody>\n",
       "</table>\n",
       "<p>104 rows × 2 columns</p>\n",
       "</div>"
      ],
      "text/plain": [
       "     Daily Total Prisoners of War  Daily Increase in Prisoners of War\n",
       "day                                                                  \n",
       "2                               0                                   0\n",
       "3                               0                                   0\n",
       "4                               0                                   0\n",
       "5                               0                                   0\n",
       "6                             200                                 200\n",
       "..                            ...                                 ...\n",
       "101                           498                                   0\n",
       "102                           498                                   0\n",
       "103                           498                                   0\n",
       "104                           498                                   0\n",
       "105                           498                                   0\n",
       "\n",
       "[104 rows x 2 columns]"
      ]
     },
     "execution_count": 11,
     "metadata": {},
     "output_type": "execute_result"
    }
   ],
   "source": [
    "# Helper Variables\n",
    "last = 0\n",
    "increase = []\n",
    "\n",
    "# Calculate daily change in POW\n",
    "for i in (pow_data['POW'].values):\n",
    "    count = i - last\n",
    "    increase.append(count)\n",
    "    last = i\n",
    "    \n",
    "# Assign new values to table    \n",
    "pow_data['Daily Increase in Prisoners of War'] = increase\n",
    "\n",
    "# Style table\n",
    "pow_data_ = pow_data[['day', 'POW', 'Daily Increase in Prisoners of War']].set_index('day')\n",
    "pow_data_.rename(columns={'POW':'Daily Total Prisoners of War'}, inplace=True)\n",
    "pow_data_"
   ]
  },
  {
   "cell_type": "code",
   "execution_count": 12,
   "id": "18421b2b",
   "metadata": {
    "execution": {
     "iopub.execute_input": "2022-06-08T22:04:51.972276Z",
     "iopub.status.busy": "2022-06-08T22:04:51.971422Z",
     "iopub.status.idle": "2022-06-08T22:04:52.225664Z",
     "shell.execute_reply": "2022-06-08T22:04:52.226153Z",
     "shell.execute_reply.started": "2022-06-08T22:03:03.108587Z"
    },
    "papermill": {
     "duration": 0.295678,
     "end_time": "2022-06-08T22:04:52.226308",
     "exception": false,
     "start_time": "2022-06-08T22:04:51.930630",
     "status": "completed"
    },
    "tags": []
   },
   "outputs": [
    {
     "data": {
      "image/png": "[encoded data removed]",
      "text/plain": [
       "<Figure size 1440x432 with 1 Axes>"
      ]
     },
     "metadata": {},
     "output_type": "display_data"
    }
   ],
   "source": [
    "# Set graph style\n",
    "sns.set_style('whitegrid')\n",
    "\n",
    "# Create graph\n",
    "pow_data_.plot(figsize=(20,6))\n",
    "plt.xlabel('Days since Invasion')\n",
    "plt.ylabel('Count of Prisoners')\n",
    "plt.title(\"Total Daily Prisoner of War VS Daily Increase in Prisoners of War\")\n",
    "plt.show()"
   ]
  },
  {
   "cell_type": "markdown",
   "id": "902def05",
   "metadata": {
    "papermill": {
     "duration": 0.03464,
     "end_time": "2022-06-08T22:04:52.295709",
     "exception": false,
     "start_time": "2022-06-08T22:04:52.261069",
     "status": "completed"
    },
    "tags": []
   },
   "source": [
    "## Problem 4\n",
    "##### Visualize the daily change in POW."
   ]
  },
  {
   "cell_type": "code",
   "execution_count": 13,
   "id": "44e45d69",
   "metadata": {
    "execution": {
     "iopub.execute_input": "2022-06-08T22:04:52.374838Z",
     "iopub.status.busy": "2022-06-08T22:04:52.374019Z",
     "iopub.status.idle": "2022-06-08T22:04:52.662427Z",
     "shell.execute_reply": "2022-06-08T22:04:52.662841Z",
     "shell.execute_reply.started": "2022-06-08T22:03:03.392540Z"
    },
    "papermill": {
     "duration": 0.331661,
     "end_time": "2022-06-08T22:04:52.662981",
     "exception": false,
     "start_time": "2022-06-08T22:04:52.331320",
     "status": "completed"
    },
    "tags": []
   },
   "outputs": [
    {
     "name": "stdout",
     "output_type": "stream",
     "text": [
      "count    96.000000\n",
      "mean      3.104167\n",
      "std       9.627241\n",
      "min       0.000000\n",
      "25%       0.000000\n",
      "50%       0.000000\n",
      "75%       0.000000\n",
      "max      76.000000\n",
      "Name: Daily Increase in Prisoners of War, dtype: float64\n"
     ]
    },
    {
     "data": {
      "image/png": "[encoded data removed]",
      "text/plain": [
       "<Figure size 1440x432 with 2 Axes>"
      ]
     },
     "metadata": {},
     "output_type": "display_data"
    }
   ],
   "source": [
    "sns.set_style('ticks')\n",
    "\n",
    "# Create Plot Object\n",
    "fig = plt.figure()\n",
    "ax0 = fig.add_subplot(1, 2, 1)\n",
    "ax1 = fig.add_subplot(1, 2, 2)\n",
    "\n",
    "# Assessing data after day 10 when POW is within a more narrow/normalized range. See above graph\n",
    "plot_data1=pow_data_['Daily Increase in Prisoners of War'][8:]\n",
    "print(plot_data1.describe())\n",
    "\n",
    "# Subplot 1: Box plot\n",
    "plot_data1.plot(kind='box', color='blue', figsize=(20, 6), vert=False, ax=ax0, notch=True, label=\"\", \n",
    "                grid=True, patch_artist=True) \n",
    "ax0.set_title(f'Statistical Avg for Daily Increase in POW since day {plot_data1.index[0]} of Invasion')\n",
    "ax0.set_xlabel('Daily Count of Prisoners')\n",
    "\n",
    "# Subplot 2: Line plot\n",
    "plot_data1.plot(color='blue', figsize=(20,6), ax=ax1, marker=\"|\")\n",
    "ax1.set_xlabel('Days since Invasion')\n",
    "ax1.set_ylabel('Daily Count of Prisoners')\n",
    "ax1.set_title(f\"Daily Increase in Prisoners of War since day {plot_data1.index[0]} of Invasion\")\n",
    "\n",
    "# Print graph\n",
    "plt.show()\n"
   ]
  },
  {
   "cell_type": "code",
   "execution_count": 14,
   "id": "49aca011",
   "metadata": {
    "execution": {
     "iopub.execute_input": "2022-06-08T22:04:52.743005Z",
     "iopub.status.busy": "2022-06-08T22:04:52.742197Z",
     "iopub.status.idle": "2022-06-08T22:04:52.747076Z",
     "shell.execute_reply": "2022-06-08T22:04:52.747655Z",
     "shell.execute_reply.started": "2022-06-08T22:03:03.726508Z"
    },
    "papermill": {
     "duration": 0.047398,
     "end_time": "2022-06-08T22:04:52.747822",
     "exception": false,
     "start_time": "2022-06-08T22:04:52.700424",
     "status": "completed"
    },
    "tags": []
   },
   "outputs": [
    {
     "name": "stdout",
     "output_type": "stream",
     "text": [
      "There are 3 daily prisoners of war on average.\n"
     ]
    }
   ],
   "source": [
    "print(f'There are {round(plot_data1.describe()[1])} daily prisoners of war on average.')"
   ]
  },
  {
   "cell_type": "markdown",
   "id": "6dbff65b",
   "metadata": {
    "papermill": {
     "duration": 0.037521,
     "end_time": "2022-06-08T22:04:52.823068",
     "exception": false,
     "start_time": "2022-06-08T22:04:52.785547",
     "status": "completed"
    },
    "tags": []
   },
   "source": [
    "## Problem 5\n",
    "##### What Is the total daily loss for all equipment?"
   ]
  },
  {
   "cell_type": "code",
   "execution_count": 15,
   "id": "1eb4ec57",
   "metadata": {
    "execution": {
     "iopub.execute_input": "2022-06-08T22:04:52.902753Z",
     "iopub.status.busy": "2022-06-08T22:04:52.901804Z",
     "iopub.status.idle": "2022-06-08T22:04:52.917883Z",
     "shell.execute_reply": "2022-06-08T22:04:52.918315Z",
     "shell.execute_reply.started": "2022-06-08T22:03:03.735167Z"
    },
    "papermill": {
     "duration": 0.057712,
     "end_time": "2022-06-08T22:04:52.918444",
     "exception": false,
     "start_time": "2022-06-08T22:04:52.860732",
     "status": "completed"
    },
    "tags": []
   },
   "outputs": [
    {
     "data": {
      "text/html": [
       "<div>\n",
       "<style scoped>\n",
       "    .dataframe tbody tr th:only-of-type {\n",
       "        vertical-align: middle;\n",
       "    }\n",
       "\n",
       "    .dataframe tbody tr th {\n",
       "        vertical-align: top;\n",
       "    }\n",
       "\n",
       "    .dataframe thead th {\n",
       "        text-align: right;\n",
       "    }\n",
       "</style>\n",
       "<table border=\"1\" class=\"dataframe\">\n",
       "  <thead>\n",
       "    <tr style=\"text-align: right;\">\n",
       "      <th></th>\n",
       "      <th>aircraft</th>\n",
       "      <th>helicopter</th>\n",
       "      <th>tank</th>\n",
       "      <th>APC</th>\n",
       "      <th>field artillery</th>\n",
       "      <th>MRL</th>\n",
       "      <th>drone</th>\n",
       "      <th>naval ship</th>\n",
       "      <th>anti-aircraft warfare</th>\n",
       "      <th>special equipment</th>\n",
       "      <th>vehicles and fuel tanks</th>\n",
       "      <th>cruise missiles</th>\n",
       "      <th>Daily Total Equipment Loss</th>\n",
       "    </tr>\n",
       "    <tr>\n",
       "      <th>day</th>\n",
       "      <th></th>\n",
       "      <th></th>\n",
       "      <th></th>\n",
       "      <th></th>\n",
       "      <th></th>\n",
       "      <th></th>\n",
       "      <th></th>\n",
       "      <th></th>\n",
       "      <th></th>\n",
       "      <th></th>\n",
       "      <th></th>\n",
       "      <th></th>\n",
       "      <th></th>\n",
       "    </tr>\n",
       "  </thead>\n",
       "  <tbody>\n",
       "    <tr>\n",
       "      <th>2</th>\n",
       "      <td>10</td>\n",
       "      <td>7</td>\n",
       "      <td>80</td>\n",
       "      <td>516</td>\n",
       "      <td>49</td>\n",
       "      <td>4</td>\n",
       "      <td>0</td>\n",
       "      <td>2</td>\n",
       "      <td>0</td>\n",
       "      <td>100</td>\n",
       "      <td>60</td>\n",
       "      <td>0</td>\n",
       "      <td>828</td>\n",
       "    </tr>\n",
       "    <tr>\n",
       "      <th>3</th>\n",
       "      <td>27</td>\n",
       "      <td>26</td>\n",
       "      <td>146</td>\n",
       "      <td>706</td>\n",
       "      <td>49</td>\n",
       "      <td>4</td>\n",
       "      <td>2</td>\n",
       "      <td>2</td>\n",
       "      <td>0</td>\n",
       "      <td>130</td>\n",
       "      <td>60</td>\n",
       "      <td>0</td>\n",
       "      <td>1152</td>\n",
       "    </tr>\n",
       "    <tr>\n",
       "      <th>4</th>\n",
       "      <td>27</td>\n",
       "      <td>26</td>\n",
       "      <td>150</td>\n",
       "      <td>706</td>\n",
       "      <td>50</td>\n",
       "      <td>4</td>\n",
       "      <td>2</td>\n",
       "      <td>2</td>\n",
       "      <td>0</td>\n",
       "      <td>130</td>\n",
       "      <td>60</td>\n",
       "      <td>0</td>\n",
       "      <td>1157</td>\n",
       "    </tr>\n",
       "    <tr>\n",
       "      <th>5</th>\n",
       "      <td>29</td>\n",
       "      <td>29</td>\n",
       "      <td>150</td>\n",
       "      <td>816</td>\n",
       "      <td>74</td>\n",
       "      <td>21</td>\n",
       "      <td>3</td>\n",
       "      <td>2</td>\n",
       "      <td>5</td>\n",
       "      <td>291</td>\n",
       "      <td>60</td>\n",
       "      <td>0</td>\n",
       "      <td>1480</td>\n",
       "    </tr>\n",
       "    <tr>\n",
       "      <th>6</th>\n",
       "      <td>29</td>\n",
       "      <td>29</td>\n",
       "      <td>198</td>\n",
       "      <td>846</td>\n",
       "      <td>77</td>\n",
       "      <td>24</td>\n",
       "      <td>3</td>\n",
       "      <td>2</td>\n",
       "      <td>7</td>\n",
       "      <td>305</td>\n",
       "      <td>60</td>\n",
       "      <td>0</td>\n",
       "      <td>1580</td>\n",
       "    </tr>\n",
       "    <tr>\n",
       "      <th>...</th>\n",
       "      <td>...</td>\n",
       "      <td>...</td>\n",
       "      <td>...</td>\n",
       "      <td>...</td>\n",
       "      <td>...</td>\n",
       "      <td>...</td>\n",
       "      <td>...</td>\n",
       "      <td>...</td>\n",
       "      <td>...</td>\n",
       "      <td>...</td>\n",
       "      <td>...</td>\n",
       "      <td>...</td>\n",
       "      <td>...</td>\n",
       "    </tr>\n",
       "    <tr>\n",
       "      <th>101</th>\n",
       "      <td>210</td>\n",
       "      <td>175</td>\n",
       "      <td>1376</td>\n",
       "      <td>3379</td>\n",
       "      <td>680</td>\n",
       "      <td>207</td>\n",
       "      <td>540</td>\n",
       "      <td>13</td>\n",
       "      <td>95</td>\n",
       "      <td>52</td>\n",
       "      <td>2337</td>\n",
       "      <td>122</td>\n",
       "      <td>9186</td>\n",
       "    </tr>\n",
       "    <tr>\n",
       "      <th>102</th>\n",
       "      <td>210</td>\n",
       "      <td>175</td>\n",
       "      <td>1381</td>\n",
       "      <td>3392</td>\n",
       "      <td>686</td>\n",
       "      <td>207</td>\n",
       "      <td>548</td>\n",
       "      <td>13</td>\n",
       "      <td>95</td>\n",
       "      <td>53</td>\n",
       "      <td>2360</td>\n",
       "      <td>122</td>\n",
       "      <td>9242</td>\n",
       "    </tr>\n",
       "    <tr>\n",
       "      <th>103</th>\n",
       "      <td>211</td>\n",
       "      <td>176</td>\n",
       "      <td>1386</td>\n",
       "      <td>3400</td>\n",
       "      <td>690</td>\n",
       "      <td>207</td>\n",
       "      <td>551</td>\n",
       "      <td>13</td>\n",
       "      <td>96</td>\n",
       "      <td>53</td>\n",
       "      <td>2395</td>\n",
       "      <td>125</td>\n",
       "      <td>9303</td>\n",
       "    </tr>\n",
       "    <tr>\n",
       "      <th>104</th>\n",
       "      <td>212</td>\n",
       "      <td>177</td>\n",
       "      <td>1390</td>\n",
       "      <td>3416</td>\n",
       "      <td>694</td>\n",
       "      <td>207</td>\n",
       "      <td>553</td>\n",
       "      <td>13</td>\n",
       "      <td>96</td>\n",
       "      <td>53</td>\n",
       "      <td>2405</td>\n",
       "      <td>125</td>\n",
       "      <td>9341</td>\n",
       "    </tr>\n",
       "    <tr>\n",
       "      <th>105</th>\n",
       "      <td>212</td>\n",
       "      <td>178</td>\n",
       "      <td>1393</td>\n",
       "      <td>3429</td>\n",
       "      <td>703</td>\n",
       "      <td>213</td>\n",
       "      <td>559</td>\n",
       "      <td>13</td>\n",
       "      <td>96</td>\n",
       "      <td>53</td>\n",
       "      <td>2406</td>\n",
       "      <td>125</td>\n",
       "      <td>9380</td>\n",
       "    </tr>\n",
       "  </tbody>\n",
       "</table>\n",
       "<p>104 rows × 13 columns</p>\n",
       "</div>"
      ],
      "text/plain": [
       "     aircraft  helicopter  tank   APC  field artillery  MRL  drone  \\\n",
       "day                                                                  \n",
       "2          10           7    80   516               49    4      0   \n",
       "3          27          26   146   706               49    4      2   \n",
       "4          27          26   150   706               50    4      2   \n",
       "5          29          29   150   816               74   21      3   \n",
       "6          29          29   198   846               77   24      3   \n",
       "..        ...         ...   ...   ...              ...  ...    ...   \n",
       "101       210         175  1376  3379              680  207    540   \n",
       "102       210         175  1381  3392              686  207    548   \n",
       "103       211         176  1386  3400              690  207    551   \n",
       "104       212         177  1390  3416              694  207    553   \n",
       "105       212         178  1393  3429              703  213    559   \n",
       "\n",
       "     naval ship  anti-aircraft warfare  special equipment  \\\n",
       "day                                                         \n",
       "2             2                      0                100   \n",
       "3             2                      0                130   \n",
       "4             2                      0                130   \n",
       "5             2                      5                291   \n",
       "6             2                      7                305   \n",
       "..          ...                    ...                ...   \n",
       "101          13                     95                 52   \n",
       "102          13                     95                 53   \n",
       "103          13                     96                 53   \n",
       "104          13                     96                 53   \n",
       "105          13                     96                 53   \n",
       "\n",
       "     vehicles and fuel tanks  cruise missiles  Daily Total Equipment Loss  \n",
       "day                                                                        \n",
       "2                         60                0                         828  \n",
       "3                         60                0                        1152  \n",
       "4                         60                0                        1157  \n",
       "5                         60                0                        1480  \n",
       "6                         60                0                        1580  \n",
       "..                       ...              ...                         ...  \n",
       "101                     2337              122                        9186  \n",
       "102                     2360              122                        9242  \n",
       "103                     2395              125                        9303  \n",
       "104                     2405              125                        9341  \n",
       "105                     2406              125                        9380  \n",
       "\n",
       "[104 rows x 13 columns]"
      ]
     },
     "execution_count": 15,
     "metadata": {},
     "output_type": "execute_result"
    }
   ],
   "source": [
    "# Structure data from dataset\n",
    "daily_total_equip_loss = russian_equipment.reset_index('date')\n",
    "daily_total_equip_loss.drop(columns={'date'}, inplace=True)\n",
    "daily_total_equip_loss.set_index('day', inplace=True)\n",
    "\n",
    "# Create new dataframe for graph object\n",
    "daily_total_equip_loss['Daily Total Equipment Loss'] = pd.DataFrame(daily_total_equip_loss.sum(axis=1))\n",
    "daily_total_equip_loss"
   ]
  },
  {
   "cell_type": "code",
   "execution_count": 16,
   "id": "dac5499d",
   "metadata": {
    "execution": {
     "iopub.execute_input": "2022-06-08T22:04:53.000424Z",
     "iopub.status.busy": "2022-06-08T22:04:52.999686Z",
     "iopub.status.idle": "2022-06-08T22:04:53.954873Z",
     "shell.execute_reply": "2022-06-08T22:04:53.955326Z",
     "shell.execute_reply.started": "2022-06-08T22:03:03.760189Z"
    },
    "papermill": {
     "duration": 0.999542,
     "end_time": "2022-06-08T22:04:53.955477",
     "exception": false,
     "start_time": "2022-06-08T22:04:52.955935",
     "status": "completed"
    },
    "tags": []
   },
   "outputs": [
    {
     "data": {
      "text/html": [
       "        <script type=\"text/javascript\">\n",
       "        window.PlotlyConfig = {MathJaxConfig: 'local'};\n",
       "        if (window.MathJax) {MathJax.Hub.Config({SVG: {font: \"STIX-Web\"}});}\n",
       "        if (typeof require !== 'undefined') {\n",
       "        require.undef(\"plotly\");\n",
       "        requirejs.config({\n",
       "            paths: {\n",
       "                'plotly': ['https://cdn.plot.ly/plotly-2.9.0.min']\n",
       "            }\n",
       "        });\n",
       "        require(['plotly'], function(Plotly) {\n",
       "            window._Plotly = Plotly;\n",
       "        });\n",
       "        }\n",
       "        </script>\n",
       "        "
      ]
     },
     "metadata": {},
     "output_type": "display_data"
    },
    {
     "data": {
      "text/html": [
       "<div>                            <div id=\"e17897e5-a2f9-403a-b417-49705eba2c64\" class=\"plotly-graph-div\" style=\"height:525px; width:100%;\"></div>            <script type=\"text/javascript\">                require([\"plotly\"], function(Plotly) {                    window.PLOTLYENV=window.PLOTLYENV || {};                                    if (document.getElementById(\"e17897e5-a2f9-403a-b417-49705eba2c64\")) {                    Plotly.newPlot(                        \"e17897e5-a2f9-403a-b417-49705eba2c64\",                        [{\"hovertemplate\":\"day=%{x}<br>Daily Total Equipment Loss=%{marker.color}<extra></extra>\",\"legendgroup\":\"\",\"marker\":{\"color\":[828,1152,1157,1480,1580,1688,1760,1902,1941,2055,2117,2214,2273,2374,2500,2593,2666,2741,2821,3203,3337,3388,3480,3568,3685,3787,3853,3943,4093,4180,4234,4298,4366,4413,4464,4528,4585,4680,4735,4836,4852,4946,4953,4968,5031,5066,5136,5210,5256,5280,5320,5385,5476,5533,5597,5651,5739,5841,5928,5985,6161,6250,6373,6446,6511,6691,6832,6961,7076,7201,7295,7368,7464,7545,7633,7736,7805,7886,7969,8034,8108,8176,8275,8345,8395,8457,8520,8579,8632,8671,8738,8766,8799,8837,8897,8962,9038,9095,9144,9186,9242,9303,9341,9380],\"coloraxis\":\"coloraxis\",\"symbol\":\"circle\"},\"mode\":\"markers\",\"name\":\"\",\"orientation\":\"v\",\"showlegend\":false,\"x\":[2,3,4,5,6,7,8,9,10,11,12,13,14,15,16,17,18,19,20,21,22,23,24,25,26,27,28,29,30,31,32,33,34,35,36,37,38,39,40,41,42,43,44,45,46,47,48,49,50,51,52,53,54,55,56,57,58,59,60,61,62,63,64,65,66,67,68,69,70,71,72,73,74,75,76,77,78,79,80,81,82,83,84,85,86,87,88,89,90,91,92,93,94,95,96,97,98,99,100,101,102,103,104,105],\"xaxis\":\"x\",\"y\":[828,1152,1157,1480,1580,1688,1760,1902,1941,2055,2117,2214,2273,2374,2500,2593,2666,2741,2821,3203,3337,3388,3480,3568,3685,3787,3853,3943,4093,4180,4234,4298,4366,4413,4464,4528,4585,4680,4735,4836,4852,4946,4953,4968,5031,5066,5136,5210,5256,5280,5320,5385,5476,5533,5597,5651,5739,5841,5928,5985,6161,6250,6373,6446,6511,6691,6832,6961,7076,7201,7295,7368,7464,7545,7633,7736,7805,7886,7969,8034,8108,8176,8275,8345,8395,8457,8520,8579,8632,8671,8738,8766,8799,8837,8897,8962,9038,9095,9144,9186,9242,9303,9341,9380],\"yaxis\":\"y\",\"type\":\"scatter\"},{\"alignmentgroup\":\"True\",\"hovertemplate\":\"day=%{x}<extra></extra>\",\"legendgroup\":\"\",\"marker\":{\"color\":\"#0d0887\",\"symbol\":\"circle\"},\"name\":\"\",\"notched\":true,\"offsetgroup\":\"\",\"showlegend\":false,\"x\":[2,3,4,5,6,7,8,9,10,11,12,13,14,15,16,17,18,19,20,21,22,23,24,25,26,27,28,29,30,31,32,33,34,35,36,37,38,39,40,41,42,43,44,45,46,47,48,49,50,51,52,53,54,55,56,57,58,59,60,61,62,63,64,65,66,67,68,69,70,71,72,73,74,75,76,77,78,79,80,81,82,83,84,85,86,87,88,89,90,91,92,93,94,95,96,97,98,99,100,101,102,103,104,105],\"xaxis\":\"x2\",\"yaxis\":\"y2\",\"type\":\"box\"}],                        {\"template\":{\"data\":{\"bar\":[{\"error_x\":{\"color\":\"#2a3f5f\"},\"error_y\":{\"color\":\"#2a3f5f\"},\"marker\":{\"line\":{\"color\":\"#E5ECF6\",\"width\":0.5},\"pattern\":{\"fillmode\":\"overlay\",\"size\":10,\"solidity\":0.2}},\"type\":\"bar\"}],\"barpolar\":[{\"marker\":{\"line\":{\"color\":\"#E5ECF6\",\"width\":0.5},\"pattern\":{\"fillmode\":\"overlay\",\"size\":10,\"solidity\":0.2}},\"type\":\"barpolar\"}],\"carpet\":[{\"aaxis\":{\"endlinecolor\":\"#2a3f5f\",\"gridcolor\":\"white\",\"linecolor\":\"white\",\"minorgridcolor\":\"white\",\"startlinecolor\":\"#2a3f5f\"},\"baxis\":{\"endlinecolor\":\"#2a3f5f\",\"gridcolor\":\"white\",\"linecolor\":\"white\",\"minorgridcolor\":\"white\",\"startlinecolor\":\"#2a3f5f\"},\"type\":\"carpet\"}],\"choropleth\":[{\"colorbar\":{\"outlinewidth\":0,\"ticks\":\"\"},\"type\":\"choropleth\"}],\"contour\":[{\"colorbar\":{\"outlinewidth\":0,\"ticks\":\"\"},\"colorscale\":[[0.0,\"#0d0887\"],[0.1111111111111111,\"#46039f\"],[0.2222222222222222,\"#7201a8\"],[0.3333333333333333,\"#9c179e\"],[0.4444444444444444,\"#bd3786\"],[0.5555555555555556,\"#d8576b\"],[0.6666666666666666,\"#ed7953\"],[0.7777777777777778,\"#fb9f3a\"],[0.8888888888888888,\"#fdca26\"],[1.0,\"#f0f921\"]],\"type\":\"contour\"}],\"contourcarpet\":[{\"colorbar\":{\"outlinewidth\":0,\"ticks\":\"\"},\"type\":\"contourcarpet\"}],\"heatmap\":[{\"colorbar\":{\"outlinewidth\":0,\"ticks\":\"\"},\"colorscale\":[[0.0,\"#0d0887\"],[0.1111111111111111,\"#46039f\"],[0.2222222222222222,\"#7201a8\"],[0.3333333333333333,\"#9c179e\"],[0.4444444444444444,\"#bd3786\"],[0.5555555555555556,\"#d8576b\"],[0.6666666666666666,\"#ed7953\"],[0.7777777777777778,\"#fb9f3a\"],[0.8888888888888888,\"#fdca26\"],[1.0,\"#f0f921\"]],\"type\":\"heatmap\"}],\"heatmapgl\":[{\"colorbar\":{\"outlinewidth\":0,\"ticks\":\"\"},\"colorscale\":[[0.0,\"#0d0887\"],[0.1111111111111111,\"#46039f\"],[0.2222222222222222,\"#7201a8\"],[0.3333333333333333,\"#9c179e\"],[0.4444444444444444,\"#bd3786\"],[0.5555555555555556,\"#d8576b\"],[0.6666666666666666,\"#ed7953\"],[0.7777777777777778,\"#fb9f3a\"],[0.8888888888888888,\"#fdca26\"],[1.0,\"#f0f921\"]],\"type\":\"heatmapgl\"}],\"histogram\":[{\"marker\":{\"pattern\":{\"fillmode\":\"overlay\",\"size\":10,\"solidity\":0.2}},\"type\":\"histogram\"}],\"histogram2d\":[{\"colorbar\":{\"outlinewidth\":0,\"ticks\":\"\"},\"colorscale\":[[0.0,\"#0d0887\"],[0.1111111111111111,\"#46039f\"],[0.2222222222222222,\"#7201a8\"],[0.3333333333333333,\"#9c179e\"],[0.4444444444444444,\"#bd3786\"],[0.5555555555555556,\"#d8576b\"],[0.6666666666666666,\"#ed7953\"],[0.7777777777777778,\"#fb9f3a\"],[0.8888888888888888,\"#fdca26\"],[1.0,\"#f0f921\"]],\"type\":\"histogram2d\"}],\"histogram2dcontour\":[{\"colorbar\":{\"outlinewidth\":0,\"ticks\":\"\"},\"colorscale\":[[0.0,\"#0d0887\"],[0.1111111111111111,\"#46039f\"],[0.2222222222222222,\"#7201a8\"],[0.3333333333333333,\"#9c179e\"],[0.4444444444444444,\"#bd3786\"],[0.5555555555555556,\"#d8576b\"],[0.6666666666666666,\"#ed7953\"],[0.7777777777777778,\"#fb9f3a\"],[0.8888888888888888,\"#fdca26\"],[1.0,\"#f0f921\"]],\"type\":\"histogram2dcontour\"}],\"mesh3d\":[{\"colorbar\":{\"outlinewidth\":0,\"ticks\":\"\"},\"type\":\"mesh3d\"}],\"parcoords\":[{\"line\":{\"colorbar\":{\"outlinewidth\":0,\"ticks\":\"\"}},\"type\":\"parcoords\"}],\"pie\":[{\"automargin\":true,\"type\":\"pie\"}],\"scatter\":[{\"marker\":{\"colorbar\":{\"outlinewidth\":0,\"ticks\":\"\"}},\"type\":\"scatter\"}],\"scatter3d\":[{\"line\":{\"colorbar\":{\"outlinewidth\":0,\"ticks\":\"\"}},\"marker\":{\"colorbar\":{\"outlinewidth\":0,\"ticks\":\"\"}},\"type\":\"scatter3d\"}],\"scattercarpet\":[{\"marker\":{\"colorbar\":{\"outlinewidth\":0,\"ticks\":\"\"}},\"type\":\"scattercarpet\"}],\"scattergeo\":[{\"marker\":{\"colorbar\":{\"outlinewidth\":0,\"ticks\":\"\"}},\"type\":\"scattergeo\"}],\"scattergl\":[{\"marker\":{\"colorbar\":{\"outlinewidth\":0,\"ticks\":\"\"}},\"type\":\"scattergl\"}],\"scattermapbox\":[{\"marker\":{\"colorbar\":{\"outlinewidth\":0,\"ticks\":\"\"}},\"type\":\"scattermapbox\"}],\"scatterpolar\":[{\"marker\":{\"colorbar\":{\"outlinewidth\":0,\"ticks\":\"\"}},\"type\":\"scatterpolar\"}],\"scatterpolargl\":[{\"marker\":{\"colorbar\":{\"outlinewidth\":0,\"ticks\":\"\"}},\"type\":\"scatterpolargl\"}],\"scatterternary\":[{\"marker\":{\"colorbar\":{\"outlinewidth\":0,\"ticks\":\"\"}},\"type\":\"scatterternary\"}],\"surface\":[{\"colorbar\":{\"outlinewidth\":0,\"ticks\":\"\"},\"colorscale\":[[0.0,\"#0d0887\"],[0.1111111111111111,\"#46039f\"],[0.2222222222222222,\"#7201a8\"],[0.3333333333333333,\"#9c179e\"],[0.4444444444444444,\"#bd3786\"],[0.5555555555555556,\"#d8576b\"],[0.6666666666666666,\"#ed7953\"],[0.7777777777777778,\"#fb9f3a\"],[0.8888888888888888,\"#fdca26\"],[1.0,\"#f0f921\"]],\"type\":\"surface\"}],\"table\":[{\"cells\":{\"fill\":{\"color\":\"#EBF0F8\"},\"line\":{\"color\":\"white\"}},\"header\":{\"fill\":{\"color\":\"#C8D4E3\"},\"line\":{\"color\":\"white\"}},\"type\":\"table\"}]},\"layout\":{\"annotationdefaults\":{\"arrowcolor\":\"#2a3f5f\",\"arrowhead\":0,\"arrowwidth\":1},\"autotypenumbers\":\"strict\",\"coloraxis\":{\"colorbar\":{\"outlinewidth\":0,\"ticks\":\"\"}},\"colorscale\":{\"diverging\":[[0,\"#8e0152\"],[0.1,\"#c51b7d\"],[0.2,\"#de77ae\"],[0.3,\"#f1b6da\"],[0.4,\"#fde0ef\"],[0.5,\"#f7f7f7\"],[0.6,\"#e6f5d0\"],[0.7,\"#b8e186\"],[0.8,\"#7fbc41\"],[0.9,\"#4d9221\"],[1,\"#276419\"]],\"sequential\":[[0.0,\"#0d0887\"],[0.1111111111111111,\"#46039f\"],[0.2222222222222222,\"#7201a8\"],[0.3333333333333333,\"#9c179e\"],[0.4444444444444444,\"#bd3786\"],[0.5555555555555556,\"#d8576b\"],[0.6666666666666666,\"#ed7953\"],[0.7777777777777778,\"#fb9f3a\"],[0.8888888888888888,\"#fdca26\"],[1.0,\"#f0f921\"]],\"sequentialminus\":[[0.0,\"#0d0887\"],[0.1111111111111111,\"#46039f\"],[0.2222222222222222,\"#7201a8\"],[0.3333333333333333,\"#9c179e\"],[0.4444444444444444,\"#bd3786\"],[0.5555555555555556,\"#d8576b\"],[0.6666666666666666,\"#ed7953\"],[0.7777777777777778,\"#fb9f3a\"],[0.8888888888888888,\"#fdca26\"],[1.0,\"#f0f921\"]]},\"colorway\":[\"#636efa\",\"#EF553B\",\"#00cc96\",\"#ab63fa\",\"#FFA15A\",\"#19d3f3\",\"#FF6692\",\"#B6E880\",\"#FF97FF\",\"#FECB52\"],\"font\":{\"color\":\"#2a3f5f\"},\"geo\":{\"bgcolor\":\"white\",\"lakecolor\":\"white\",\"landcolor\":\"#E5ECF6\",\"showlakes\":true,\"showland\":true,\"subunitcolor\":\"white\"},\"hoverlabel\":{\"align\":\"left\"},\"hovermode\":\"closest\",\"mapbox\":{\"style\":\"light\"},\"paper_bgcolor\":\"white\",\"plot_bgcolor\":\"#E5ECF6\",\"polar\":{\"angularaxis\":{\"gridcolor\":\"white\",\"linecolor\":\"white\",\"ticks\":\"\"},\"bgcolor\":\"#E5ECF6\",\"radialaxis\":{\"gridcolor\":\"white\",\"linecolor\":\"white\",\"ticks\":\"\"}},\"scene\":{\"xaxis\":{\"backgroundcolor\":\"#E5ECF6\",\"gridcolor\":\"white\",\"gridwidth\":2,\"linecolor\":\"white\",\"showbackground\":true,\"ticks\":\"\",\"zerolinecolor\":\"white\"},\"yaxis\":{\"backgroundcolor\":\"#E5ECF6\",\"gridcolor\":\"white\",\"gridwidth\":2,\"linecolor\":\"white\",\"showbackground\":true,\"ticks\":\"\",\"zerolinecolor\":\"white\"},\"zaxis\":{\"backgroundcolor\":\"#E5ECF6\",\"gridcolor\":\"white\",\"gridwidth\":2,\"linecolor\":\"white\",\"showbackground\":true,\"ticks\":\"\",\"zerolinecolor\":\"white\"}},\"shapedefaults\":{\"line\":{\"color\":\"#2a3f5f\"}},\"ternary\":{\"aaxis\":{\"gridcolor\":\"white\",\"linecolor\":\"white\",\"ticks\":\"\"},\"baxis\":{\"gridcolor\":\"white\",\"linecolor\":\"white\",\"ticks\":\"\"},\"bgcolor\":\"#E5ECF6\",\"caxis\":{\"gridcolor\":\"white\",\"linecolor\":\"white\",\"ticks\":\"\"}},\"title\":{\"x\":0.05},\"xaxis\":{\"automargin\":true,\"gridcolor\":\"white\",\"linecolor\":\"white\",\"ticks\":\"\",\"title\":{\"standoff\":15},\"zerolinecolor\":\"white\",\"zerolinewidth\":2},\"yaxis\":{\"automargin\":true,\"gridcolor\":\"white\",\"linecolor\":\"white\",\"ticks\":\"\",\"title\":{\"standoff\":15},\"zerolinecolor\":\"white\",\"zerolinewidth\":2}}},\"xaxis\":{\"anchor\":\"y\",\"domain\":[0.0,1.0],\"title\":{\"text\":\"day\"}},\"yaxis\":{\"anchor\":\"x\",\"domain\":[0.0,0.7326],\"title\":{\"text\":\"Daily Total Equipment Loss\"}},\"xaxis2\":{\"anchor\":\"y2\",\"domain\":[0.0,1.0],\"matches\":\"x\",\"showticklabels\":false,\"showgrid\":true},\"yaxis2\":{\"anchor\":\"x2\",\"domain\":[0.7426,1.0],\"matches\":\"y2\",\"showticklabels\":false,\"showline\":false,\"ticks\":\"\",\"showgrid\":false},\"coloraxis\":{\"colorbar\":{\"title\":{\"text\":\"Daily Total Equipment Loss\"}},\"colorscale\":[[0.0,\"#0d0887\"],[0.1111111111111111,\"#46039f\"],[0.2222222222222222,\"#7201a8\"],[0.3333333333333333,\"#9c179e\"],[0.4444444444444444,\"#bd3786\"],[0.5555555555555556,\"#d8576b\"],[0.6666666666666666,\"#ed7953\"],[0.7777777777777778,\"#fb9f3a\"],[0.8888888888888888,\"#fdca26\"],[1.0,\"#f0f921\"]]},\"legend\":{\"tracegroupgap\":0},\"margin\":{\"t\":60},\"plot_bgcolor\":\"rgba(0,5,5,0)\",\"title\":{\"text\":\"Total Equipment Lost Per Day\",\"y\":0.93,\"x\":0.5,\"xanchor\":\"center\",\"yanchor\":\"top\"}},                        {\"responsive\": true}                    ).then(function(){\n",
       "                            \n",
       "var gd = document.getElementById('e17897e5-a2f9-403a-b417-49705eba2c64');\n",
       "var x = new MutationObserver(function (mutations, observer) {{\n",
       "        var display = window.getComputedStyle(gd).display;\n",
       "        if (!display || display === 'none') {{\n",
       "            console.log([gd, 'removed!']);\n",
       "            Plotly.purge(gd);\n",
       "            observer.disconnect();\n",
       "        }}\n",
       "}});\n",
       "\n",
       "// Listen for the removal of the full notebook cells\n",
       "var notebookContainer = gd.closest('#notebook-container');\n",
       "if (notebookContainer) {{\n",
       "    x.observe(notebookContainer, {childList: true});\n",
       "}}\n",
       "\n",
       "// Listen for the clearing of the current output cell\n",
       "var outputEl = gd.closest('.output');\n",
       "if (outputEl) {{\n",
       "    x.observe(outputEl, {childList: true});\n",
       "}}\n",
       "\n",
       "                        })                };                });            </script>        </div>"
      ]
     },
     "metadata": {},
     "output_type": "display_data"
    }
   ],
   "source": [
    "# Create and show graph\n",
    "plot_data2 = daily_total_equip_loss[['Daily Total Equipment Loss']]\n",
    "fig=px.scatter(plot_data2, x=plot_data2.index, y='Daily Total Equipment Loss', marginal_x='box', \n",
    "               color='Daily Total Equipment Loss')\n",
    "fig.update_layout(plot_bgcolor='rgba(0,5,5,0)')\n",
    "fig.update_layout(title={'text':'Total Equipment Lost Per Day','y':0.93,'x':0.5,'xanchor':'center','yanchor':'top'})\n",
    "fig.show()"
   ]
  },
  {
   "cell_type": "markdown",
   "id": "bad7bace",
   "metadata": {
    "papermill": {
     "duration": 0.039352,
     "end_time": "2022-06-08T22:04:54.033724",
     "exception": false,
     "start_time": "2022-06-08T22:04:53.994372",
     "status": "completed"
    },
    "tags": []
   },
   "source": [
    "## Problem 6\n",
    "##### Create a word map visual to show the equipment types with the highest percentage loss in total equipment loss."
   ]
  },
  {
   "cell_type": "code",
   "execution_count": 17,
   "id": "c479cf20",
   "metadata": {
    "execution": {
     "iopub.execute_input": "2022-06-08T22:04:54.128067Z",
     "iopub.status.busy": "2022-06-08T22:04:54.122835Z",
     "iopub.status.idle": "2022-06-08T22:04:54.130846Z",
     "shell.execute_reply": "2022-06-08T22:04:54.131305Z",
     "shell.execute_reply.started": "2022-06-08T22:03:04.051768Z"
    },
    "papermill": {
     "duration": 0.057601,
     "end_time": "2022-06-08T22:04:54.131441",
     "exception": false,
     "start_time": "2022-06-08T22:04:54.073840",
     "status": "completed"
    },
    "tags": []
   },
   "outputs": [
    {
     "data": {
      "text/html": [
       "<div>\n",
       "<style scoped>\n",
       "    .dataframe tbody tr th:only-of-type {\n",
       "        vertical-align: middle;\n",
       "    }\n",
       "\n",
       "    .dataframe tbody tr th {\n",
       "        vertical-align: top;\n",
       "    }\n",
       "\n",
       "    .dataframe thead th {\n",
       "        text-align: right;\n",
       "    }\n",
       "</style>\n",
       "<table border=\"1\" class=\"dataframe\">\n",
       "  <thead>\n",
       "    <tr style=\"text-align: right;\">\n",
       "      <th></th>\n",
       "      <th>Count</th>\n",
       "    </tr>\n",
       "    <tr>\n",
       "      <th>Equipment</th>\n",
       "      <th></th>\n",
       "    </tr>\n",
       "  </thead>\n",
       "  <tbody>\n",
       "    <tr>\n",
       "      <th>aircraft</th>\n",
       "      <td>212</td>\n",
       "    </tr>\n",
       "    <tr>\n",
       "      <th>helicopter</th>\n",
       "      <td>178</td>\n",
       "    </tr>\n",
       "    <tr>\n",
       "      <th>tank</th>\n",
       "      <td>1393</td>\n",
       "    </tr>\n",
       "    <tr>\n",
       "      <th>APC</th>\n",
       "      <td>3429</td>\n",
       "    </tr>\n",
       "    <tr>\n",
       "      <th>field artillery</th>\n",
       "      <td>703</td>\n",
       "    </tr>\n",
       "    <tr>\n",
       "      <th>MRL</th>\n",
       "      <td>213</td>\n",
       "    </tr>\n",
       "    <tr>\n",
       "      <th>drone</th>\n",
       "      <td>559</td>\n",
       "    </tr>\n",
       "    <tr>\n",
       "      <th>naval ship</th>\n",
       "      <td>13</td>\n",
       "    </tr>\n",
       "    <tr>\n",
       "      <th>anti-aircraft warfare</th>\n",
       "      <td>96</td>\n",
       "    </tr>\n",
       "    <tr>\n",
       "      <th>special equipment</th>\n",
       "      <td>53</td>\n",
       "    </tr>\n",
       "    <tr>\n",
       "      <th>vehicles and fuel tanks</th>\n",
       "      <td>2406</td>\n",
       "    </tr>\n",
       "    <tr>\n",
       "      <th>cruise missiles</th>\n",
       "      <td>125</td>\n",
       "    </tr>\n",
       "  </tbody>\n",
       "</table>\n",
       "</div>"
      ],
      "text/plain": [
       "                         Count\n",
       "Equipment                     \n",
       "aircraft                   212\n",
       "helicopter                 178\n",
       "tank                      1393\n",
       "APC                       3429\n",
       "field artillery            703\n",
       "MRL                        213\n",
       "drone                      559\n",
       "naval ship                  13\n",
       "anti-aircraft warfare       96\n",
       "special equipment           53\n",
       "vehicles and fuel tanks   2406\n",
       "cruise missiles            125"
      ]
     },
     "execution_count": 17,
     "metadata": {},
     "output_type": "execute_result"
    }
   ],
   "source": [
    "sns.set_style('white')\n",
    "# Get the most recent loss data\n",
    "total = int(daily_total_equip_loss.iloc[-1: , -1:].values)\n",
    "\n",
    "total_loss = daily_total_equip_loss.iloc[-1: , :-1]\n",
    "total_loss.reset_index(inplace=True)\n",
    "total_loss = pd.DataFrame(total_loss.drop('day', axis=1).transpose()).reset_index()\n",
    "total_loss.rename(columns={'index':'Equipment', 0:'Count'}, inplace=True)\n",
    "total_loss.set_index('Equipment', inplace=True)\n",
    "total_loss"
   ]
  },
  {
   "cell_type": "code",
   "execution_count": 18,
   "id": "77113b23",
   "metadata": {
    "execution": {
     "iopub.execute_input": "2022-06-08T22:04:54.228328Z",
     "iopub.status.busy": "2022-06-08T22:04:54.226169Z",
     "iopub.status.idle": "2022-06-08T22:04:54.731742Z",
     "shell.execute_reply": "2022-06-08T22:04:54.732155Z",
     "shell.execute_reply.started": "2022-06-08T22:03:04.069201Z"
    },
    "papermill": {
     "duration": 0.562035,
     "end_time": "2022-06-08T22:04:54.732315",
     "exception": false,
     "start_time": "2022-06-08T22:04:54.170280",
     "status": "completed"
    },
    "tags": []
   },
   "outputs": [
    {
     "data": {
      "image/png": "[encoded data removed]",
      "text/plain": [
       "<Figure size 1440x432 with 1 Axes>"
      ]
     },
     "metadata": {},
     "output_type": "display_data"
    }
   ],
   "source": [
    "# duplicate equipment name based on how much they contribute to total loss\n",
    "word_string=\"\"\n",
    "max_words = total_loss.mean()\n",
    "for equipment in total_loss.index:\n",
    "     times_repeat = int(total_loss.loc[equipment, 'Count']/total * max_words)\n",
    "     word_string = word_string.lower() + ((equipment + \" \") * times_repeat)\n",
    "\n",
    "# create word cloud\n",
    "word_cloud = WordCloud(background_color = 'white').generate(word_string)\n",
    "\n",
    "# Display cloud\n",
    "plt.figure(figsize=(20,6))\n",
    "plt.imshow(word_cloud, interpolation='bessel')\n",
    "plt.title('Most Lost Russian Equipment by Type', fontweight='bold', color='black', backgroundcolor='yellow')\n",
    "plt.axis('off')\n",
    "plt.show()"
   ]
  },
  {
   "cell_type": "markdown",
   "id": "56e90152",
   "metadata": {
    "papermill": {
     "duration": 0.043695,
     "end_time": "2022-06-08T22:04:54.820347",
     "exception": false,
     "start_time": "2022-06-08T22:04:54.776652",
     "status": "completed"
    },
    "tags": []
   },
   "source": [
    "## Problem 7\n",
    "##### How much equipment did Russia lose in the first 5 days of the invasion?"
   ]
  },
  {
   "cell_type": "code",
   "execution_count": 19,
   "id": "979f753d",
   "metadata": {
    "execution": {
     "iopub.execute_input": "2022-06-08T22:04:54.919903Z",
     "iopub.status.busy": "2022-06-08T22:04:54.919044Z",
     "iopub.status.idle": "2022-06-08T22:04:54.922879Z",
     "shell.execute_reply": "2022-06-08T22:04:54.923271Z",
     "shell.execute_reply.started": "2022-06-08T22:03:04.612837Z"
    },
    "papermill": {
     "duration": 0.058939,
     "end_time": "2022-06-08T22:04:54.923403",
     "exception": false,
     "start_time": "2022-06-08T22:04:54.864464",
     "status": "completed"
    },
    "tags": []
   },
   "outputs": [
    {
     "data": {
      "text/html": [
       "<div>\n",
       "<style scoped>\n",
       "    .dataframe tbody tr th:only-of-type {\n",
       "        vertical-align: middle;\n",
       "    }\n",
       "\n",
       "    .dataframe tbody tr th {\n",
       "        vertical-align: top;\n",
       "    }\n",
       "\n",
       "    .dataframe thead th {\n",
       "        text-align: right;\n",
       "    }\n",
       "</style>\n",
       "<table border=\"1\" class=\"dataframe\">\n",
       "  <thead>\n",
       "    <tr style=\"text-align: right;\">\n",
       "      <th></th>\n",
       "      <th>aircraft</th>\n",
       "      <th>helicopter</th>\n",
       "      <th>tank</th>\n",
       "      <th>APC</th>\n",
       "      <th>field artillery</th>\n",
       "      <th>MRL</th>\n",
       "      <th>drone</th>\n",
       "      <th>naval ship</th>\n",
       "      <th>anti-aircraft warfare</th>\n",
       "      <th>special equipment</th>\n",
       "      <th>vehicles and fuel tanks</th>\n",
       "      <th>cruise missiles</th>\n",
       "      <th>Daily Total Equipment Loss</th>\n",
       "    </tr>\n",
       "    <tr>\n",
       "      <th>day</th>\n",
       "      <th></th>\n",
       "      <th></th>\n",
       "      <th></th>\n",
       "      <th></th>\n",
       "      <th></th>\n",
       "      <th></th>\n",
       "      <th></th>\n",
       "      <th></th>\n",
       "      <th></th>\n",
       "      <th></th>\n",
       "      <th></th>\n",
       "      <th></th>\n",
       "      <th></th>\n",
       "    </tr>\n",
       "  </thead>\n",
       "  <tbody>\n",
       "    <tr>\n",
       "      <th>2</th>\n",
       "      <td>10</td>\n",
       "      <td>7</td>\n",
       "      <td>80</td>\n",
       "      <td>516</td>\n",
       "      <td>49</td>\n",
       "      <td>4</td>\n",
       "      <td>0</td>\n",
       "      <td>2</td>\n",
       "      <td>0</td>\n",
       "      <td>100</td>\n",
       "      <td>60</td>\n",
       "      <td>0</td>\n",
       "      <td>828</td>\n",
       "    </tr>\n",
       "    <tr>\n",
       "      <th>3</th>\n",
       "      <td>27</td>\n",
       "      <td>26</td>\n",
       "      <td>146</td>\n",
       "      <td>706</td>\n",
       "      <td>49</td>\n",
       "      <td>4</td>\n",
       "      <td>2</td>\n",
       "      <td>2</td>\n",
       "      <td>0</td>\n",
       "      <td>130</td>\n",
       "      <td>60</td>\n",
       "      <td>0</td>\n",
       "      <td>1152</td>\n",
       "    </tr>\n",
       "    <tr>\n",
       "      <th>4</th>\n",
       "      <td>27</td>\n",
       "      <td>26</td>\n",
       "      <td>150</td>\n",
       "      <td>706</td>\n",
       "      <td>50</td>\n",
       "      <td>4</td>\n",
       "      <td>2</td>\n",
       "      <td>2</td>\n",
       "      <td>0</td>\n",
       "      <td>130</td>\n",
       "      <td>60</td>\n",
       "      <td>0</td>\n",
       "      <td>1157</td>\n",
       "    </tr>\n",
       "    <tr>\n",
       "      <th>5</th>\n",
       "      <td>29</td>\n",
       "      <td>29</td>\n",
       "      <td>150</td>\n",
       "      <td>816</td>\n",
       "      <td>74</td>\n",
       "      <td>21</td>\n",
       "      <td>3</td>\n",
       "      <td>2</td>\n",
       "      <td>5</td>\n",
       "      <td>291</td>\n",
       "      <td>60</td>\n",
       "      <td>0</td>\n",
       "      <td>1480</td>\n",
       "    </tr>\n",
       "  </tbody>\n",
       "</table>\n",
       "</div>"
      ],
      "text/plain": [
       "     aircraft  helicopter  tank  APC  field artillery  MRL  drone  naval ship  \\\n",
       "day                                                                             \n",
       "2          10           7    80  516               49    4      0           2   \n",
       "3          27          26   146  706               49    4      2           2   \n",
       "4          27          26   150  706               50    4      2           2   \n",
       "5          29          29   150  816               74   21      3           2   \n",
       "\n",
       "     anti-aircraft warfare  special equipment  vehicles and fuel tanks  \\\n",
       "day                                                                      \n",
       "2                        0                100                       60   \n",
       "3                        0                130                       60   \n",
       "4                        0                130                       60   \n",
       "5                        5                291                       60   \n",
       "\n",
       "     cruise missiles  Daily Total Equipment Loss  \n",
       "day                                               \n",
       "2                  0                         828  \n",
       "3                  0                        1152  \n",
       "4                  0                        1157  \n",
       "5                  0                        1480  "
      ]
     },
     "execution_count": 19,
     "metadata": {},
     "output_type": "execute_result"
    }
   ],
   "source": [
    "daily_total_equip_loss.head(4)\n"
   ]
  },
  {
   "cell_type": "markdown",
   "id": "9626c857",
   "metadata": {
    "papermill": {
     "duration": 0.045698,
     "end_time": "2022-06-08T22:04:55.013896",
     "exception": false,
     "start_time": "2022-06-08T22:04:54.968198",
     "status": "completed"
    },
    "tags": []
   },
   "source": [
    "## Problem 8\n",
    "##### What is the most recent count of equipment loss?"
   ]
  },
  {
   "cell_type": "code",
   "execution_count": 20,
   "id": "7eee3c38",
   "metadata": {
    "execution": {
     "iopub.execute_input": "2022-06-08T22:04:55.114373Z",
     "iopub.status.busy": "2022-06-08T22:04:55.113677Z",
     "iopub.status.idle": "2022-06-08T22:04:55.116494Z",
     "shell.execute_reply": "2022-06-08T22:04:55.116898Z",
     "shell.execute_reply.started": "2022-06-08T22:03:04.627142Z"
    },
    "papermill": {
     "duration": 0.057828,
     "end_time": "2022-06-08T22:04:55.117019",
     "exception": false,
     "start_time": "2022-06-08T22:04:55.059191",
     "status": "completed"
    },
    "tags": []
   },
   "outputs": [
    {
     "data": {
      "text/html": [
       "<div>\n",
       "<style scoped>\n",
       "    .dataframe tbody tr th:only-of-type {\n",
       "        vertical-align: middle;\n",
       "    }\n",
       "\n",
       "    .dataframe tbody tr th {\n",
       "        vertical-align: top;\n",
       "    }\n",
       "\n",
       "    .dataframe thead th {\n",
       "        text-align: right;\n",
       "    }\n",
       "</style>\n",
       "<table border=\"1\" class=\"dataframe\">\n",
       "  <thead>\n",
       "    <tr style=\"text-align: right;\">\n",
       "      <th></th>\n",
       "      <th>aircraft</th>\n",
       "      <th>helicopter</th>\n",
       "      <th>tank</th>\n",
       "      <th>APC</th>\n",
       "      <th>field artillery</th>\n",
       "      <th>MRL</th>\n",
       "      <th>drone</th>\n",
       "      <th>naval ship</th>\n",
       "      <th>anti-aircraft warfare</th>\n",
       "      <th>special equipment</th>\n",
       "      <th>vehicles and fuel tanks</th>\n",
       "      <th>cruise missiles</th>\n",
       "      <th>Daily Total Equipment Loss</th>\n",
       "    </tr>\n",
       "    <tr>\n",
       "      <th>day</th>\n",
       "      <th></th>\n",
       "      <th></th>\n",
       "      <th></th>\n",
       "      <th></th>\n",
       "      <th></th>\n",
       "      <th></th>\n",
       "      <th></th>\n",
       "      <th></th>\n",
       "      <th></th>\n",
       "      <th></th>\n",
       "      <th></th>\n",
       "      <th></th>\n",
       "      <th></th>\n",
       "    </tr>\n",
       "  </thead>\n",
       "  <tbody>\n",
       "    <tr>\n",
       "      <th>105</th>\n",
       "      <td>212</td>\n",
       "      <td>178</td>\n",
       "      <td>1393</td>\n",
       "      <td>3429</td>\n",
       "      <td>703</td>\n",
       "      <td>213</td>\n",
       "      <td>559</td>\n",
       "      <td>13</td>\n",
       "      <td>96</td>\n",
       "      <td>53</td>\n",
       "      <td>2406</td>\n",
       "      <td>125</td>\n",
       "      <td>9380</td>\n",
       "    </tr>\n",
       "  </tbody>\n",
       "</table>\n",
       "</div>"
      ],
      "text/plain": [
       "     aircraft  helicopter  tank   APC  field artillery  MRL  drone  \\\n",
       "day                                                                  \n",
       "105       212         178  1393  3429              703  213    559   \n",
       "\n",
       "     naval ship  anti-aircraft warfare  special equipment  \\\n",
       "day                                                         \n",
       "105          13                     96                 53   \n",
       "\n",
       "     vehicles and fuel tanks  cruise missiles  Daily Total Equipment Loss  \n",
       "day                                                                        \n",
       "105                     2406              125                        9380  "
      ]
     },
     "execution_count": 20,
     "metadata": {},
     "output_type": "execute_result"
    }
   ],
   "source": [
    "daily_total_equip_loss.tail(1)"
   ]
  },
  {
   "cell_type": "markdown",
   "id": "33fe2e93",
   "metadata": {
    "papermill": {
     "duration": 0.044948,
     "end_time": "2022-06-08T22:04:55.206896",
     "exception": false,
     "start_time": "2022-06-08T22:04:55.161948",
     "status": "completed"
    },
    "tags": []
   },
   "source": [
    "## Problem 9\n",
    "##### Is there any correlation between the POW and equipment loss?"
   ]
  },
  {
   "cell_type": "code",
   "execution_count": 21,
   "id": "c07333f3",
   "metadata": {
    "execution": {
     "iopub.execute_input": "2022-06-08T22:04:55.309644Z",
     "iopub.status.busy": "2022-06-08T22:04:55.306141Z",
     "iopub.status.idle": "2022-06-08T22:04:55.666445Z",
     "shell.execute_reply": "2022-06-08T22:04:55.666864Z",
     "shell.execute_reply.started": "2022-06-08T22:03:04.644803Z"
    },
    "papermill": {
     "duration": 0.414827,
     "end_time": "2022-06-08T22:04:55.667008",
     "exception": false,
     "start_time": "2022-06-08T22:04:55.252181",
     "status": "completed"
    },
    "tags": []
   },
   "outputs": [
    {
     "data": {
      "image/png": "[encoded data removed]",
      "text/plain": [
       "<Figure size 1440x720 with 1 Axes>"
      ]
     },
     "metadata": {},
     "output_type": "display_data"
    }
   ],
   "source": [
    "sns.set_style('dark')\n",
    "\n",
    "merge = pd.merge(russian_equipment, russian_personnel).drop(['day'], axis=1)\n",
    "merged = merge.corr()['POW'].sort_values(ascending=False)\n",
    "\n",
    "merged.plot.barh(title='Correlation between Prisoners of War (POW) & Equipment Loss',\n",
    "                 figsize=(20,10), alpha=.9, color='gold')\n",
    "for index, value in enumerate(merged):\n",
    "    value = round(value, 3)\n",
    "    label = format(value)\n",
    "    if value>0:\n",
    "        value-=.035\n",
    "    else:\n",
    "        value+=.003\n",
    "    plt.annotate(label, xy=(value, index-.1), color='blue')"
   ]
  },
  {
   "cell_type": "markdown",
   "id": "1c3cc1d7",
   "metadata": {
    "papermill": {
     "duration": 0.052352,
     "end_time": "2022-06-08T22:04:55.766103",
     "exception": false,
     "start_time": "2022-06-08T22:04:55.713751",
     "status": "completed"
    },
    "tags": []
   },
   "source": [
    "## Problem 10\n",
    "##### What inferences can you make from the relationship between POW and Equipment loss?"
   ]
  },
  {
   "cell_type": "code",
   "execution_count": 22,
   "id": "453dcf83",
   "metadata": {
    "execution": {
     "iopub.execute_input": "2022-06-08T22:04:55.863181Z",
     "iopub.status.busy": "2022-06-08T22:04:55.862388Z",
     "iopub.status.idle": "2022-06-08T22:04:55.869385Z",
     "shell.execute_reply": "2022-06-08T22:04:55.869848Z",
     "shell.execute_reply.started": "2022-06-08T22:03:05.033143Z"
    },
    "papermill": {
     "duration": 0.057506,
     "end_time": "2022-06-08T22:04:55.869993",
     "exception": false,
     "start_time": "2022-06-08T22:04:55.812487",
     "status": "completed"
    },
    "tags": []
   },
   "outputs": [
    {
     "data": {
      "text/plain": [
       "count    13.000000\n",
       "mean      0.694884\n",
       "std       0.240193\n",
       "min       0.117072\n",
       "25%       0.591763\n",
       "50%       0.760096\n",
       "75%       0.858186\n",
       "max       1.000000\n",
       "Name: POW, dtype: float64"
      ]
     },
     "execution_count": 22,
     "metadata": {},
     "output_type": "execute_result"
    }
   ],
   "source": [
    "merged.describe()"
   ]
  },
  {
   "cell_type": "code",
   "execution_count": 23,
   "id": "ce921c36",
   "metadata": {
    "execution": {
     "iopub.execute_input": "2022-06-08T22:04:55.973060Z",
     "iopub.status.busy": "2022-06-08T22:04:55.972292Z",
     "iopub.status.idle": "2022-06-08T22:04:55.975570Z",
     "shell.execute_reply": "2022-06-08T22:04:55.976147Z",
     "shell.execute_reply.started": "2022-06-08T22:03:05.044137Z"
    },
    "papermill": {
     "duration": 0.058061,
     "end_time": "2022-06-08T22:04:55.976328",
     "exception": false,
     "start_time": "2022-06-08T22:04:55.918267",
     "status": "completed"
    },
    "tags": []
   },
   "outputs": [
    {
     "name": "stdout",
     "output_type": "stream",
     "text": [
      "There is a very strong, positive, direct corralation between Prisoners of War(POW) and overall Equipment Loss. As the POW increases, so does the overall equipment loss. The strength in correlation, ranges from 0.933 (helicopter) to 0.117 (special equipment). The median correlation is 0.76 falling between tanks and APCs. The standard deviation is 0.24 which indicated that the there is not much variability in the data; all points seem to be close to the mean or average correlation. \n",
      "\n",
      "It is then valid to conclude that as the invasion continues, and POW increases so will overall equipment loss especially the loss of helicopters by at least 0.695 when compared to POW.\n"
     ]
    }
   ],
   "source": [
    "m = merged.describe()\n",
    "k = merged.keys()\n",
    "v = merged.values\n",
    "\n",
    "print(f\"There is a very strong, positive, direct corralation between Prisoners of War(POW) and overall Equipment Loss. As \\\n",
    "the POW increases, so does the overall equipment loss. The strength in correlation, ranges from {round(v[1], 3)} ({k[1]}) \\\n",
    "to {round(v[-1], 3)} ({k[-1]}). The median correlation is {round(m[-3], 3)} falling between {k[6]}s and {k[7]}s. The \\\n",
    "standard deviation is {round(m[2], 3)} which indicated that the there is not much variability in the data; all points seem \\\n",
    "to be close to the mean or average correlation. \\n\\n\\\n",
    "It is then valid to conclude that as the invasion continues, and POW increases so will overall equipment loss especially \\\n",
    "the loss of {k[1]}s by at least {round(m[1], 3)} when compared to POW.\")"
   ]
  },
  {
   "cell_type": "markdown",
   "id": "55172d82",
   "metadata": {
    "papermill": {
     "duration": 0.084477,
     "end_time": "2022-06-08T22:04:56.117028",
     "exception": false,
     "start_time": "2022-06-08T22:04:56.032551",
     "status": "completed"
    },
    "tags": []
   },
   "source": [
    "<!-- It should be noted that the strongest correlation exists not between the equipmet type with the highest loss({}) but with the type that had the ({}) highest loss. -->\n"
   ]
  },
  {
   "cell_type": "markdown",
   "id": "9935e0ac",
   "metadata": {
    "execution": {
     "iopub.execute_input": "2022-05-05T19:10:51.895898Z",
     "iopub.status.busy": "2022-05-05T19:10:51.895499Z",
     "iopub.status.idle": "2022-05-05T19:10:51.919286Z",
     "shell.execute_reply": "2022-05-05T19:10:51.918598Z",
     "shell.execute_reply.started": "2022-05-05T19:10:51.895788Z"
    },
    "papermill": {
     "duration": 0.077,
     "end_time": "2022-06-08T22:04:56.269740",
     "exception": false,
     "start_time": "2022-06-08T22:04:56.192740",
     "status": "completed"
    },
    "tags": []
   },
   "source": [
    "<div style=\"color:white;display:fill;border-radius:12px;\n",
    "            background-color:#323232;font-size:150%;\n",
    "            font-family:Georgia;letter-spacing:0.5px\">\n",
    "    <p style=\"padding: 8px;color:white;\"><b>- Thank you</b></p>\n",
    "</div>\n"
   ]
  },
  {
   "cell_type": "markdown",
   "id": "745106d8",
   "metadata": {
    "papermill": {
     "duration": 0.078141,
     "end_time": "2022-06-08T22:04:56.424100",
     "exception": false,
     "start_time": "2022-06-08T22:04:56.345959",
     "status": "completed"
    },
    "tags": []
   },
   "source": []
  }
 ],
 "metadata": {
  "kernelspec": {
   "display_name": "Python 3",
   "language": "python",
   "name": "python3"
  },
  "language_info": {
   "codemirror_mode": {
    "name": "ipython",
    "version": 3
   },
   "file_extension": ".py",
   "mimetype": "text/x-python",
   "name": "python",
   "nbconvert_exporter": "python",
   "pygments_lexer": "ipython3",
   "version": "3.7.12"
  },
  "papermill": {
   "default_parameters": {},
   "duration": 18.873919,
   "end_time": "2022-06-08T22:04:57.636391",
   "environment_variables": {},
   "exception": null,
   "input_path": "__notebook__.ipynb",
   "output_path": "__notebook__.ipynb",
   "parameters": {},
   "start_time": "2022-06-08T22:04:38.762472",
   "version": "2.3.3"
  }
 },
 "nbformat": 4,
 "nbformat_minor": 5
}
