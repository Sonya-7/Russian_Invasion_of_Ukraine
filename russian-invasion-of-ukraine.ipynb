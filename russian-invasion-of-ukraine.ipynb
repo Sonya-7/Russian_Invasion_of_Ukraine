{
 "cells": [
  {
   "cell_type": "markdown",
   "id": "29042121",
   "metadata": {
    "papermill": {
     "duration": 0.027753,
     "end_time": "2022-05-28T01:06:55.961057",
     "exception": false,
     "start_time": "2022-05-28T01:06:55.933304",
     "status": "completed"
    },
    "tags": []
   },
   "source": [
    "<div style=\"color:white;display:fill;border-radius:12px;\n",
    "            background-color:#323232;font-size:150%;\n",
    "            font-family:Georgia;letter-spacing:0.5px\">\n",
    "    <p style=\"padding: 8px;color:white;\"><b>1 | Assessment of damage associated with Russia's invasion of Ukraine in 2022</b></p>\n",
    "</div>"
   ]
  },
  {
   "cell_type": "markdown",
   "id": "5f6ca188",
   "metadata": {
    "papermill": {
     "duration": 0.028598,
     "end_time": "2022-05-28T01:06:56.016323",
     "exception": false,
     "start_time": "2022-05-28T01:06:55.987725",
     "status": "completed"
    },
    "tags": []
   },
   "source": [
    "Download all libraries needed for this project"
   ]
  },
  {
   "cell_type": "code",
   "execution_count": 1,
   "id": "caaacca4",
   "metadata": {
    "execution": {
     "iopub.execute_input": "2022-05-28T01:06:56.081706Z",
     "iopub.status.busy": "2022-05-28T01:06:56.080932Z",
     "iopub.status.idle": "2022-05-28T01:06:59.763908Z",
     "shell.execute_reply": "2022-05-28T01:06:59.762977Z",
     "shell.execute_reply.started": "2022-05-28T00:49:03.021512Z"
    },
    "papermill": {
     "duration": 3.720534,
     "end_time": "2022-05-28T01:06:59.764060",
     "exception": false,
     "start_time": "2022-05-28T01:06:56.043526",
     "status": "completed"
    },
    "tags": []
   },
   "outputs": [],
   "source": [
    "import pandas as pd\n",
    "import numpy as np\n",
    "import folium as F\n",
    "%matplotlib inline \n",
    "import matplotlib as mpl\n",
    "import seaborn as sns\n",
    "import matplotlib.pyplot as plt\n",
    "import plotly.express as px\n",
    "from wordcloud import WordCloud, STOPWORDS\n",
    "from math import log10, floor\n",
    "\n",
    "# print('Matplotlib version: ', mpl.__version__)\n",
    "# print(plt.style.available)\n",
    "mpl.style.use(['ggplot'])"
   ]
  },
  {
   "cell_type": "markdown",
   "id": "34c5398c",
   "metadata": {
    "papermill": {
     "duration": 0.025699,
     "end_time": "2022-05-28T01:06:59.816613",
     "exception": false,
     "start_time": "2022-05-28T01:06:59.790914",
     "status": "completed"
    },
    "tags": []
   },
   "source": [
    "Read the CSV files into a Pandas DataFrame"
   ]
  },
  {
   "cell_type": "code",
   "execution_count": 2,
   "id": "c656ccfa",
   "metadata": {
    "execution": {
     "iopub.execute_input": "2022-05-28T01:06:59.877888Z",
     "iopub.status.busy": "2022-05-28T01:06:59.877237Z",
     "iopub.status.idle": "2022-05-28T01:06:59.901601Z",
     "shell.execute_reply": "2022-05-28T01:06:59.901085Z",
     "shell.execute_reply.started": "2022-05-28T00:49:06.021034Z"
    },
    "papermill": {
     "duration": 0.056682,
     "end_time": "2022-05-28T01:06:59.901722",
     "exception": false,
     "start_time": "2022-05-28T01:06:59.845040",
     "status": "completed"
    },
    "tags": []
   },
   "outputs": [],
   "source": [
    "russian_personnel = pd.read_csv('../input/2022-ukraine-russian-war/russia_losses_personnel.csv')\n",
    "russian_equipment = pd.read_csv('../input/2022-ukraine-russian-war/russia_losses_equipment.csv')"
   ]
  },
  {
   "cell_type": "markdown",
   "id": "bd34d835",
   "metadata": {
    "papermill": {
     "duration": 0.025903,
     "end_time": "2022-05-28T01:06:59.953597",
     "exception": false,
     "start_time": "2022-05-28T01:06:59.927694",
     "status": "completed"
    },
    "tags": []
   },
   "source": [
    "## Data Cleaning\n",
    "### Let's start by getting a basic understanding of the DataFrame and cleaning the data"
   ]
  },
  {
   "cell_type": "code",
   "execution_count": 3,
   "id": "f21464b1",
   "metadata": {
    "execution": {
     "iopub.execute_input": "2022-05-28T01:07:00.014156Z",
     "iopub.status.busy": "2022-05-28T01:07:00.013476Z",
     "iopub.status.idle": "2022-05-28T01:07:00.025246Z",
     "shell.execute_reply": "2022-05-28T01:07:00.025688Z",
     "shell.execute_reply.started": "2022-05-28T00:49:06.054943Z"
    },
    "papermill": {
     "duration": 0.045676,
     "end_time": "2022-05-28T01:07:00.025820",
     "exception": false,
     "start_time": "2022-05-28T01:06:59.980144",
     "status": "completed"
    },
    "tags": []
   },
   "outputs": [
    {
     "data": {
      "text/html": [
       "<div>\n",
       "<style scoped>\n",
       "    .dataframe tbody tr th:only-of-type {\n",
       "        vertical-align: middle;\n",
       "    }\n",
       "\n",
       "    .dataframe tbody tr th {\n",
       "        vertical-align: top;\n",
       "    }\n",
       "\n",
       "    .dataframe thead th {\n",
       "        text-align: right;\n",
       "    }\n",
       "</style>\n",
       "<table border=\"1\" class=\"dataframe\">\n",
       "  <thead>\n",
       "    <tr style=\"text-align: right;\">\n",
       "      <th></th>\n",
       "      <th>date</th>\n",
       "      <th>day</th>\n",
       "      <th>personnel</th>\n",
       "      <th>personnel*</th>\n",
       "      <th>POW</th>\n",
       "    </tr>\n",
       "  </thead>\n",
       "  <tbody>\n",
       "    <tr>\n",
       "      <th>0</th>\n",
       "      <td>2022-02-25</td>\n",
       "      <td>2</td>\n",
       "      <td>2800</td>\n",
       "      <td>about</td>\n",
       "      <td>0</td>\n",
       "    </tr>\n",
       "    <tr>\n",
       "      <th>1</th>\n",
       "      <td>2022-02-26</td>\n",
       "      <td>3</td>\n",
       "      <td>4300</td>\n",
       "      <td>about</td>\n",
       "      <td>0</td>\n",
       "    </tr>\n",
       "    <tr>\n",
       "      <th>2</th>\n",
       "      <td>2022-02-27</td>\n",
       "      <td>4</td>\n",
       "      <td>4500</td>\n",
       "      <td>about</td>\n",
       "      <td>0</td>\n",
       "    </tr>\n",
       "    <tr>\n",
       "      <th>3</th>\n",
       "      <td>2022-02-28</td>\n",
       "      <td>5</td>\n",
       "      <td>5300</td>\n",
       "      <td>about</td>\n",
       "      <td>0</td>\n",
       "    </tr>\n",
       "    <tr>\n",
       "      <th>4</th>\n",
       "      <td>2022-03-01</td>\n",
       "      <td>6</td>\n",
       "      <td>5710</td>\n",
       "      <td>about</td>\n",
       "      <td>200</td>\n",
       "    </tr>\n",
       "    <tr>\n",
       "      <th>5</th>\n",
       "      <td>2022-03-02</td>\n",
       "      <td>7</td>\n",
       "      <td>5840</td>\n",
       "      <td>about</td>\n",
       "      <td>200</td>\n",
       "    </tr>\n",
       "    <tr>\n",
       "      <th>6</th>\n",
       "      <td>2022-03-03</td>\n",
       "      <td>8</td>\n",
       "      <td>9000</td>\n",
       "      <td>about</td>\n",
       "      <td>200</td>\n",
       "    </tr>\n",
       "    <tr>\n",
       "      <th>7</th>\n",
       "      <td>2022-03-04</td>\n",
       "      <td>9</td>\n",
       "      <td>9166</td>\n",
       "      <td>about</td>\n",
       "      <td>200</td>\n",
       "    </tr>\n",
       "    <tr>\n",
       "      <th>8</th>\n",
       "      <td>2022-03-05</td>\n",
       "      <td>10</td>\n",
       "      <td>10000</td>\n",
       "      <td>about</td>\n",
       "      <td>216</td>\n",
       "    </tr>\n",
       "    <tr>\n",
       "      <th>9</th>\n",
       "      <td>2022-03-06</td>\n",
       "      <td>11</td>\n",
       "      <td>11000</td>\n",
       "      <td>about</td>\n",
       "      <td>232</td>\n",
       "    </tr>\n",
       "  </tbody>\n",
       "</table>\n",
       "</div>"
      ],
      "text/plain": [
       "         date  day  personnel personnel*  POW\n",
       "0  2022-02-25    2       2800      about    0\n",
       "1  2022-02-26    3       4300      about    0\n",
       "2  2022-02-27    4       4500      about    0\n",
       "3  2022-02-28    5       5300      about    0\n",
       "4  2022-03-01    6       5710      about  200\n",
       "5  2022-03-02    7       5840      about  200\n",
       "6  2022-03-03    8       9000      about  200\n",
       "7  2022-03-04    9       9166      about  200\n",
       "8  2022-03-05   10      10000      about  216\n",
       "9  2022-03-06   11      11000      about  232"
      ]
     },
     "execution_count": 3,
     "metadata": {},
     "output_type": "execute_result"
    }
   ],
   "source": [
    "russian_personnel.head(10)"
   ]
  },
  {
   "cell_type": "code",
   "execution_count": 4,
   "id": "bb920dbf",
   "metadata": {
    "execution": {
     "iopub.execute_input": "2022-05-28T01:07:00.107259Z",
     "iopub.status.busy": "2022-05-28T01:07:00.106684Z",
     "iopub.status.idle": "2022-05-28T01:07:00.110868Z",
     "shell.execute_reply": "2022-05-28T01:07:00.111379Z",
     "shell.execute_reply.started": "2022-05-28T00:49:06.082415Z"
    },
    "papermill": {
     "duration": 0.05796,
     "end_time": "2022-05-28T01:07:00.111521",
     "exception": false,
     "start_time": "2022-05-28T01:07:00.053561",
     "status": "completed"
    },
    "tags": []
   },
   "outputs": [
    {
     "name": "stdout",
     "output_type": "stream",
     "text": [
      "<class 'pandas.core.frame.DataFrame'>\n",
      "Index: 92 entries, 2022-02-25 to 2022-05-27\n",
      "Data columns (total 2 columns):\n",
      " #   Column  Non-Null Count  Dtype\n",
      "---  ------  --------------  -----\n",
      " 0   day     92 non-null     int64\n",
      " 1   POW     92 non-null     int64\n",
      "dtypes: int64(2)\n",
      "memory usage: 2.2+ KB\n"
     ]
    },
    {
     "data": {
      "text/html": [
       "<div>\n",
       "<style scoped>\n",
       "    .dataframe tbody tr th:only-of-type {\n",
       "        vertical-align: middle;\n",
       "    }\n",
       "\n",
       "    .dataframe tbody tr th {\n",
       "        vertical-align: top;\n",
       "    }\n",
       "\n",
       "    .dataframe thead th {\n",
       "        text-align: right;\n",
       "    }\n",
       "</style>\n",
       "<table border=\"1\" class=\"dataframe\">\n",
       "  <thead>\n",
       "    <tr style=\"text-align: right;\">\n",
       "      <th></th>\n",
       "      <th>day</th>\n",
       "      <th>POW</th>\n",
       "    </tr>\n",
       "    <tr>\n",
       "      <th>date</th>\n",
       "      <th></th>\n",
       "      <th></th>\n",
       "    </tr>\n",
       "  </thead>\n",
       "  <tbody>\n",
       "    <tr>\n",
       "      <th>2022-02-25</th>\n",
       "      <td>2</td>\n",
       "      <td>0</td>\n",
       "    </tr>\n",
       "    <tr>\n",
       "      <th>2022-02-26</th>\n",
       "      <td>3</td>\n",
       "      <td>0</td>\n",
       "    </tr>\n",
       "    <tr>\n",
       "      <th>2022-02-27</th>\n",
       "      <td>4</td>\n",
       "      <td>0</td>\n",
       "    </tr>\n",
       "    <tr>\n",
       "      <th>2022-02-28</th>\n",
       "      <td>5</td>\n",
       "      <td>0</td>\n",
       "    </tr>\n",
       "    <tr>\n",
       "      <th>2022-03-01</th>\n",
       "      <td>6</td>\n",
       "      <td>200</td>\n",
       "    </tr>\n",
       "  </tbody>\n",
       "</table>\n",
       "</div>"
      ],
      "text/plain": [
       "            day  POW\n",
       "date                \n",
       "2022-02-25    2    0\n",
       "2022-02-26    3    0\n",
       "2022-02-27    4    0\n",
       "2022-02-28    5    0\n",
       "2022-03-01    6  200"
      ]
     },
     "execution_count": 4,
     "metadata": {},
     "output_type": "execute_result"
    }
   ],
   "source": [
    "#remove confusing columns and set index for sorting by date.\n",
    "russian_personnel.drop(['personnel', 'personnel*'], axis=1, inplace=True)\n",
    "russian_personnel.set_index('date', inplace=True)\n",
    "russian_personnel.info()\n",
    "russian_personnel.head()"
   ]
  },
  {
   "cell_type": "code",
   "execution_count": 5,
   "id": "a34659b1",
   "metadata": {
    "execution": {
     "iopub.execute_input": "2022-05-28T01:07:00.184594Z",
     "iopub.status.busy": "2022-05-28T01:07:00.183938Z",
     "iopub.status.idle": "2022-05-28T01:07:00.187323Z",
     "shell.execute_reply": "2022-05-28T01:07:00.187736Z",
     "shell.execute_reply.started": "2022-05-28T00:49:06.124243Z"
    },
    "papermill": {
     "duration": 0.048718,
     "end_time": "2022-05-28T01:07:00.187865",
     "exception": false,
     "start_time": "2022-05-28T01:07:00.139147",
     "status": "completed"
    },
    "tags": []
   },
   "outputs": [
    {
     "data": {
      "text/html": [
       "<div>\n",
       "<style scoped>\n",
       "    .dataframe tbody tr th:only-of-type {\n",
       "        vertical-align: middle;\n",
       "    }\n",
       "\n",
       "    .dataframe tbody tr th {\n",
       "        vertical-align: top;\n",
       "    }\n",
       "\n",
       "    .dataframe thead th {\n",
       "        text-align: right;\n",
       "    }\n",
       "</style>\n",
       "<table border=\"1\" class=\"dataframe\">\n",
       "  <thead>\n",
       "    <tr style=\"text-align: right;\">\n",
       "      <th></th>\n",
       "      <th>date</th>\n",
       "      <th>day</th>\n",
       "      <th>aircraft</th>\n",
       "      <th>helicopter</th>\n",
       "      <th>tank</th>\n",
       "      <th>APC</th>\n",
       "      <th>field artillery</th>\n",
       "      <th>MRL</th>\n",
       "      <th>military auto</th>\n",
       "      <th>fuel tank</th>\n",
       "      <th>drone</th>\n",
       "      <th>naval ship</th>\n",
       "      <th>anti-aircraft warfare</th>\n",
       "      <th>special equipment</th>\n",
       "      <th>mobile SRBM system</th>\n",
       "      <th>vehicles and fuel tanks</th>\n",
       "      <th>cruise missiles</th>\n",
       "    </tr>\n",
       "  </thead>\n",
       "  <tbody>\n",
       "    <tr>\n",
       "      <th>0</th>\n",
       "      <td>2022-02-25</td>\n",
       "      <td>2</td>\n",
       "      <td>10</td>\n",
       "      <td>7</td>\n",
       "      <td>80</td>\n",
       "      <td>516</td>\n",
       "      <td>49</td>\n",
       "      <td>4</td>\n",
       "      <td>100.0</td>\n",
       "      <td>60.0</td>\n",
       "      <td>0</td>\n",
       "      <td>2</td>\n",
       "      <td>0</td>\n",
       "      <td>NaN</td>\n",
       "      <td>NaN</td>\n",
       "      <td>NaN</td>\n",
       "      <td>NaN</td>\n",
       "    </tr>\n",
       "    <tr>\n",
       "      <th>1</th>\n",
       "      <td>2022-02-26</td>\n",
       "      <td>3</td>\n",
       "      <td>27</td>\n",
       "      <td>26</td>\n",
       "      <td>146</td>\n",
       "      <td>706</td>\n",
       "      <td>49</td>\n",
       "      <td>4</td>\n",
       "      <td>130.0</td>\n",
       "      <td>60.0</td>\n",
       "      <td>2</td>\n",
       "      <td>2</td>\n",
       "      <td>0</td>\n",
       "      <td>NaN</td>\n",
       "      <td>NaN</td>\n",
       "      <td>NaN</td>\n",
       "      <td>NaN</td>\n",
       "    </tr>\n",
       "    <tr>\n",
       "      <th>2</th>\n",
       "      <td>2022-02-27</td>\n",
       "      <td>4</td>\n",
       "      <td>27</td>\n",
       "      <td>26</td>\n",
       "      <td>150</td>\n",
       "      <td>706</td>\n",
       "      <td>50</td>\n",
       "      <td>4</td>\n",
       "      <td>130.0</td>\n",
       "      <td>60.0</td>\n",
       "      <td>2</td>\n",
       "      <td>2</td>\n",
       "      <td>0</td>\n",
       "      <td>NaN</td>\n",
       "      <td>NaN</td>\n",
       "      <td>NaN</td>\n",
       "      <td>NaN</td>\n",
       "    </tr>\n",
       "    <tr>\n",
       "      <th>3</th>\n",
       "      <td>2022-02-28</td>\n",
       "      <td>5</td>\n",
       "      <td>29</td>\n",
       "      <td>29</td>\n",
       "      <td>150</td>\n",
       "      <td>816</td>\n",
       "      <td>74</td>\n",
       "      <td>21</td>\n",
       "      <td>291.0</td>\n",
       "      <td>60.0</td>\n",
       "      <td>3</td>\n",
       "      <td>2</td>\n",
       "      <td>5</td>\n",
       "      <td>NaN</td>\n",
       "      <td>NaN</td>\n",
       "      <td>NaN</td>\n",
       "      <td>NaN</td>\n",
       "    </tr>\n",
       "    <tr>\n",
       "      <th>4</th>\n",
       "      <td>2022-03-01</td>\n",
       "      <td>6</td>\n",
       "      <td>29</td>\n",
       "      <td>29</td>\n",
       "      <td>198</td>\n",
       "      <td>846</td>\n",
       "      <td>77</td>\n",
       "      <td>24</td>\n",
       "      <td>305.0</td>\n",
       "      <td>60.0</td>\n",
       "      <td>3</td>\n",
       "      <td>2</td>\n",
       "      <td>7</td>\n",
       "      <td>NaN</td>\n",
       "      <td>NaN</td>\n",
       "      <td>NaN</td>\n",
       "      <td>NaN</td>\n",
       "    </tr>\n",
       "    <tr>\n",
       "      <th>5</th>\n",
       "      <td>2022-03-02</td>\n",
       "      <td>7</td>\n",
       "      <td>30</td>\n",
       "      <td>31</td>\n",
       "      <td>211</td>\n",
       "      <td>862</td>\n",
       "      <td>85</td>\n",
       "      <td>40</td>\n",
       "      <td>355.0</td>\n",
       "      <td>60.0</td>\n",
       "      <td>3</td>\n",
       "      <td>2</td>\n",
       "      <td>9</td>\n",
       "      <td>NaN</td>\n",
       "      <td>NaN</td>\n",
       "      <td>NaN</td>\n",
       "      <td>NaN</td>\n",
       "    </tr>\n",
       "    <tr>\n",
       "      <th>6</th>\n",
       "      <td>2022-03-03</td>\n",
       "      <td>8</td>\n",
       "      <td>30</td>\n",
       "      <td>31</td>\n",
       "      <td>217</td>\n",
       "      <td>900</td>\n",
       "      <td>90</td>\n",
       "      <td>42</td>\n",
       "      <td>374.0</td>\n",
       "      <td>60.0</td>\n",
       "      <td>3</td>\n",
       "      <td>2</td>\n",
       "      <td>11</td>\n",
       "      <td>NaN</td>\n",
       "      <td>NaN</td>\n",
       "      <td>NaN</td>\n",
       "      <td>NaN</td>\n",
       "    </tr>\n",
       "    <tr>\n",
       "      <th>7</th>\n",
       "      <td>2022-03-04</td>\n",
       "      <td>9</td>\n",
       "      <td>33</td>\n",
       "      <td>37</td>\n",
       "      <td>251</td>\n",
       "      <td>939</td>\n",
       "      <td>105</td>\n",
       "      <td>50</td>\n",
       "      <td>404.0</td>\n",
       "      <td>60.0</td>\n",
       "      <td>3</td>\n",
       "      <td>2</td>\n",
       "      <td>18</td>\n",
       "      <td>NaN</td>\n",
       "      <td>NaN</td>\n",
       "      <td>NaN</td>\n",
       "      <td>NaN</td>\n",
       "    </tr>\n",
       "    <tr>\n",
       "      <th>8</th>\n",
       "      <td>2022-03-05</td>\n",
       "      <td>10</td>\n",
       "      <td>39</td>\n",
       "      <td>40</td>\n",
       "      <td>269</td>\n",
       "      <td>945</td>\n",
       "      <td>105</td>\n",
       "      <td>50</td>\n",
       "      <td>409.0</td>\n",
       "      <td>60.0</td>\n",
       "      <td>3</td>\n",
       "      <td>2</td>\n",
       "      <td>19</td>\n",
       "      <td>NaN</td>\n",
       "      <td>NaN</td>\n",
       "      <td>NaN</td>\n",
       "      <td>NaN</td>\n",
       "    </tr>\n",
       "    <tr>\n",
       "      <th>9</th>\n",
       "      <td>2022-03-06</td>\n",
       "      <td>11</td>\n",
       "      <td>44</td>\n",
       "      <td>48</td>\n",
       "      <td>285</td>\n",
       "      <td>985</td>\n",
       "      <td>109</td>\n",
       "      <td>50</td>\n",
       "      <td>447.0</td>\n",
       "      <td>60.0</td>\n",
       "      <td>4</td>\n",
       "      <td>2</td>\n",
       "      <td>21</td>\n",
       "      <td>NaN</td>\n",
       "      <td>NaN</td>\n",
       "      <td>NaN</td>\n",
       "      <td>NaN</td>\n",
       "    </tr>\n",
       "  </tbody>\n",
       "</table>\n",
       "</div>"
      ],
      "text/plain": [
       "         date  day  aircraft  helicopter  tank  APC  field artillery  MRL  \\\n",
       "0  2022-02-25    2        10           7    80  516               49    4   \n",
       "1  2022-02-26    3        27          26   146  706               49    4   \n",
       "2  2022-02-27    4        27          26   150  706               50    4   \n",
       "3  2022-02-28    5        29          29   150  816               74   21   \n",
       "4  2022-03-01    6        29          29   198  846               77   24   \n",
       "5  2022-03-02    7        30          31   211  862               85   40   \n",
       "6  2022-03-03    8        30          31   217  900               90   42   \n",
       "7  2022-03-04    9        33          37   251  939              105   50   \n",
       "8  2022-03-05   10        39          40   269  945              105   50   \n",
       "9  2022-03-06   11        44          48   285  985              109   50   \n",
       "\n",
       "   military auto  fuel tank  drone  naval ship  anti-aircraft warfare  \\\n",
       "0          100.0       60.0      0           2                      0   \n",
       "1          130.0       60.0      2           2                      0   \n",
       "2          130.0       60.0      2           2                      0   \n",
       "3          291.0       60.0      3           2                      5   \n",
       "4          305.0       60.0      3           2                      7   \n",
       "5          355.0       60.0      3           2                      9   \n",
       "6          374.0       60.0      3           2                     11   \n",
       "7          404.0       60.0      3           2                     18   \n",
       "8          409.0       60.0      3           2                     19   \n",
       "9          447.0       60.0      4           2                     21   \n",
       "\n",
       "   special equipment  mobile SRBM system  vehicles and fuel tanks  \\\n",
       "0                NaN                 NaN                      NaN   \n",
       "1                NaN                 NaN                      NaN   \n",
       "2                NaN                 NaN                      NaN   \n",
       "3                NaN                 NaN                      NaN   \n",
       "4                NaN                 NaN                      NaN   \n",
       "5                NaN                 NaN                      NaN   \n",
       "6                NaN                 NaN                      NaN   \n",
       "7                NaN                 NaN                      NaN   \n",
       "8                NaN                 NaN                      NaN   \n",
       "9                NaN                 NaN                      NaN   \n",
       "\n",
       "   cruise missiles  \n",
       "0              NaN  \n",
       "1              NaN  \n",
       "2              NaN  \n",
       "3              NaN  \n",
       "4              NaN  \n",
       "5              NaN  \n",
       "6              NaN  \n",
       "7              NaN  \n",
       "8              NaN  \n",
       "9              NaN  "
      ]
     },
     "execution_count": 5,
     "metadata": {},
     "output_type": "execute_result"
    }
   ],
   "source": [
    "russian_equipment.head(10)"
   ]
  },
  {
   "cell_type": "code",
   "execution_count": 6,
   "id": "5f7d2255",
   "metadata": {
    "execution": {
     "iopub.execute_input": "2022-05-28T01:07:00.271239Z",
     "iopub.status.busy": "2022-05-28T01:07:00.270684Z",
     "iopub.status.idle": "2022-05-28T01:07:00.277546Z",
     "shell.execute_reply": "2022-05-28T01:07:00.277990Z",
     "shell.execute_reply.started": "2022-05-28T00:49:06.152407Z"
    },
    "papermill": {
     "duration": 0.061695,
     "end_time": "2022-05-28T01:07:00.278125",
     "exception": false,
     "start_time": "2022-05-28T01:07:00.216430",
     "status": "completed"
    },
    "tags": []
   },
   "outputs": [
    {
     "name": "stdout",
     "output_type": "stream",
     "text": [
      "<class 'pandas.core.frame.DataFrame'>\n",
      "Index: 92 entries, 2022-02-25 to 2022-05-27\n",
      "Data columns (total 16 columns):\n",
      " #   Column                   Non-Null Count  Dtype  \n",
      "---  ------                   --------------  -----  \n",
      " 0   day                      92 non-null     int64  \n",
      " 1   aircraft                 92 non-null     int64  \n",
      " 2   helicopter               92 non-null     int64  \n",
      " 3   tank                     92 non-null     int64  \n",
      " 4   APC                      92 non-null     int64  \n",
      " 5   field artillery          92 non-null     int64  \n",
      " 6   MRL                      92 non-null     int64  \n",
      " 7   military auto            92 non-null     float64\n",
      " 8   fuel tank                92 non-null     float64\n",
      " 9   drone                    92 non-null     int64  \n",
      " 10  naval ship               92 non-null     int64  \n",
      " 11  anti-aircraft warfare    92 non-null     int64  \n",
      " 12  special equipment        92 non-null     float64\n",
      " 13  mobile SRBM system       92 non-null     float64\n",
      " 14  vehicles and fuel tanks  92 non-null     float64\n",
      " 15  cruise missiles          92 non-null     float64\n",
      "dtypes: float64(6), int64(10)\n",
      "memory usage: 12.2+ KB\n"
     ]
    },
    {
     "data": {
      "text/html": [
       "<div>\n",
       "<style scoped>\n",
       "    .dataframe tbody tr th:only-of-type {\n",
       "        vertical-align: middle;\n",
       "    }\n",
       "\n",
       "    .dataframe tbody tr th {\n",
       "        vertical-align: top;\n",
       "    }\n",
       "\n",
       "    .dataframe thead th {\n",
       "        text-align: right;\n",
       "    }\n",
       "</style>\n",
       "<table border=\"1\" class=\"dataframe\">\n",
       "  <thead>\n",
       "    <tr style=\"text-align: right;\">\n",
       "      <th></th>\n",
       "      <th>day</th>\n",
       "      <th>aircraft</th>\n",
       "      <th>helicopter</th>\n",
       "      <th>tank</th>\n",
       "      <th>APC</th>\n",
       "      <th>field artillery</th>\n",
       "      <th>MRL</th>\n",
       "      <th>military auto</th>\n",
       "      <th>fuel tank</th>\n",
       "      <th>drone</th>\n",
       "      <th>naval ship</th>\n",
       "      <th>anti-aircraft warfare</th>\n",
       "      <th>special equipment</th>\n",
       "      <th>mobile SRBM system</th>\n",
       "      <th>vehicles and fuel tanks</th>\n",
       "      <th>cruise missiles</th>\n",
       "    </tr>\n",
       "    <tr>\n",
       "      <th>date</th>\n",
       "      <th></th>\n",
       "      <th></th>\n",
       "      <th></th>\n",
       "      <th></th>\n",
       "      <th></th>\n",
       "      <th></th>\n",
       "      <th></th>\n",
       "      <th></th>\n",
       "      <th></th>\n",
       "      <th></th>\n",
       "      <th></th>\n",
       "      <th></th>\n",
       "      <th></th>\n",
       "      <th></th>\n",
       "      <th></th>\n",
       "      <th></th>\n",
       "    </tr>\n",
       "  </thead>\n",
       "  <tbody>\n",
       "    <tr>\n",
       "      <th>2022-02-25</th>\n",
       "      <td>2</td>\n",
       "      <td>10</td>\n",
       "      <td>7</td>\n",
       "      <td>80</td>\n",
       "      <td>516</td>\n",
       "      <td>49</td>\n",
       "      <td>4</td>\n",
       "      <td>100.0</td>\n",
       "      <td>60.0</td>\n",
       "      <td>0</td>\n",
       "      <td>2</td>\n",
       "      <td>0</td>\n",
       "      <td>0.0</td>\n",
       "      <td>0.0</td>\n",
       "      <td>0.0</td>\n",
       "      <td>0.0</td>\n",
       "    </tr>\n",
       "    <tr>\n",
       "      <th>2022-02-26</th>\n",
       "      <td>3</td>\n",
       "      <td>27</td>\n",
       "      <td>26</td>\n",
       "      <td>146</td>\n",
       "      <td>706</td>\n",
       "      <td>49</td>\n",
       "      <td>4</td>\n",
       "      <td>130.0</td>\n",
       "      <td>60.0</td>\n",
       "      <td>2</td>\n",
       "      <td>2</td>\n",
       "      <td>0</td>\n",
       "      <td>0.0</td>\n",
       "      <td>0.0</td>\n",
       "      <td>0.0</td>\n",
       "      <td>0.0</td>\n",
       "    </tr>\n",
       "    <tr>\n",
       "      <th>2022-02-27</th>\n",
       "      <td>4</td>\n",
       "      <td>27</td>\n",
       "      <td>26</td>\n",
       "      <td>150</td>\n",
       "      <td>706</td>\n",
       "      <td>50</td>\n",
       "      <td>4</td>\n",
       "      <td>130.0</td>\n",
       "      <td>60.0</td>\n",
       "      <td>2</td>\n",
       "      <td>2</td>\n",
       "      <td>0</td>\n",
       "      <td>0.0</td>\n",
       "      <td>0.0</td>\n",
       "      <td>0.0</td>\n",
       "      <td>0.0</td>\n",
       "    </tr>\n",
       "    <tr>\n",
       "      <th>2022-02-28</th>\n",
       "      <td>5</td>\n",
       "      <td>29</td>\n",
       "      <td>29</td>\n",
       "      <td>150</td>\n",
       "      <td>816</td>\n",
       "      <td>74</td>\n",
       "      <td>21</td>\n",
       "      <td>291.0</td>\n",
       "      <td>60.0</td>\n",
       "      <td>3</td>\n",
       "      <td>2</td>\n",
       "      <td>5</td>\n",
       "      <td>0.0</td>\n",
       "      <td>0.0</td>\n",
       "      <td>0.0</td>\n",
       "      <td>0.0</td>\n",
       "    </tr>\n",
       "    <tr>\n",
       "      <th>2022-03-01</th>\n",
       "      <td>6</td>\n",
       "      <td>29</td>\n",
       "      <td>29</td>\n",
       "      <td>198</td>\n",
       "      <td>846</td>\n",
       "      <td>77</td>\n",
       "      <td>24</td>\n",
       "      <td>305.0</td>\n",
       "      <td>60.0</td>\n",
       "      <td>3</td>\n",
       "      <td>2</td>\n",
       "      <td>7</td>\n",
       "      <td>0.0</td>\n",
       "      <td>0.0</td>\n",
       "      <td>0.0</td>\n",
       "      <td>0.0</td>\n",
       "    </tr>\n",
       "  </tbody>\n",
       "</table>\n",
       "</div>"
      ],
      "text/plain": [
       "            day  aircraft  helicopter  tank  APC  field artillery  MRL  \\\n",
       "date                                                                     \n",
       "2022-02-25    2        10           7    80  516               49    4   \n",
       "2022-02-26    3        27          26   146  706               49    4   \n",
       "2022-02-27    4        27          26   150  706               50    4   \n",
       "2022-02-28    5        29          29   150  816               74   21   \n",
       "2022-03-01    6        29          29   198  846               77   24   \n",
       "\n",
       "            military auto  fuel tank  drone  naval ship  \\\n",
       "date                                                      \n",
       "2022-02-25          100.0       60.0      0           2   \n",
       "2022-02-26          130.0       60.0      2           2   \n",
       "2022-02-27          130.0       60.0      2           2   \n",
       "2022-02-28          291.0       60.0      3           2   \n",
       "2022-03-01          305.0       60.0      3           2   \n",
       "\n",
       "            anti-aircraft warfare  special equipment  mobile SRBM system  \\\n",
       "date                                                                       \n",
       "2022-02-25                      0                0.0                 0.0   \n",
       "2022-02-26                      0                0.0                 0.0   \n",
       "2022-02-27                      0                0.0                 0.0   \n",
       "2022-02-28                      5                0.0                 0.0   \n",
       "2022-03-01                      7                0.0                 0.0   \n",
       "\n",
       "            vehicles and fuel tanks  cruise missiles  \n",
       "date                                                  \n",
       "2022-02-25                      0.0              0.0  \n",
       "2022-02-26                      0.0              0.0  \n",
       "2022-02-27                      0.0              0.0  \n",
       "2022-02-28                      0.0              0.0  \n",
       "2022-03-01                      0.0              0.0  "
      ]
     },
     "execution_count": 6,
     "metadata": {},
     "output_type": "execute_result"
    }
   ],
   "source": [
    "#fill empty spaces in Dataframe with zeroes and set index for sorting by date.\n",
    "russian_equipment = russian_equipment.fillna(0)\n",
    "russian_equipment.set_index('date', inplace=True)\n",
    "russian_equipment.info()\n",
    "russian_equipment.head()"
   ]
  },
  {
   "cell_type": "code",
   "execution_count": 7,
   "id": "9c7dbbc4",
   "metadata": {
    "execution": {
     "iopub.execute_input": "2022-05-28T01:07:00.348598Z",
     "iopub.status.busy": "2022-05-28T01:07:00.342290Z",
     "iopub.status.idle": "2022-05-28T01:07:00.351387Z",
     "shell.execute_reply": "2022-05-28T01:07:00.351958Z",
     "shell.execute_reply.started": "2022-05-28T00:49:06.193890Z"
    },
    "papermill": {
     "duration": 0.044124,
     "end_time": "2022-05-28T01:07:00.352123",
     "exception": false,
     "start_time": "2022-05-28T01:07:00.307999",
     "status": "completed"
    },
    "tags": []
   },
   "outputs": [
    {
     "name": "stdout",
     "output_type": "stream",
     "text": [
      "<class 'pandas.core.frame.DataFrame'>\n",
      "Index: 92 entries, 2022-02-25 to 2022-05-27\n",
      "Data columns (total 16 columns):\n",
      " #   Column                   Non-Null Count  Dtype\n",
      "---  ------                   --------------  -----\n",
      " 0   day                      92 non-null     int64\n",
      " 1   aircraft                 92 non-null     int64\n",
      " 2   helicopter               92 non-null     int64\n",
      " 3   tank                     92 non-null     int64\n",
      " 4   APC                      92 non-null     int64\n",
      " 5   field artillery          92 non-null     int64\n",
      " 6   MRL                      92 non-null     int64\n",
      " 7   military auto            92 non-null     int64\n",
      " 8   fuel tank                92 non-null     int64\n",
      " 9   drone                    92 non-null     int64\n",
      " 10  naval ship               92 non-null     int64\n",
      " 11  anti-aircraft warfare    92 non-null     int64\n",
      " 12  special equipment        92 non-null     int64\n",
      " 13  mobile SRBM system       92 non-null     int64\n",
      " 14  vehicles and fuel tanks  92 non-null     int64\n",
      " 15  cruise missiles          92 non-null     int64\n",
      "dtypes: int64(16)\n",
      "memory usage: 12.2+ KB\n"
     ]
    }
   ],
   "source": [
    "#Change all numberic data to integer.\n",
    "russian_equipment = russian_equipment.astype(int)\n",
    "russian_equipment.info()\n"
   ]
  },
  {
   "cell_type": "code",
   "execution_count": 8,
   "id": "a7281490",
   "metadata": {
    "execution": {
     "iopub.execute_input": "2022-05-28T01:07:00.417203Z",
     "iopub.status.busy": "2022-05-28T01:07:00.415682Z",
     "iopub.status.idle": "2022-05-28T01:07:00.417889Z",
     "shell.execute_reply": "2022-05-28T01:07:00.418305Z",
     "shell.execute_reply.started": "2022-05-28T00:49:06.211802Z"
    },
    "papermill": {
     "duration": 0.035555,
     "end_time": "2022-05-28T01:07:00.418443",
     "exception": false,
     "start_time": "2022-05-28T01:07:00.382888",
     "status": "completed"
    },
    "tags": []
   },
   "outputs": [],
   "source": [
    "# Function for rounding values to 3 significant figures\n",
    "def round_sig(x, sig=3):\n",
    "    return round(x, sig-int(floor(log10(abs(x))))-1)"
   ]
  },
  {
   "cell_type": "markdown",
   "id": "2fb90db5",
   "metadata": {
    "papermill": {
     "duration": 0.029386,
     "end_time": "2022-05-28T01:07:00.476994",
     "exception": false,
     "start_time": "2022-05-28T01:07:00.447608",
     "status": "completed"
    },
    "tags": []
   },
   "source": [
    "## Problem 1\n",
    "##### Visually represent the country being invaded."
   ]
  },
  {
   "cell_type": "code",
   "execution_count": 9,
   "id": "833d8a0d",
   "metadata": {
    "execution": {
     "iopub.execute_input": "2022-05-28T01:07:00.542526Z",
     "iopub.status.busy": "2022-05-28T01:07:00.541833Z",
     "iopub.status.idle": "2022-05-28T01:07:00.565302Z",
     "shell.execute_reply": "2022-05-28T01:07:00.565714Z",
     "shell.execute_reply.started": "2022-05-28T00:49:06.218014Z"
    },
    "papermill": {
     "duration": 0.059202,
     "end_time": "2022-05-28T01:07:00.565850",
     "exception": false,
     "start_time": "2022-05-28T01:07:00.506648",
     "status": "completed"
    },
    "tags": []
   },
   "outputs": [
    {
     "data": {
      "text/html": [
       "<div style=\"width:100%;\"><div style=\"position:relative;width:100%;height:0;padding-bottom:60%;\"><span style=\"color:#565656\">Make this Notebook Trusted to load map: File -> Trust Notebook</span><iframe src=\"about:blank\" style=\"position:absolute;width:100%;height:100%;left:0;top:0;border:none !important;\" data-html=%3C%21DOCTYPE%20html%3E%0A%3Chead%3E%20%20%20%20%0A%20%20%20%20%3Cmeta%20http-equiv%3D%22content-type%22%20content%3D%22text/html%3B%20charset%3DUTF-8%22%20/%3E%0A%20%20%20%20%0A%20%20%20%20%20%20%20%20%3Cscript%3E%0A%20%20%20%20%20%20%20%20%20%20%20%20L_NO_TOUCH%20%3D%20false%3B%0A%20%20%20%20%20%20%20%20%20%20%20%20L_DISABLE_3D%20%3D%20false%3B%0A%20%20%20%20%20%20%20%20%3C/script%3E%0A%20%20%20%20%0A%20%20%20%20%3Cstyle%3Ehtml%2C%20body%20%7Bwidth%3A%20100%25%3Bheight%3A%20100%25%3Bmargin%3A%200%3Bpadding%3A%200%3B%7D%3C/style%3E%0A%20%20%20%20%3Cstyle%3E%23map%20%7Bposition%3Aabsolute%3Btop%3A0%3Bbottom%3A0%3Bright%3A0%3Bleft%3A0%3B%7D%3C/style%3E%0A%20%20%20%20%3Cscript%20src%3D%22https%3A//cdn.jsdelivr.net/npm/leaflet%401.6.0/dist/leaflet.js%22%3E%3C/script%3E%0A%20%20%20%20%3Cscript%20src%3D%22https%3A//code.jquery.com/jquery-1.12.4.min.js%22%3E%3C/script%3E%0A%20%20%20%20%3Cscript%20src%3D%22https%3A//maxcdn.bootstrapcdn.com/bootstrap/3.2.0/js/bootstrap.min.js%22%3E%3C/script%3E%0A%20%20%20%20%3Cscript%20src%3D%22https%3A//cdnjs.cloudflare.com/ajax/libs/Leaflet.awesome-markers/2.0.2/leaflet.awesome-markers.js%22%3E%3C/script%3E%0A%20%20%20%20%3Clink%20rel%3D%22stylesheet%22%20href%3D%22https%3A//cdn.jsdelivr.net/npm/leaflet%401.6.0/dist/leaflet.css%22/%3E%0A%20%20%20%20%3Clink%20rel%3D%22stylesheet%22%20href%3D%22https%3A//maxcdn.bootstrapcdn.com/bootstrap/3.2.0/css/bootstrap.min.css%22/%3E%0A%20%20%20%20%3Clink%20rel%3D%22stylesheet%22%20href%3D%22https%3A//maxcdn.bootstrapcdn.com/bootstrap/3.2.0/css/bootstrap-theme.min.css%22/%3E%0A%20%20%20%20%3Clink%20rel%3D%22stylesheet%22%20href%3D%22https%3A//maxcdn.bootstrapcdn.com/font-awesome/4.6.3/css/font-awesome.min.css%22/%3E%0A%20%20%20%20%3Clink%20rel%3D%22stylesheet%22%20href%3D%22https%3A//cdnjs.cloudflare.com/ajax/libs/Leaflet.awesome-markers/2.0.2/leaflet.awesome-markers.css%22/%3E%0A%20%20%20%20%3Clink%20rel%3D%22stylesheet%22%20href%3D%22https%3A//cdn.jsdelivr.net/gh/python-visualization/folium/folium/templates/leaflet.awesome.rotate.min.css%22/%3E%0A%20%20%20%20%0A%20%20%20%20%20%20%20%20%20%20%20%20%3Cmeta%20name%3D%22viewport%22%20content%3D%22width%3Ddevice-width%2C%0A%20%20%20%20%20%20%20%20%20%20%20%20%20%20%20%20initial-scale%3D1.0%2C%20maximum-scale%3D1.0%2C%20user-scalable%3Dno%22%20/%3E%0A%20%20%20%20%20%20%20%20%20%20%20%20%3Cstyle%3E%0A%20%20%20%20%20%20%20%20%20%20%20%20%20%20%20%20%23map_351ec9ca89204046812173ae4adae4e5%20%7B%0A%20%20%20%20%20%20%20%20%20%20%20%20%20%20%20%20%20%20%20%20position%3A%20relative%3B%0A%20%20%20%20%20%20%20%20%20%20%20%20%20%20%20%20%20%20%20%20width%3A%20100.0%25%3B%0A%20%20%20%20%20%20%20%20%20%20%20%20%20%20%20%20%20%20%20%20height%3A%20100.0%25%3B%0A%20%20%20%20%20%20%20%20%20%20%20%20%20%20%20%20%20%20%20%20left%3A%200.0%25%3B%0A%20%20%20%20%20%20%20%20%20%20%20%20%20%20%20%20%20%20%20%20top%3A%200.0%25%3B%0A%20%20%20%20%20%20%20%20%20%20%20%20%20%20%20%20%7D%0A%20%20%20%20%20%20%20%20%20%20%20%20%3C/style%3E%0A%20%20%20%20%20%20%20%20%0A%3C/head%3E%0A%3Cbody%3E%20%20%20%20%0A%20%20%20%20%0A%20%20%20%20%20%20%20%20%20%20%20%20%3Cdiv%20class%3D%22folium-map%22%20id%3D%22map_351ec9ca89204046812173ae4adae4e5%22%20%3E%3C/div%3E%0A%20%20%20%20%20%20%20%20%0A%3C/body%3E%0A%3Cscript%3E%20%20%20%20%0A%20%20%20%20%0A%20%20%20%20%20%20%20%20%20%20%20%20var%20map_351ec9ca89204046812173ae4adae4e5%20%3D%20L.map%28%0A%20%20%20%20%20%20%20%20%20%20%20%20%20%20%20%20%22map_351ec9ca89204046812173ae4adae4e5%22%2C%0A%20%20%20%20%20%20%20%20%20%20%20%20%20%20%20%20%7B%0A%20%20%20%20%20%20%20%20%20%20%20%20%20%20%20%20%20%20%20%20center%3A%20%5B48.383022%2C%2031.1828699%5D%2C%0A%20%20%20%20%20%20%20%20%20%20%20%20%20%20%20%20%20%20%20%20crs%3A%20L.CRS.EPSG3857%2C%0A%20%20%20%20%20%20%20%20%20%20%20%20%20%20%20%20%20%20%20%20zoom%3A%206.49%2C%0A%20%20%20%20%20%20%20%20%20%20%20%20%20%20%20%20%20%20%20%20zoomControl%3A%20true%2C%0A%20%20%20%20%20%20%20%20%20%20%20%20%20%20%20%20%20%20%20%20preferCanvas%3A%20false%2C%0A%20%20%20%20%20%20%20%20%20%20%20%20%20%20%20%20%7D%0A%20%20%20%20%20%20%20%20%20%20%20%20%29%3B%0A%0A%20%20%20%20%20%20%20%20%20%20%20%20%0A%0A%20%20%20%20%20%20%20%20%0A%20%20%20%20%0A%20%20%20%20%20%20%20%20%20%20%20%20var%20tile_layer_6dc04517904e4451bf6b83442fb3afbe%20%3D%20L.tileLayer%28%0A%20%20%20%20%20%20%20%20%20%20%20%20%20%20%20%20%22https%3A//stamen-tiles-%7Bs%7D.a.ssl.fastly.net/terrain/%7Bz%7D/%7Bx%7D/%7By%7D.jpg%22%2C%0A%20%20%20%20%20%20%20%20%20%20%20%20%20%20%20%20%7B%22attribution%22%3A%20%22Map%20tiles%20by%20%5Cu003ca%20href%3D%5C%22http%3A//stamen.com%5C%22%5Cu003eStamen%20Design%5Cu003c/a%5Cu003e%2C%20under%20%5Cu003ca%20href%3D%5C%22http%3A//creativecommons.org/licenses/by/3.0%5C%22%5Cu003eCC%20BY%203.0%5Cu003c/a%5Cu003e.%20Data%20by%20%5Cu0026copy%3B%20%5Cu003ca%20href%3D%5C%22http%3A//openstreetmap.org%5C%22%5Cu003eOpenStreetMap%5Cu003c/a%5Cu003e%2C%20under%20%5Cu003ca%20href%3D%5C%22http%3A//creativecommons.org/licenses/by-sa/3.0%5C%22%5Cu003eCC%20BY%20SA%5Cu003c/a%5Cu003e.%22%2C%20%22detectRetina%22%3A%20false%2C%20%22maxNativeZoom%22%3A%2018%2C%20%22maxZoom%22%3A%2018%2C%20%22minZoom%22%3A%200%2C%20%22noWrap%22%3A%20false%2C%20%22opacity%22%3A%201%2C%20%22subdomains%22%3A%20%22abc%22%2C%20%22tms%22%3A%20false%7D%0A%20%20%20%20%20%20%20%20%20%20%20%20%29.addTo%28map_351ec9ca89204046812173ae4adae4e5%29%3B%0A%20%20%20%20%20%20%20%20%0A%20%20%20%20%0A%20%20%20%20%20%20%20%20%20%20%20%20var%20feature_group_e73ff344065d43d297f1c30d401f28c5%20%3D%20L.featureGroup%28%0A%20%20%20%20%20%20%20%20%20%20%20%20%20%20%20%20%7B%7D%0A%20%20%20%20%20%20%20%20%20%20%20%20%29.addTo%28map_351ec9ca89204046812173ae4adae4e5%29%3B%0A%20%20%20%20%20%20%20%20%0A%20%20%20%20%0A%20%20%20%20%20%20%20%20%20%20%20%20var%20circle_marker_8510a1c71e864eb3a06e2f622fb0c071%20%3D%20L.circleMarker%28%0A%20%20%20%20%20%20%20%20%20%20%20%20%20%20%20%20%5B50.4500336%2C%2030.5241361%5D%2C%0A%20%20%20%20%20%20%20%20%20%20%20%20%20%20%20%20%7B%22bubblingMouseEvents%22%3A%20true%2C%20%22color%22%3A%20%22red%22%2C%20%22dashArray%22%3A%20null%2C%20%22dashOffset%22%3A%20null%2C%20%22fill%22%3A%20true%2C%20%22fillColor%22%3A%20%22blue%22%2C%20%22fillOpacity%22%3A%200.2%2C%20%22fillRule%22%3A%20%22evenodd%22%2C%20%22lineCap%22%3A%20%22round%22%2C%20%22lineJoin%22%3A%20%22round%22%2C%20%22opacity%22%3A%201.0%2C%20%22radius%22%3A%205%2C%20%22stroke%22%3A%20true%2C%20%22weight%22%3A%203%7D%0A%20%20%20%20%20%20%20%20%20%20%20%20%29.addTo%28feature_group_e73ff344065d43d297f1c30d401f28c5%29%3B%0A%20%20%20%20%20%20%20%20%0A%20%20%20%20%0A%20%20%20%20%20%20%20%20%20%20%20%20var%20marker_55efc1b049f14528a62dacb988586023%20%3D%20L.marker%28%0A%20%20%20%20%20%20%20%20%20%20%20%20%20%20%20%20%5B50.4500336%2C%2030.5241361%5D%2C%0A%20%20%20%20%20%20%20%20%20%20%20%20%20%20%20%20%7B%7D%0A%20%20%20%20%20%20%20%20%20%20%20%20%29.addTo%28map_351ec9ca89204046812173ae4adae4e5%29%3B%0A%20%20%20%20%20%20%20%20%0A%20%20%20%20%0A%20%20%20%20%20%20%20%20var%20popup_832fc2de9093469aabc43809038052a5%20%3D%20L.popup%28%7B%22maxWidth%22%3A%20%22100%25%22%7D%29%3B%0A%0A%20%20%20%20%20%20%20%20%0A%20%20%20%20%20%20%20%20%20%20%20%20var%20html_c591587d65c54150a121313341486184%20%3D%20%24%28%60%3Cdiv%20id%3D%22html_c591587d65c54150a121313341486184%22%20style%3D%22width%3A%20100.0%25%3B%20height%3A%20100.0%25%3B%22%3EUkraine%27s%20Capital%3C/div%3E%60%29%5B0%5D%3B%0A%20%20%20%20%20%20%20%20%20%20%20%20popup_832fc2de9093469aabc43809038052a5.setContent%28html_c591587d65c54150a121313341486184%29%3B%0A%20%20%20%20%20%20%20%20%0A%0A%20%20%20%20%20%20%20%20marker_55efc1b049f14528a62dacb988586023.bindPopup%28popup_832fc2de9093469aabc43809038052a5%29%0A%20%20%20%20%20%20%20%20%3B%0A%0A%20%20%20%20%20%20%20%20%0A%20%20%20%20%0A%3C/script%3E onload=\"this.contentDocument.open();this.contentDocument.write(    decodeURIComponent(this.getAttribute('data-html')));this.contentDocument.close();\" allowfullscreen webkitallowfullscreen mozallowfullscreen></iframe></div></div>"
      ],
      "text/plain": [
       "<folium.folium.Map at 0x7f143cba2710>"
      ]
     },
     "execution_count": 9,
     "metadata": {},
     "output_type": "execute_result"
    }
   ],
   "source": [
    "## Coordinates as at 03/31/2021 obtained from googlemaps\n",
    "ukraine_latitude = 48.383022 \n",
    "ukrain_longitude = 31.1828699\n",
    "ukraine_map = F.Map(location=[ukraine_latitude, ukrain_longitude], tiles=\"Stamen Terrain\", zoom_start=6.49)\n",
    "\n",
    "kiev = F.map.FeatureGroup()\n",
    "\n",
    "kiev_latitude =50.4500336\n",
    "kiev_longitude =30.5241361\n",
    "kiev.add_child(F.features.CircleMarker([kiev_latitude, kiev_longitude], radius=5, color=\"red\", fill_color=\"blue\"))\n",
    "ukraine_map.add_child(kiev)\n",
    "\n",
    "F.Marker([kiev_latitude, kiev_longitude], popup=\"Ukraine's Capital\").add_to(ukraine_map)\n",
    "\n",
    "ukraine_map"
   ]
  },
  {
   "cell_type": "markdown",
   "id": "9f58ce2a",
   "metadata": {
    "papermill": {
     "duration": 0.030313,
     "end_time": "2022-05-28T01:07:00.626840",
     "exception": false,
     "start_time": "2022-05-28T01:07:00.596527",
     "status": "completed"
    },
    "tags": []
   },
   "source": [
    "## Problem 2\n",
    "##### Show the total Prisoners of War per day recorded in the Personel table.\n"
   ]
  },
  {
   "cell_type": "code",
   "execution_count": 10,
   "id": "c3e372eb",
   "metadata": {
    "execution": {
     "iopub.execute_input": "2022-05-28T01:07:00.696334Z",
     "iopub.status.busy": "2022-05-28T01:07:00.695487Z",
     "iopub.status.idle": "2022-05-28T01:07:00.961205Z",
     "shell.execute_reply": "2022-05-28T01:07:00.962070Z",
     "shell.execute_reply.started": "2022-05-28T01:03:46.618424Z"
    },
    "papermill": {
     "duration": 0.304607,
     "end_time": "2022-05-28T01:07:00.962232",
     "exception": false,
     "start_time": "2022-05-28T01:07:00.657625",
     "status": "completed"
    },
    "tags": []
   },
   "outputs": [
    {
     "data": {
      "image/png": "[encoded data removed]",
      "text/plain": [
       "<Figure size 1440x360 with 1 Axes>"
      ]
     },
     "metadata": {},
     "output_type": "display_data"
    }
   ],
   "source": [
    "# Set graph style\n",
    "sns.set_style('white')\n",
    "\n",
    "# Refine data\n",
    "pow_data = russian_personnel[[\"day\", \"POW\"]]\n",
    "pow_data.reset_index('date', inplace=True)\n",
    "\n",
    "# Create and label plot\n",
    "pow_data.plot(kind='area', x='day', y='POW', color='blue', alpha=.5, figsize=(20,5), legend=False, linestyle=\"-.\")\n",
    "plt.title('Total Prisoners of War Held to Date')\n",
    "plt.xlabel('Days Since Invasion')\n",
    "plt.ylabel(\"Count of Prisoners\")\n",
    "plt.show()"
   ]
  },
  {
   "cell_type": "markdown",
   "id": "fe878f27",
   "metadata": {
    "papermill": {
     "duration": 0.032099,
     "end_time": "2022-05-28T01:07:01.026574",
     "exception": false,
     "start_time": "2022-05-28T01:07:00.994475",
     "status": "completed"
    },
    "tags": []
   },
   "source": [
    "## Problem 3\n",
    "##### What is the daily change in POW and Total POW?"
   ]
  },
  {
   "cell_type": "code",
   "execution_count": 11,
   "id": "1b47555d",
   "metadata": {
    "execution": {
     "iopub.execute_input": "2022-05-28T01:07:01.104821Z",
     "iopub.status.busy": "2022-05-28T01:07:01.098553Z",
     "iopub.status.idle": "2022-05-28T01:07:01.110215Z",
     "shell.execute_reply": "2022-05-28T01:07:01.110690Z",
     "shell.execute_reply.started": "2022-05-28T00:49:06.602448Z"
    },
    "papermill": {
     "duration": 0.052972,
     "end_time": "2022-05-28T01:07:01.110838",
     "exception": false,
     "start_time": "2022-05-28T01:07:01.057866",
     "status": "completed"
    },
    "tags": []
   },
   "outputs": [
    {
     "data": {
      "text/html": [
       "<div>\n",
       "<style scoped>\n",
       "    .dataframe tbody tr th:only-of-type {\n",
       "        vertical-align: middle;\n",
       "    }\n",
       "\n",
       "    .dataframe tbody tr th {\n",
       "        vertical-align: top;\n",
       "    }\n",
       "\n",
       "    .dataframe thead th {\n",
       "        text-align: right;\n",
       "    }\n",
       "</style>\n",
       "<table border=\"1\" class=\"dataframe\">\n",
       "  <thead>\n",
       "    <tr style=\"text-align: right;\">\n",
       "      <th></th>\n",
       "      <th>Daily Total Prisoners of War</th>\n",
       "      <th>Daily Increase in Prisoners of War</th>\n",
       "    </tr>\n",
       "    <tr>\n",
       "      <th>day</th>\n",
       "      <th></th>\n",
       "      <th></th>\n",
       "    </tr>\n",
       "  </thead>\n",
       "  <tbody>\n",
       "    <tr>\n",
       "      <th>2</th>\n",
       "      <td>0</td>\n",
       "      <td>0</td>\n",
       "    </tr>\n",
       "    <tr>\n",
       "      <th>3</th>\n",
       "      <td>0</td>\n",
       "      <td>0</td>\n",
       "    </tr>\n",
       "    <tr>\n",
       "      <th>4</th>\n",
       "      <td>0</td>\n",
       "      <td>0</td>\n",
       "    </tr>\n",
       "    <tr>\n",
       "      <th>5</th>\n",
       "      <td>0</td>\n",
       "      <td>0</td>\n",
       "    </tr>\n",
       "    <tr>\n",
       "      <th>6</th>\n",
       "      <td>200</td>\n",
       "      <td>200</td>\n",
       "    </tr>\n",
       "    <tr>\n",
       "      <th>...</th>\n",
       "      <td>...</td>\n",
       "      <td>...</td>\n",
       "    </tr>\n",
       "    <tr>\n",
       "      <th>89</th>\n",
       "      <td>498</td>\n",
       "      <td>0</td>\n",
       "    </tr>\n",
       "    <tr>\n",
       "      <th>90</th>\n",
       "      <td>498</td>\n",
       "      <td>0</td>\n",
       "    </tr>\n",
       "    <tr>\n",
       "      <th>91</th>\n",
       "      <td>498</td>\n",
       "      <td>0</td>\n",
       "    </tr>\n",
       "    <tr>\n",
       "      <th>92</th>\n",
       "      <td>498</td>\n",
       "      <td>0</td>\n",
       "    </tr>\n",
       "    <tr>\n",
       "      <th>93</th>\n",
       "      <td>498</td>\n",
       "      <td>0</td>\n",
       "    </tr>\n",
       "  </tbody>\n",
       "</table>\n",
       "<p>92 rows × 2 columns</p>\n",
       "</div>"
      ],
      "text/plain": [
       "     Daily Total Prisoners of War  Daily Increase in Prisoners of War\n",
       "day                                                                  \n",
       "2                               0                                   0\n",
       "3                               0                                   0\n",
       "4                               0                                   0\n",
       "5                               0                                   0\n",
       "6                             200                                 200\n",
       "..                            ...                                 ...\n",
       "89                            498                                   0\n",
       "90                            498                                   0\n",
       "91                            498                                   0\n",
       "92                            498                                   0\n",
       "93                            498                                   0\n",
       "\n",
       "[92 rows x 2 columns]"
      ]
     },
     "execution_count": 11,
     "metadata": {},
     "output_type": "execute_result"
    }
   ],
   "source": [
    "# Helper Variables\n",
    "last = 0\n",
    "increase = []\n",
    "\n",
    "# Calculate daily change in POW\n",
    "for i in (pow_data['POW'].values):\n",
    "    count = i - last\n",
    "    increase.append(count)\n",
    "    last = i\n",
    "    \n",
    "# Assign new values to table    \n",
    "pow_data['Daily Increase in Prisoners of War'] = increase\n",
    "\n",
    "# Style table\n",
    "pow_data_ = pow_data[['day', 'POW', 'Daily Increase in Prisoners of War']].set_index('day')\n",
    "pow_data_.rename(columns={'POW':'Daily Total Prisoners of War'}, inplace=True)\n",
    "pow_data_"
   ]
  },
  {
   "cell_type": "code",
   "execution_count": 12,
   "id": "38f690c0",
   "metadata": {
    "execution": {
     "iopub.execute_input": "2022-05-28T01:07:01.182473Z",
     "iopub.status.busy": "2022-05-28T01:07:01.181656Z",
     "iopub.status.idle": "2022-05-28T01:07:01.451676Z",
     "shell.execute_reply": "2022-05-28T01:07:01.452482Z",
     "shell.execute_reply.started": "2022-05-28T00:49:06.627259Z"
    },
    "papermill": {
     "duration": 0.308263,
     "end_time": "2022-05-28T01:07:01.452662",
     "exception": false,
     "start_time": "2022-05-28T01:07:01.144399",
     "status": "completed"
    },
    "tags": []
   },
   "outputs": [
    {
     "data": {
      "image/png": "[encoded data removed]",
      "text/plain": [
       "<Figure size 1440x432 with 1 Axes>"
      ]
     },
     "metadata": {},
     "output_type": "display_data"
    }
   ],
   "source": [
    "# Set graph style\n",
    "sns.set_style('whitegrid')\n",
    "\n",
    "# Create graph\n",
    "pow_data_.plot(figsize=(20,6))\n",
    "plt.xlabel('Days since Invasion')\n",
    "plt.ylabel('Count of Prisoners')\n",
    "plt.title(\"Total Daily Prisoner of War VS Daily Increase in Prisoners of War\")\n",
    "plt.show()"
   ]
  },
  {
   "cell_type": "markdown",
   "id": "beddda02",
   "metadata": {
    "papermill": {
     "duration": 0.033027,
     "end_time": "2022-05-28T01:07:01.520102",
     "exception": false,
     "start_time": "2022-05-28T01:07:01.487075",
     "status": "completed"
    },
    "tags": []
   },
   "source": [
    "## Problem 4\n",
    "##### Visualize the daily change in POW."
   ]
  },
  {
   "cell_type": "code",
   "execution_count": 13,
   "id": "945ffc15",
   "metadata": {
    "execution": {
     "iopub.execute_input": "2022-05-28T01:07:01.629669Z",
     "iopub.status.busy": "2022-05-28T01:07:01.625110Z",
     "iopub.status.idle": "2022-05-28T01:07:01.905503Z",
     "shell.execute_reply": "2022-05-28T01:07:01.905962Z",
     "shell.execute_reply.started": "2022-05-28T00:49:06.945022Z"
    },
    "papermill": {
     "duration": 0.352771,
     "end_time": "2022-05-28T01:07:01.906109",
     "exception": false,
     "start_time": "2022-05-28T01:07:01.553338",
     "status": "completed"
    },
    "tags": []
   },
   "outputs": [
    {
     "name": "stdout",
     "output_type": "stream",
     "text": [
      "count    84.000000\n",
      "mean      3.547619\n",
      "std      10.222117\n",
      "min       0.000000\n",
      "25%       0.000000\n",
      "50%       0.000000\n",
      "75%       0.000000\n",
      "max      76.000000\n",
      "Name: Daily Increase in Prisoners of War, dtype: float64\n"
     ]
    },
    {
     "data": {
      "image/png": "[encoded data removed]",
      "text/plain": [
       "<Figure size 1440x432 with 2 Axes>"
      ]
     },
     "metadata": {},
     "output_type": "display_data"
    }
   ],
   "source": [
    "sns.set_style('ticks')\n",
    "\n",
    "# Create Plot Object\n",
    "fig = plt.figure()\n",
    "ax0 = fig.add_subplot(1, 2, 1)\n",
    "ax1 = fig.add_subplot(1, 2, 2)\n",
    "\n",
    "# Assessing data after day 10 when POW is within a more narrow/normalized range. See above graph\n",
    "plot_data1=pow_data_['Daily Increase in Prisoners of War'][8:]\n",
    "print(plot_data1.describe())\n",
    "\n",
    "# Subplot 1: Box plot\n",
    "plot_data1.plot(kind='box', color='blue', figsize=(20, 6), vert=False, ax=ax0, notch=True, label=\"\", \n",
    "                grid=True, patch_artist=True) \n",
    "ax0.set_title(f'Statistical Avg for Daily Increase in POW since day {plot_data1.index[0]} of Invasion')\n",
    "ax0.set_xlabel('Daily Count of Prisoners')\n",
    "\n",
    "# Subplot 2: Line plot\n",
    "plot_data1.plot(color='blue', figsize=(20,6), ax=ax1, marker=\"|\")\n",
    "ax1.set_xlabel('Days since Invasion')\n",
    "ax1.set_ylabel('Daily Count of Prisoners')\n",
    "ax1.set_title(f\"Daily Increase in Prisoners of War since day {plot_data1.index[0]} of Invasion\")\n",
    "\n",
    "# Print graph\n",
    "plt.show()\n"
   ]
  },
  {
   "cell_type": "code",
   "execution_count": 14,
   "id": "bb350915",
   "metadata": {
    "execution": {
     "iopub.execute_input": "2022-05-28T01:07:01.983919Z",
     "iopub.status.busy": "2022-05-28T01:07:01.981930Z",
     "iopub.status.idle": "2022-05-28T01:07:01.988204Z",
     "shell.execute_reply": "2022-05-28T01:07:01.988756Z",
     "shell.execute_reply.started": "2022-05-28T00:49:07.303440Z"
    },
    "papermill": {
     "duration": 0.047714,
     "end_time": "2022-05-28T01:07:01.989060",
     "exception": false,
     "start_time": "2022-05-28T01:07:01.941346",
     "status": "completed"
    },
    "tags": []
   },
   "outputs": [
    {
     "name": "stdout",
     "output_type": "stream",
     "text": [
      "There are 3.55 daily POW on average.\n"
     ]
    }
   ],
   "source": [
    "print(f'There are {round_sig(plot_data1.describe()[1])} daily POW on average.')"
   ]
  },
  {
   "cell_type": "markdown",
   "id": "d027c9b0",
   "metadata": {
    "papermill": {
     "duration": 0.036492,
     "end_time": "2022-05-28T01:07:02.061847",
     "exception": false,
     "start_time": "2022-05-28T01:07:02.025355",
     "status": "completed"
    },
    "tags": []
   },
   "source": [
    "## Problem 5\n",
    "##### What Is the total daily loss for all equipment?"
   ]
  },
  {
   "cell_type": "code",
   "execution_count": 15,
   "id": "f8f0130c",
   "metadata": {
    "execution": {
     "iopub.execute_input": "2022-05-28T01:07:02.140693Z",
     "iopub.status.busy": "2022-05-28T01:07:02.139886Z",
     "iopub.status.idle": "2022-05-28T01:07:03.167265Z",
     "shell.execute_reply": "2022-05-28T01:07:03.166835Z",
     "shell.execute_reply.started": "2022-05-28T00:49:07.315604Z"
    },
    "papermill": {
     "duration": 1.06953,
     "end_time": "2022-05-28T01:07:03.167418",
     "exception": false,
     "start_time": "2022-05-28T01:07:02.097888",
     "status": "completed"
    },
    "tags": []
   },
   "outputs": [
    {
     "data": {
      "text/html": [
       "        <script type=\"text/javascript\">\n",
       "        window.PlotlyConfig = {MathJaxConfig: 'local'};\n",
       "        if (window.MathJax) {MathJax.Hub.Config({SVG: {font: \"STIX-Web\"}});}\n",
       "        if (typeof require !== 'undefined') {\n",
       "        require.undef(\"plotly\");\n",
       "        requirejs.config({\n",
       "            paths: {\n",
       "                'plotly': ['https://cdn.plot.ly/plotly-2.9.0.min']\n",
       "            }\n",
       "        });\n",
       "        require(['plotly'], function(Plotly) {\n",
       "            window._Plotly = Plotly;\n",
       "        });\n",
       "        }\n",
       "        </script>\n",
       "        "
      ]
     },
     "metadata": {},
     "output_type": "display_data"
    },
    {
     "data": {
      "text/html": [
       "<div>                            <div id=\"62e97217-1a9f-4d98-84ac-2719f9a44c90\" class=\"plotly-graph-div\" style=\"height:525px; width:100%;\"></div>            <script type=\"text/javascript\">                require([\"plotly\"], function(Plotly) {                    window.PLOTLYENV=window.PLOTLYENV || {};                                    if (document.getElementById(\"62e97217-1a9f-4d98-84ac-2719f9a44c90\")) {                    Plotly.newPlot(                        \"62e97217-1a9f-4d98-84ac-2719f9a44c90\",                        [{\"hovertemplate\":\"day=%{x}<br>Daily Total Equipment Loss=%{marker.color}<extra></extra>\",\"legendgroup\":\"\",\"marker\":{\"color\":[828,1152,1157,1480,1580,1688,1760,1902,1941,2055,2117,2214,2273,2374,2500,2593,2666,2741,2821,3203,3337,3388,3480,3568,3685,3787,3853,3943,4093,4182,4238,4302,4370,4417,4468,4532,4589,4684,4739,4840,4856,4950,4957,4972,5035,5070,5140,5214,5260,5284,5324,5389,5480,5537,5601,5655,5743,5845,5932,5989,6165,6254,6377,6450,6515,6691,6832,6961,7076,7201,7295,7368,7464,7545,7633,7736,7805,7886,7969,8034,8108,8176,8275,8345,8395,8457,8520,8579,8632,8671,8738,8766],\"coloraxis\":\"coloraxis\",\"symbol\":\"circle\"},\"mode\":\"markers\",\"name\":\"\",\"orientation\":\"v\",\"showlegend\":false,\"x\":[2,3,4,5,6,7,8,9,10,11,12,13,14,15,16,17,18,19,20,21,22,23,24,25,26,27,28,29,30,31,32,33,34,35,36,37,38,39,40,41,42,43,44,45,46,47,48,49,50,51,52,53,54,55,56,57,58,59,60,61,62,63,64,65,66,67,68,69,70,71,72,73,74,75,76,77,78,79,80,81,82,83,84,85,86,87,88,89,90,91,92,93],\"xaxis\":\"x\",\"y\":[828,1152,1157,1480,1580,1688,1760,1902,1941,2055,2117,2214,2273,2374,2500,2593,2666,2741,2821,3203,3337,3388,3480,3568,3685,3787,3853,3943,4093,4182,4238,4302,4370,4417,4468,4532,4589,4684,4739,4840,4856,4950,4957,4972,5035,5070,5140,5214,5260,5284,5324,5389,5480,5537,5601,5655,5743,5845,5932,5989,6165,6254,6377,6450,6515,6691,6832,6961,7076,7201,7295,7368,7464,7545,7633,7736,7805,7886,7969,8034,8108,8176,8275,8345,8395,8457,8520,8579,8632,8671,8738,8766],\"yaxis\":\"y\",\"type\":\"scatter\"},{\"alignmentgroup\":\"True\",\"hovertemplate\":\"day=%{x}<extra></extra>\",\"legendgroup\":\"\",\"marker\":{\"color\":\"#0d0887\",\"symbol\":\"circle\"},\"name\":\"\",\"notched\":true,\"offsetgroup\":\"\",\"showlegend\":false,\"x\":[2,3,4,5,6,7,8,9,10,11,12,13,14,15,16,17,18,19,20,21,22,23,24,25,26,27,28,29,30,31,32,33,34,35,36,37,38,39,40,41,42,43,44,45,46,47,48,49,50,51,52,53,54,55,56,57,58,59,60,61,62,63,64,65,66,67,68,69,70,71,72,73,74,75,76,77,78,79,80,81,82,83,84,85,86,87,88,89,90,91,92,93],\"xaxis\":\"x2\",\"yaxis\":\"y2\",\"type\":\"box\"}],                        {\"template\":{\"data\":{\"bar\":[{\"error_x\":{\"color\":\"#2a3f5f\"},\"error_y\":{\"color\":\"#2a3f5f\"},\"marker\":{\"line\":{\"color\":\"#E5ECF6\",\"width\":0.5},\"pattern\":{\"fillmode\":\"overlay\",\"size\":10,\"solidity\":0.2}},\"type\":\"bar\"}],\"barpolar\":[{\"marker\":{\"line\":{\"color\":\"#E5ECF6\",\"width\":0.5},\"pattern\":{\"fillmode\":\"overlay\",\"size\":10,\"solidity\":0.2}},\"type\":\"barpolar\"}],\"carpet\":[{\"aaxis\":{\"endlinecolor\":\"#2a3f5f\",\"gridcolor\":\"white\",\"linecolor\":\"white\",\"minorgridcolor\":\"white\",\"startlinecolor\":\"#2a3f5f\"},\"baxis\":{\"endlinecolor\":\"#2a3f5f\",\"gridcolor\":\"white\",\"linecolor\":\"white\",\"minorgridcolor\":\"white\",\"startlinecolor\":\"#2a3f5f\"},\"type\":\"carpet\"}],\"choropleth\":[{\"colorbar\":{\"outlinewidth\":0,\"ticks\":\"\"},\"type\":\"choropleth\"}],\"contour\":[{\"colorbar\":{\"outlinewidth\":0,\"ticks\":\"\"},\"colorscale\":[[0.0,\"#0d0887\"],[0.1111111111111111,\"#46039f\"],[0.2222222222222222,\"#7201a8\"],[0.3333333333333333,\"#9c179e\"],[0.4444444444444444,\"#bd3786\"],[0.5555555555555556,\"#d8576b\"],[0.6666666666666666,\"#ed7953\"],[0.7777777777777778,\"#fb9f3a\"],[0.8888888888888888,\"#fdca26\"],[1.0,\"#f0f921\"]],\"type\":\"contour\"}],\"contourcarpet\":[{\"colorbar\":{\"outlinewidth\":0,\"ticks\":\"\"},\"type\":\"contourcarpet\"}],\"heatmap\":[{\"colorbar\":{\"outlinewidth\":0,\"ticks\":\"\"},\"colorscale\":[[0.0,\"#0d0887\"],[0.1111111111111111,\"#46039f\"],[0.2222222222222222,\"#7201a8\"],[0.3333333333333333,\"#9c179e\"],[0.4444444444444444,\"#bd3786\"],[0.5555555555555556,\"#d8576b\"],[0.6666666666666666,\"#ed7953\"],[0.7777777777777778,\"#fb9f3a\"],[0.8888888888888888,\"#fdca26\"],[1.0,\"#f0f921\"]],\"type\":\"heatmap\"}],\"heatmapgl\":[{\"colorbar\":{\"outlinewidth\":0,\"ticks\":\"\"},\"colorscale\":[[0.0,\"#0d0887\"],[0.1111111111111111,\"#46039f\"],[0.2222222222222222,\"#7201a8\"],[0.3333333333333333,\"#9c179e\"],[0.4444444444444444,\"#bd3786\"],[0.5555555555555556,\"#d8576b\"],[0.6666666666666666,\"#ed7953\"],[0.7777777777777778,\"#fb9f3a\"],[0.8888888888888888,\"#fdca26\"],[1.0,\"#f0f921\"]],\"type\":\"heatmapgl\"}],\"histogram\":[{\"marker\":{\"pattern\":{\"fillmode\":\"overlay\",\"size\":10,\"solidity\":0.2}},\"type\":\"histogram\"}],\"histogram2d\":[{\"colorbar\":{\"outlinewidth\":0,\"ticks\":\"\"},\"colorscale\":[[0.0,\"#0d0887\"],[0.1111111111111111,\"#46039f\"],[0.2222222222222222,\"#7201a8\"],[0.3333333333333333,\"#9c179e\"],[0.4444444444444444,\"#bd3786\"],[0.5555555555555556,\"#d8576b\"],[0.6666666666666666,\"#ed7953\"],[0.7777777777777778,\"#fb9f3a\"],[0.8888888888888888,\"#fdca26\"],[1.0,\"#f0f921\"]],\"type\":\"histogram2d\"}],\"histogram2dcontour\":[{\"colorbar\":{\"outlinewidth\":0,\"ticks\":\"\"},\"colorscale\":[[0.0,\"#0d0887\"],[0.1111111111111111,\"#46039f\"],[0.2222222222222222,\"#7201a8\"],[0.3333333333333333,\"#9c179e\"],[0.4444444444444444,\"#bd3786\"],[0.5555555555555556,\"#d8576b\"],[0.6666666666666666,\"#ed7953\"],[0.7777777777777778,\"#fb9f3a\"],[0.8888888888888888,\"#fdca26\"],[1.0,\"#f0f921\"]],\"type\":\"histogram2dcontour\"}],\"mesh3d\":[{\"colorbar\":{\"outlinewidth\":0,\"ticks\":\"\"},\"type\":\"mesh3d\"}],\"parcoords\":[{\"line\":{\"colorbar\":{\"outlinewidth\":0,\"ticks\":\"\"}},\"type\":\"parcoords\"}],\"pie\":[{\"automargin\":true,\"type\":\"pie\"}],\"scatter\":[{\"marker\":{\"colorbar\":{\"outlinewidth\":0,\"ticks\":\"\"}},\"type\":\"scatter\"}],\"scatter3d\":[{\"line\":{\"colorbar\":{\"outlinewidth\":0,\"ticks\":\"\"}},\"marker\":{\"colorbar\":{\"outlinewidth\":0,\"ticks\":\"\"}},\"type\":\"scatter3d\"}],\"scattercarpet\":[{\"marker\":{\"colorbar\":{\"outlinewidth\":0,\"ticks\":\"\"}},\"type\":\"scattercarpet\"}],\"scattergeo\":[{\"marker\":{\"colorbar\":{\"outlinewidth\":0,\"ticks\":\"\"}},\"type\":\"scattergeo\"}],\"scattergl\":[{\"marker\":{\"colorbar\":{\"outlinewidth\":0,\"ticks\":\"\"}},\"type\":\"scattergl\"}],\"scattermapbox\":[{\"marker\":{\"colorbar\":{\"outlinewidth\":0,\"ticks\":\"\"}},\"type\":\"scattermapbox\"}],\"scatterpolar\":[{\"marker\":{\"colorbar\":{\"outlinewidth\":0,\"ticks\":\"\"}},\"type\":\"scatterpolar\"}],\"scatterpolargl\":[{\"marker\":{\"colorbar\":{\"outlinewidth\":0,\"ticks\":\"\"}},\"type\":\"scatterpolargl\"}],\"scatterternary\":[{\"marker\":{\"colorbar\":{\"outlinewidth\":0,\"ticks\":\"\"}},\"type\":\"scatterternary\"}],\"surface\":[{\"colorbar\":{\"outlinewidth\":0,\"ticks\":\"\"},\"colorscale\":[[0.0,\"#0d0887\"],[0.1111111111111111,\"#46039f\"],[0.2222222222222222,\"#7201a8\"],[0.3333333333333333,\"#9c179e\"],[0.4444444444444444,\"#bd3786\"],[0.5555555555555556,\"#d8576b\"],[0.6666666666666666,\"#ed7953\"],[0.7777777777777778,\"#fb9f3a\"],[0.8888888888888888,\"#fdca26\"],[1.0,\"#f0f921\"]],\"type\":\"surface\"}],\"table\":[{\"cells\":{\"fill\":{\"color\":\"#EBF0F8\"},\"line\":{\"color\":\"white\"}},\"header\":{\"fill\":{\"color\":\"#C8D4E3\"},\"line\":{\"color\":\"white\"}},\"type\":\"table\"}]},\"layout\":{\"annotationdefaults\":{\"arrowcolor\":\"#2a3f5f\",\"arrowhead\":0,\"arrowwidth\":1},\"autotypenumbers\":\"strict\",\"coloraxis\":{\"colorbar\":{\"outlinewidth\":0,\"ticks\":\"\"}},\"colorscale\":{\"diverging\":[[0,\"#8e0152\"],[0.1,\"#c51b7d\"],[0.2,\"#de77ae\"],[0.3,\"#f1b6da\"],[0.4,\"#fde0ef\"],[0.5,\"#f7f7f7\"],[0.6,\"#e6f5d0\"],[0.7,\"#b8e186\"],[0.8,\"#7fbc41\"],[0.9,\"#4d9221\"],[1,\"#276419\"]],\"sequential\":[[0.0,\"#0d0887\"],[0.1111111111111111,\"#46039f\"],[0.2222222222222222,\"#7201a8\"],[0.3333333333333333,\"#9c179e\"],[0.4444444444444444,\"#bd3786\"],[0.5555555555555556,\"#d8576b\"],[0.6666666666666666,\"#ed7953\"],[0.7777777777777778,\"#fb9f3a\"],[0.8888888888888888,\"#fdca26\"],[1.0,\"#f0f921\"]],\"sequentialminus\":[[0.0,\"#0d0887\"],[0.1111111111111111,\"#46039f\"],[0.2222222222222222,\"#7201a8\"],[0.3333333333333333,\"#9c179e\"],[0.4444444444444444,\"#bd3786\"],[0.5555555555555556,\"#d8576b\"],[0.6666666666666666,\"#ed7953\"],[0.7777777777777778,\"#fb9f3a\"],[0.8888888888888888,\"#fdca26\"],[1.0,\"#f0f921\"]]},\"colorway\":[\"#636efa\",\"#EF553B\",\"#00cc96\",\"#ab63fa\",\"#FFA15A\",\"#19d3f3\",\"#FF6692\",\"#B6E880\",\"#FF97FF\",\"#FECB52\"],\"font\":{\"color\":\"#2a3f5f\"},\"geo\":{\"bgcolor\":\"white\",\"lakecolor\":\"white\",\"landcolor\":\"#E5ECF6\",\"showlakes\":true,\"showland\":true,\"subunitcolor\":\"white\"},\"hoverlabel\":{\"align\":\"left\"},\"hovermode\":\"closest\",\"mapbox\":{\"style\":\"light\"},\"paper_bgcolor\":\"white\",\"plot_bgcolor\":\"#E5ECF6\",\"polar\":{\"angularaxis\":{\"gridcolor\":\"white\",\"linecolor\":\"white\",\"ticks\":\"\"},\"bgcolor\":\"#E5ECF6\",\"radialaxis\":{\"gridcolor\":\"white\",\"linecolor\":\"white\",\"ticks\":\"\"}},\"scene\":{\"xaxis\":{\"backgroundcolor\":\"#E5ECF6\",\"gridcolor\":\"white\",\"gridwidth\":2,\"linecolor\":\"white\",\"showbackground\":true,\"ticks\":\"\",\"zerolinecolor\":\"white\"},\"yaxis\":{\"backgroundcolor\":\"#E5ECF6\",\"gridcolor\":\"white\",\"gridwidth\":2,\"linecolor\":\"white\",\"showbackground\":true,\"ticks\":\"\",\"zerolinecolor\":\"white\"},\"zaxis\":{\"backgroundcolor\":\"#E5ECF6\",\"gridcolor\":\"white\",\"gridwidth\":2,\"linecolor\":\"white\",\"showbackground\":true,\"ticks\":\"\",\"zerolinecolor\":\"white\"}},\"shapedefaults\":{\"line\":{\"color\":\"#2a3f5f\"}},\"ternary\":{\"aaxis\":{\"gridcolor\":\"white\",\"linecolor\":\"white\",\"ticks\":\"\"},\"baxis\":{\"gridcolor\":\"white\",\"linecolor\":\"white\",\"ticks\":\"\"},\"bgcolor\":\"#E5ECF6\",\"caxis\":{\"gridcolor\":\"white\",\"linecolor\":\"white\",\"ticks\":\"\"}},\"title\":{\"x\":0.05},\"xaxis\":{\"automargin\":true,\"gridcolor\":\"white\",\"linecolor\":\"white\",\"ticks\":\"\",\"title\":{\"standoff\":15},\"zerolinecolor\":\"white\",\"zerolinewidth\":2},\"yaxis\":{\"automargin\":true,\"gridcolor\":\"white\",\"linecolor\":\"white\",\"ticks\":\"\",\"title\":{\"standoff\":15},\"zerolinecolor\":\"white\",\"zerolinewidth\":2}}},\"xaxis\":{\"anchor\":\"y\",\"domain\":[0.0,1.0],\"title\":{\"text\":\"day\"}},\"yaxis\":{\"anchor\":\"x\",\"domain\":[0.0,0.7326],\"title\":{\"text\":\"Daily Total Equipment Loss\"}},\"xaxis2\":{\"anchor\":\"y2\",\"domain\":[0.0,1.0],\"matches\":\"x\",\"showticklabels\":false,\"showgrid\":true},\"yaxis2\":{\"anchor\":\"x2\",\"domain\":[0.7426,1.0],\"matches\":\"y2\",\"showticklabels\":false,\"showline\":false,\"ticks\":\"\",\"showgrid\":false},\"coloraxis\":{\"colorbar\":{\"title\":{\"text\":\"Daily Total Equipment Loss\"}},\"colorscale\":[[0.0,\"#0d0887\"],[0.1111111111111111,\"#46039f\"],[0.2222222222222222,\"#7201a8\"],[0.3333333333333333,\"#9c179e\"],[0.4444444444444444,\"#bd3786\"],[0.5555555555555556,\"#d8576b\"],[0.6666666666666666,\"#ed7953\"],[0.7777777777777778,\"#fb9f3a\"],[0.8888888888888888,\"#fdca26\"],[1.0,\"#f0f921\"]]},\"legend\":{\"tracegroupgap\":0},\"margin\":{\"t\":60},\"plot_bgcolor\":\"rgba(0,5,5,0)\",\"title\":{\"text\":\"Total Russian Equipment Lost Daily\",\"y\":0.93,\"x\":0.5,\"xanchor\":\"center\",\"yanchor\":\"top\"}},                        {\"responsive\": true}                    ).then(function(){\n",
       "                            \n",
       "var gd = document.getElementById('62e97217-1a9f-4d98-84ac-2719f9a44c90');\n",
       "var x = new MutationObserver(function (mutations, observer) {{\n",
       "        var display = window.getComputedStyle(gd).display;\n",
       "        if (!display || display === 'none') {{\n",
       "            console.log([gd, 'removed!']);\n",
       "            Plotly.purge(gd);\n",
       "            observer.disconnect();\n",
       "        }}\n",
       "}});\n",
       "\n",
       "// Listen for the removal of the full notebook cells\n",
       "var notebookContainer = gd.closest('#notebook-container');\n",
       "if (notebookContainer) {{\n",
       "    x.observe(notebookContainer, {childList: true});\n",
       "}}\n",
       "\n",
       "// Listen for the clearing of the current output cell\n",
       "var outputEl = gd.closest('.output');\n",
       "if (outputEl) {{\n",
       "    x.observe(outputEl, {childList: true});\n",
       "}}\n",
       "\n",
       "                        })                };                });            </script>        </div>"
      ]
     },
     "metadata": {},
     "output_type": "display_data"
    }
   ],
   "source": [
    "# Structure data from dataset\n",
    "daily_total_equip_loss = russian_equipment.reset_index('date')\n",
    "daily_total_equip_loss.drop(columns={'date'}, inplace=True)\n",
    "daily_total_equip_loss.set_index('day', inplace=True)\n",
    "\n",
    "# Create new dataframe for graph object\n",
    "daily_total_equip_loss['Daily Total Equipment Loss'] = pd.DataFrame(daily_total_equip_loss.sum(axis=1))\n",
    "\n",
    "# Create and show graph\n",
    "plot_data2 = daily_total_equip_loss[['Daily Total Equipment Loss']]\n",
    "fig=px.scatter(plot_data2, x=plot_data2.index, y='Daily Total Equipment Loss', marginal_x='box', \n",
    "               color='Daily Total Equipment Loss')\n",
    "fig.update_layout(plot_bgcolor='rgba(0,5,5,0)')\n",
    "fig.update_layout(title={'text':'Total Russian Equipment Lost Daily','y':0.93,'x':0.5,'xanchor':'center','yanchor':'top'})\n",
    "fig.show()"
   ]
  },
  {
   "cell_type": "markdown",
   "id": "05b40106",
   "metadata": {
    "papermill": {
     "duration": 0.036255,
     "end_time": "2022-05-28T01:07:03.240900",
     "exception": false,
     "start_time": "2022-05-28T01:07:03.204645",
     "status": "completed"
    },
    "tags": []
   },
   "source": [
    "## Problem 6\n",
    "##### Create a word map visual to show the equipment types with the highest percentage loss in total equipment loss."
   ]
  },
  {
   "cell_type": "code",
   "execution_count": 16,
   "id": "3fac4f93",
   "metadata": {
    "execution": {
     "iopub.execute_input": "2022-05-28T01:07:03.328014Z",
     "iopub.status.busy": "2022-05-28T01:07:03.324265Z",
     "iopub.status.idle": "2022-05-28T01:07:03.843099Z",
     "shell.execute_reply": "2022-05-28T01:07:03.843525Z",
     "shell.execute_reply.started": "2022-05-28T01:01:08.046402Z"
    },
    "papermill": {
     "duration": 0.566377,
     "end_time": "2022-05-28T01:07:03.843671",
     "exception": false,
     "start_time": "2022-05-28T01:07:03.277294",
     "status": "completed"
    },
    "tags": []
   },
   "outputs": [
    {
     "data": {
      "image/png": "[encoded data removed]",
      "text/plain": [
       "<Figure size 1440x432 with 1 Axes>"
      ]
     },
     "metadata": {},
     "output_type": "display_data"
    }
   ],
   "source": [
    "sns.set_style('white')\n",
    "# Get the most recent loss data\n",
    "total = int(daily_total_equip_loss.iloc[-1: , -1:].values)\n",
    "\n",
    "total_loss = daily_total_equip_loss.iloc[-1: , :-1]\n",
    "total_loss.reset_index(inplace=True)\n",
    "total_loss = pd.DataFrame(total_loss.drop('day', axis=1).transpose()).reset_index()\n",
    "total_loss.rename(columns={'index':'Equipment', 0:'Count'}, inplace=True)\n",
    "total_loss.set_index('Equipment', inplace=True)\n",
    "\n",
    "# duplicate equipment name based on how much they contribute to total loss\n",
    "word_string=\"\"\n",
    "max_words = 260\n",
    "for equipment in total_loss.index:\n",
    "     times_repeat = int(total_loss.loc[equipment, 'Count']/total * max_words)\n",
    "     word_string = word_string.lower() + ((equipment + \" \") * times_repeat)\n",
    "\n",
    "# create word cloud\n",
    "word_cloud = WordCloud(background_color = 'white').generate(word_string)\n",
    "\n",
    "# Display cloud\n",
    "plt.figure(figsize=(20,6))\n",
    "plt.imshow(word_cloud, interpolation='bessel')\n",
    "plt.title('Most Lost Russian Equipment by Type', fontweight='bold', color='black', backgroundcolor='yellow')\n",
    "plt.axis('off')\n",
    "plt.show()"
   ]
  },
  {
   "cell_type": "markdown",
   "id": "b74573f8",
   "metadata": {
    "papermill": {
     "duration": 0.041117,
     "end_time": "2022-05-28T01:07:03.925669",
     "exception": false,
     "start_time": "2022-05-28T01:07:03.884552",
     "status": "completed"
    },
    "tags": []
   },
   "source": [
    "## Problem 7\n",
    "##### How much equipment did Russia lose in the first 5 days of the invasion?"
   ]
  },
  {
   "cell_type": "code",
   "execution_count": 17,
   "id": "26c20f7e",
   "metadata": {
    "execution": {
     "iopub.execute_input": "2022-05-28T01:07:04.022649Z",
     "iopub.status.busy": "2022-05-28T01:07:04.021879Z",
     "iopub.status.idle": "2022-05-28T01:07:04.025075Z",
     "shell.execute_reply": "2022-05-28T01:07:04.025516Z",
     "shell.execute_reply.started": "2022-05-28T00:49:09.265540Z"
    },
    "papermill": {
     "duration": 0.058654,
     "end_time": "2022-05-28T01:07:04.025658",
     "exception": false,
     "start_time": "2022-05-28T01:07:03.967004",
     "status": "completed"
    },
    "tags": []
   },
   "outputs": [
    {
     "data": {
      "text/html": [
       "<div>\n",
       "<style scoped>\n",
       "    .dataframe tbody tr th:only-of-type {\n",
       "        vertical-align: middle;\n",
       "    }\n",
       "\n",
       "    .dataframe tbody tr th {\n",
       "        vertical-align: top;\n",
       "    }\n",
       "\n",
       "    .dataframe thead th {\n",
       "        text-align: right;\n",
       "    }\n",
       "</style>\n",
       "<table border=\"1\" class=\"dataframe\">\n",
       "  <thead>\n",
       "    <tr style=\"text-align: right;\">\n",
       "      <th></th>\n",
       "      <th>aircraft</th>\n",
       "      <th>helicopter</th>\n",
       "      <th>tank</th>\n",
       "      <th>APC</th>\n",
       "      <th>field artillery</th>\n",
       "      <th>MRL</th>\n",
       "      <th>military auto</th>\n",
       "      <th>fuel tank</th>\n",
       "      <th>drone</th>\n",
       "      <th>naval ship</th>\n",
       "      <th>anti-aircraft warfare</th>\n",
       "      <th>special equipment</th>\n",
       "      <th>mobile SRBM system</th>\n",
       "      <th>vehicles and fuel tanks</th>\n",
       "      <th>cruise missiles</th>\n",
       "      <th>Daily Total Equipment Loss</th>\n",
       "    </tr>\n",
       "    <tr>\n",
       "      <th>day</th>\n",
       "      <th></th>\n",
       "      <th></th>\n",
       "      <th></th>\n",
       "      <th></th>\n",
       "      <th></th>\n",
       "      <th></th>\n",
       "      <th></th>\n",
       "      <th></th>\n",
       "      <th></th>\n",
       "      <th></th>\n",
       "      <th></th>\n",
       "      <th></th>\n",
       "      <th></th>\n",
       "      <th></th>\n",
       "      <th></th>\n",
       "      <th></th>\n",
       "    </tr>\n",
       "  </thead>\n",
       "  <tbody>\n",
       "    <tr>\n",
       "      <th>2</th>\n",
       "      <td>10</td>\n",
       "      <td>7</td>\n",
       "      <td>80</td>\n",
       "      <td>516</td>\n",
       "      <td>49</td>\n",
       "      <td>4</td>\n",
       "      <td>100</td>\n",
       "      <td>60</td>\n",
       "      <td>0</td>\n",
       "      <td>2</td>\n",
       "      <td>0</td>\n",
       "      <td>0</td>\n",
       "      <td>0</td>\n",
       "      <td>0</td>\n",
       "      <td>0</td>\n",
       "      <td>828</td>\n",
       "    </tr>\n",
       "    <tr>\n",
       "      <th>3</th>\n",
       "      <td>27</td>\n",
       "      <td>26</td>\n",
       "      <td>146</td>\n",
       "      <td>706</td>\n",
       "      <td>49</td>\n",
       "      <td>4</td>\n",
       "      <td>130</td>\n",
       "      <td>60</td>\n",
       "      <td>2</td>\n",
       "      <td>2</td>\n",
       "      <td>0</td>\n",
       "      <td>0</td>\n",
       "      <td>0</td>\n",
       "      <td>0</td>\n",
       "      <td>0</td>\n",
       "      <td>1152</td>\n",
       "    </tr>\n",
       "    <tr>\n",
       "      <th>4</th>\n",
       "      <td>27</td>\n",
       "      <td>26</td>\n",
       "      <td>150</td>\n",
       "      <td>706</td>\n",
       "      <td>50</td>\n",
       "      <td>4</td>\n",
       "      <td>130</td>\n",
       "      <td>60</td>\n",
       "      <td>2</td>\n",
       "      <td>2</td>\n",
       "      <td>0</td>\n",
       "      <td>0</td>\n",
       "      <td>0</td>\n",
       "      <td>0</td>\n",
       "      <td>0</td>\n",
       "      <td>1157</td>\n",
       "    </tr>\n",
       "    <tr>\n",
       "      <th>5</th>\n",
       "      <td>29</td>\n",
       "      <td>29</td>\n",
       "      <td>150</td>\n",
       "      <td>816</td>\n",
       "      <td>74</td>\n",
       "      <td>21</td>\n",
       "      <td>291</td>\n",
       "      <td>60</td>\n",
       "      <td>3</td>\n",
       "      <td>2</td>\n",
       "      <td>5</td>\n",
       "      <td>0</td>\n",
       "      <td>0</td>\n",
       "      <td>0</td>\n",
       "      <td>0</td>\n",
       "      <td>1480</td>\n",
       "    </tr>\n",
       "  </tbody>\n",
       "</table>\n",
       "</div>"
      ],
      "text/plain": [
       "     aircraft  helicopter  tank  APC  field artillery  MRL  military auto  \\\n",
       "day                                                                         \n",
       "2          10           7    80  516               49    4            100   \n",
       "3          27          26   146  706               49    4            130   \n",
       "4          27          26   150  706               50    4            130   \n",
       "5          29          29   150  816               74   21            291   \n",
       "\n",
       "     fuel tank  drone  naval ship  anti-aircraft warfare  special equipment  \\\n",
       "day                                                                           \n",
       "2           60      0           2                      0                  0   \n",
       "3           60      2           2                      0                  0   \n",
       "4           60      2           2                      0                  0   \n",
       "5           60      3           2                      5                  0   \n",
       "\n",
       "     mobile SRBM system  vehicles and fuel tanks  cruise missiles  \\\n",
       "day                                                                 \n",
       "2                     0                        0                0   \n",
       "3                     0                        0                0   \n",
       "4                     0                        0                0   \n",
       "5                     0                        0                0   \n",
       "\n",
       "     Daily Total Equipment Loss  \n",
       "day                              \n",
       "2                           828  \n",
       "3                          1152  \n",
       "4                          1157  \n",
       "5                          1480  "
      ]
     },
     "execution_count": 17,
     "metadata": {},
     "output_type": "execute_result"
    }
   ],
   "source": [
    "daily_total_equip_loss.head(4)\n"
   ]
  },
  {
   "cell_type": "markdown",
   "id": "c01e9a45",
   "metadata": {
    "papermill": {
     "duration": 0.042182,
     "end_time": "2022-05-28T01:07:04.110932",
     "exception": false,
     "start_time": "2022-05-28T01:07:04.068750",
     "status": "completed"
    },
    "tags": []
   },
   "source": [
    "## Problem 8\n",
    "##### What is the most recent count of equipment loss?"
   ]
  },
  {
   "cell_type": "code",
   "execution_count": 18,
   "id": "fd0c225a",
   "metadata": {
    "execution": {
     "iopub.execute_input": "2022-05-28T01:07:04.205673Z",
     "iopub.status.busy": "2022-05-28T01:07:04.202894Z",
     "iopub.status.idle": "2022-05-28T01:07:04.210949Z",
     "shell.execute_reply": "2022-05-28T01:07:04.210535Z",
     "shell.execute_reply.started": "2022-05-28T00:49:09.287233Z"
    },
    "papermill": {
     "duration": 0.058827,
     "end_time": "2022-05-28T01:07:04.211065",
     "exception": false,
     "start_time": "2022-05-28T01:07:04.152238",
     "status": "completed"
    },
    "tags": []
   },
   "outputs": [
    {
     "data": {
      "text/html": [
       "<div>\n",
       "<style scoped>\n",
       "    .dataframe tbody tr th:only-of-type {\n",
       "        vertical-align: middle;\n",
       "    }\n",
       "\n",
       "    .dataframe tbody tr th {\n",
       "        vertical-align: top;\n",
       "    }\n",
       "\n",
       "    .dataframe thead th {\n",
       "        text-align: right;\n",
       "    }\n",
       "</style>\n",
       "<table border=\"1\" class=\"dataframe\">\n",
       "  <thead>\n",
       "    <tr style=\"text-align: right;\">\n",
       "      <th></th>\n",
       "      <th>aircraft</th>\n",
       "      <th>helicopter</th>\n",
       "      <th>tank</th>\n",
       "      <th>APC</th>\n",
       "      <th>field artillery</th>\n",
       "      <th>MRL</th>\n",
       "      <th>military auto</th>\n",
       "      <th>fuel tank</th>\n",
       "      <th>drone</th>\n",
       "      <th>naval ship</th>\n",
       "      <th>anti-aircraft warfare</th>\n",
       "      <th>special equipment</th>\n",
       "      <th>mobile SRBM system</th>\n",
       "      <th>vehicles and fuel tanks</th>\n",
       "      <th>cruise missiles</th>\n",
       "      <th>Daily Total Equipment Loss</th>\n",
       "    </tr>\n",
       "    <tr>\n",
       "      <th>day</th>\n",
       "      <th></th>\n",
       "      <th></th>\n",
       "      <th></th>\n",
       "      <th></th>\n",
       "      <th></th>\n",
       "      <th></th>\n",
       "      <th></th>\n",
       "      <th></th>\n",
       "      <th></th>\n",
       "      <th></th>\n",
       "      <th></th>\n",
       "      <th></th>\n",
       "      <th></th>\n",
       "      <th></th>\n",
       "      <th></th>\n",
       "      <th></th>\n",
       "    </tr>\n",
       "  </thead>\n",
       "  <tbody>\n",
       "    <tr>\n",
       "      <th>93</th>\n",
       "      <td>206</td>\n",
       "      <td>170</td>\n",
       "      <td>1322</td>\n",
       "      <td>3246</td>\n",
       "      <td>623</td>\n",
       "      <td>201</td>\n",
       "      <td>0</td>\n",
       "      <td>0</td>\n",
       "      <td>503</td>\n",
       "      <td>13</td>\n",
       "      <td>93</td>\n",
       "      <td>48</td>\n",
       "      <td>0</td>\n",
       "      <td>2226</td>\n",
       "      <td>115</td>\n",
       "      <td>8766</td>\n",
       "    </tr>\n",
       "  </tbody>\n",
       "</table>\n",
       "</div>"
      ],
      "text/plain": [
       "     aircraft  helicopter  tank   APC  field artillery  MRL  military auto  \\\n",
       "day                                                                          \n",
       "93        206         170  1322  3246              623  201              0   \n",
       "\n",
       "     fuel tank  drone  naval ship  anti-aircraft warfare  special equipment  \\\n",
       "day                                                                           \n",
       "93           0    503          13                     93                 48   \n",
       "\n",
       "     mobile SRBM system  vehicles and fuel tanks  cruise missiles  \\\n",
       "day                                                                 \n",
       "93                    0                     2226              115   \n",
       "\n",
       "     Daily Total Equipment Loss  \n",
       "day                              \n",
       "93                         8766  "
      ]
     },
     "execution_count": 18,
     "metadata": {},
     "output_type": "execute_result"
    }
   ],
   "source": [
    "daily_total_equip_loss.tail(1)"
   ]
  },
  {
   "cell_type": "markdown",
   "id": "1ea1046b",
   "metadata": {
    "papermill": {
     "duration": 0.042589,
     "end_time": "2022-05-28T01:07:04.296109",
     "exception": false,
     "start_time": "2022-05-28T01:07:04.253520",
     "status": "completed"
    },
    "tags": []
   },
   "source": [
    "## Problem 9\n",
    "##### Is there any correlation between the POW and equipment loss?"
   ]
  },
  {
   "cell_type": "code",
   "execution_count": 19,
   "id": "eedf5cb6",
   "metadata": {
    "execution": {
     "iopub.execute_input": "2022-05-28T01:07:04.395543Z",
     "iopub.status.busy": "2022-05-28T01:07:04.393092Z",
     "iopub.status.idle": "2022-05-28T01:07:04.820066Z",
     "shell.execute_reply": "2022-05-28T01:07:04.820603Z",
     "shell.execute_reply.started": "2022-05-28T01:01:52.389068Z"
    },
    "papermill": {
     "duration": 0.482916,
     "end_time": "2022-05-28T01:07:04.820762",
     "exception": false,
     "start_time": "2022-05-28T01:07:04.337846",
     "status": "completed"
    },
    "tags": []
   },
   "outputs": [
    {
     "data": {
      "image/png": "[encoded data removed]",
      "text/plain": [
       "<Figure size 1440x720 with 1 Axes>"
      ]
     },
     "metadata": {},
     "output_type": "display_data"
    }
   ],
   "source": [
    "sns.set_style('white')\n",
    "\n",
    "merge = pd.merge(russian_equipment, russian_personnel).drop(['day'], axis=1)\n",
    "merged = merge.corr()['POW'].sort_values(ascending=False)\n",
    "\n",
    "merged.plot.barh(title='Correlation between Prisoners of War (POW) & Equipment Loss',\n",
    "                 figsize=(20,10), alpha=.9, color='blue')\n",
    "for index, value in enumerate(merged):\n",
    "    value = round_sig(value)\n",
    "    label = format(value)\n",
    "    if value>0:\n",
    "        value-=.035\n",
    "    else:\n",
    "        value+=.003\n",
    "    plt.annotate(label, xy=(value, index-.1), color='yellow')"
   ]
  },
  {
   "cell_type": "markdown",
   "id": "5af15aef",
   "metadata": {
    "papermill": {
     "duration": 0.049685,
     "end_time": "2022-05-28T01:07:04.915250",
     "exception": false,
     "start_time": "2022-05-28T01:07:04.865565",
     "status": "completed"
    },
    "tags": []
   },
   "source": [
    "## Problem 10\n",
    "##### What inferences can you make from the relationship between POW and Equipment loss?"
   ]
  },
  {
   "cell_type": "code",
   "execution_count": 20,
   "id": "7a1a425c",
   "metadata": {
    "execution": {
     "iopub.execute_input": "2022-05-28T01:07:05.012359Z",
     "iopub.status.busy": "2022-05-28T01:07:05.011641Z",
     "iopub.status.idle": "2022-05-28T01:07:05.014603Z",
     "shell.execute_reply": "2022-05-28T01:07:05.015038Z",
     "shell.execute_reply.started": "2022-05-28T00:49:09.819007Z"
    },
    "papermill": {
     "duration": 0.056082,
     "end_time": "2022-05-28T01:07:05.015176",
     "exception": false,
     "start_time": "2022-05-28T01:07:04.959094",
     "status": "completed"
    },
    "tags": []
   },
   "outputs": [
    {
     "data": {
      "text/plain": [
       "count    16.000000\n",
       "mean      0.621795\n",
       "std       0.332791\n",
       "min      -0.267978\n",
       "25%       0.404031\n",
       "50%       0.773802\n",
       "75%       0.813344\n",
       "max       1.000000\n",
       "Name: POW, dtype: float64"
      ]
     },
     "execution_count": 20,
     "metadata": {},
     "output_type": "execute_result"
    }
   ],
   "source": [
    "merged.describe()"
   ]
  },
  {
   "cell_type": "code",
   "execution_count": 21,
   "id": "9ceca856",
   "metadata": {
    "execution": {
     "iopub.execute_input": "2022-05-28T01:07:05.115049Z",
     "iopub.status.busy": "2022-05-28T01:07:05.114165Z",
     "iopub.status.idle": "2022-05-28T01:07:05.119243Z",
     "shell.execute_reply": "2022-05-28T01:07:05.118588Z",
     "shell.execute_reply.started": "2022-05-28T00:49:09.833998Z"
    },
    "papermill": {
     "duration": 0.057228,
     "end_time": "2022-05-28T01:07:05.119434",
     "exception": false,
     "start_time": "2022-05-28T01:07:05.062206",
     "status": "completed"
    },
    "tags": []
   },
   "outputs": [
    {
     "name": "stdout",
     "output_type": "stream",
     "text": [
      "There is a very strong, positive, direct corralation between Prisoners of War(POW) and overall Equipment Loss. As the POW increases, so does the overall equipment loss. The strength in correlation, ranges from 0.941 (helicopter) to -0.268 (fuel tank). The median correlation is 0.774 falling between APCs and tanks. The standard deviation is 0.333 which indicated that the there is not much variability in the data; all points seem to be close to the mean or average correlation. \n",
      "\n",
      "It is then valid to conclude that as the invasion continues, and POW increases so will overall equipment loss especially the loss of helicopters by at least 0.622 when compared to POW. Please continue to pray for the Ukrainians and their families as they fight to cope in these times.\n"
     ]
    }
   ],
   "source": [
    "m =merged.describe()\n",
    "k = merged.keys()\n",
    "v = merged.values\n",
    "\n",
    "print(f\"There is a very strong, positive, direct corralation between Prisoners of War(POW) and overall Equipment Loss. As \\\n",
    "the POW increases, so does the overall equipment loss. The strength in correlation, ranges from {round_sig(v[1])} ({k[1]}) \\\n",
    "to {round_sig(v[-1])} ({k[-1]}). The median correlation is {round_sig(m[-3])} falling between {k[6]}s and {k[7]}s. The \\\n",
    "standard deviation is {round_sig(m[2])} which indicated that the there is not much variability in the data; all points seem \\\n",
    "to be close to the mean or average correlation. \\n\\n\\\n",
    "It is then valid to conclude that as the invasion continues, and POW increases so will overall equipment loss especially \\\n",
    "the loss of {k[1]}s by at least {round_sig(m[1])} when compared to POW. Please continue to pray for the Ukrainians and \\\n",
    "their families as they fight to cope in these times.\")"
   ]
  },
  {
   "cell_type": "markdown",
   "id": "8510ee29",
   "metadata": {
    "papermill": {
     "duration": 0.044571,
     "end_time": "2022-05-28T01:07:05.211069",
     "exception": false,
     "start_time": "2022-05-28T01:07:05.166498",
     "status": "completed"
    },
    "tags": []
   },
   "source": [
    "<!-- It should be noted that the strongest correlation exists not between the equipmet type with the highest loss({}) but with the type that had the ({}) highest loss. -->\n"
   ]
  },
  {
   "cell_type": "markdown",
   "id": "c47233e1",
   "metadata": {
    "execution": {
     "iopub.execute_input": "2022-05-05T19:10:51.895898Z",
     "iopub.status.busy": "2022-05-05T19:10:51.895499Z",
     "iopub.status.idle": "2022-05-05T19:10:51.919286Z",
     "shell.execute_reply": "2022-05-05T19:10:51.918598Z",
     "shell.execute_reply.started": "2022-05-05T19:10:51.895788Z"
    },
    "papermill": {
     "duration": 0.043219,
     "end_time": "2022-05-28T01:07:05.307118",
     "exception": false,
     "start_time": "2022-05-28T01:07:05.263899",
     "status": "completed"
    },
    "tags": []
   },
   "source": [
    "<div style=\"color:white;display:fill;border-radius:12px;\n",
    "            background-color:#323232;font-size:150%;\n",
    "            font-family:Georgia;letter-spacing:0.5px\">\n",
    "    <p style=\"padding: 8px;color:white;\"><b>- Thank you</b></p>\n",
    "</div>\n"
   ]
  },
  {
   "cell_type": "markdown",
   "id": "d85bd564",
   "metadata": {
    "papermill": {
     "duration": 0.044771,
     "end_time": "2022-05-28T01:07:05.395396",
     "exception": false,
     "start_time": "2022-05-28T01:07:05.350625",
     "status": "completed"
    },
    "tags": []
   },
   "source": []
  }
 ],
 "metadata": {
  "kernelspec": {
   "display_name": "Python 3",
   "language": "python",
   "name": "python3"
  },
  "language_info": {
   "codemirror_mode": {
    "name": "ipython",
    "version": 3
   },
   "file_extension": ".py",
   "mimetype": "text/x-python",
   "name": "python",
   "nbconvert_exporter": "python",
   "pygments_lexer": "ipython3",
   "version": "3.7.12"
  },
  "papermill": {
   "default_parameters": {},
   "duration": 18.850126,
   "end_time": "2022-05-28T01:07:06.550568",
   "environment_variables": {},
   "exception": null,
   "input_path": "__notebook__.ipynb",
   "output_path": "__notebook__.ipynb",
   "parameters": {},
   "start_time": "2022-05-28T01:06:47.700442",
   "version": "2.3.3"
  }
 },
 "nbformat": 4,
 "nbformat_minor": 5
}
